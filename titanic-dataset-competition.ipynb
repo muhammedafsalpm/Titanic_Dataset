{
 "cells": [
  {
   "cell_type": "markdown",
   "id": "8db7cf57",
   "metadata": {
    "papermill": {
     "duration": 0.018086,
     "end_time": "2024-11-07T08:39:13.887136",
     "exception": false,
     "start_time": "2024-11-07T08:39:13.869050",
     "status": "completed"
    },
    "tags": []
   },
   "source": [
    "# **Titanic Dataset**"
   ]
  },
  {
   "cell_type": "code",
   "execution_count": 1,
   "id": "7dcc77b5",
   "metadata": {
    "_cell_guid": "b1076dfc-b9ad-4769-8c92-a6c4dae69d19",
    "_uuid": "8f2839f25d086af736a60e9eeb907d3b93b6e0e5",
    "execution": {
     "iopub.execute_input": "2024-11-07T08:39:13.919470Z",
     "iopub.status.busy": "2024-11-07T08:39:13.918996Z",
     "iopub.status.idle": "2024-11-07T08:39:16.617905Z",
     "shell.execute_reply": "2024-11-07T08:39:16.616552Z"
    },
    "papermill": {
     "duration": 2.719091,
     "end_time": "2024-11-07T08:39:16.620946",
     "exception": false,
     "start_time": "2024-11-07T08:39:13.901855",
     "status": "completed"
    },
    "tags": []
   },
   "outputs": [
    {
     "name": "stdout",
     "output_type": "stream",
     "text": [
      "/kaggle/input/titanic/train.csv\n",
      "/kaggle/input/titanic/test.csv\n",
      "/kaggle/input/titanic/gender_submission.csv\n"
     ]
    }
   ],
   "source": [
    "# This Python 3 environment comes with many helpful analytics libraries installed\n",
    "# It is defined by the kaggle/python Docker image: https://github.com/kaggle/docker-python\n",
    "# For example, here's several helpful packages to load\n",
    "\n",
    "import numpy as np # linear algebra\n",
    "import pandas as pd # data processing, CSV file I/O (e.g. pd.read_csv)\n",
    "import seaborn as sns \n",
    "import matplotlib.pyplot as plt\n",
    "\n",
    "# Input data files are available in the read-only \"../input/\" directory\n",
    "# For example, running this (by clicking run or pressing Shift+Enter) will list all files under the input directory\n",
    "\n",
    "import os\n",
    "for dirname, _, filenames in os.walk('/kaggle/input'):\n",
    "    for filename in filenames:\n",
    "        print(os.path.join(dirname, filename))\n",
    "\n",
    "# You can write up to 20GB to the current directory (/kaggle/working/) that gets preserved as output when you create a version using \"Save & Run All\" \n",
    "# You can also write temporary files to /kaggle/temp/, but they won't be saved outside of the current session"
   ]
  },
  {
   "cell_type": "markdown",
   "id": "7ba51f34",
   "metadata": {
    "papermill": {
     "duration": 0.014371,
     "end_time": "2024-11-07T08:39:16.650305",
     "exception": false,
     "start_time": "2024-11-07T08:39:16.635934",
     "status": "completed"
    },
    "tags": []
   },
   "source": [
    "# **1. Understanding Dataset**"
   ]
  },
  {
   "cell_type": "code",
   "execution_count": 2,
   "id": "258892cb",
   "metadata": {
    "execution": {
     "iopub.execute_input": "2024-11-07T08:39:16.682146Z",
     "iopub.status.busy": "2024-11-07T08:39:16.681178Z",
     "iopub.status.idle": "2024-11-07T08:39:16.725778Z",
     "shell.execute_reply": "2024-11-07T08:39:16.724724Z"
    },
    "papermill": {
     "duration": 0.06357,
     "end_time": "2024-11-07T08:39:16.728559",
     "exception": false,
     "start_time": "2024-11-07T08:39:16.664989",
     "status": "completed"
    },
    "tags": []
   },
   "outputs": [
    {
     "data": {
      "text/html": [
       "<div>\n",
       "<style scoped>\n",
       "    .dataframe tbody tr th:only-of-type {\n",
       "        vertical-align: middle;\n",
       "    }\n",
       "\n",
       "    .dataframe tbody tr th {\n",
       "        vertical-align: top;\n",
       "    }\n",
       "\n",
       "    .dataframe thead th {\n",
       "        text-align: right;\n",
       "    }\n",
       "</style>\n",
       "<table border=\"1\" class=\"dataframe\">\n",
       "  <thead>\n",
       "    <tr style=\"text-align: right;\">\n",
       "      <th></th>\n",
       "      <th>PassengerId</th>\n",
       "      <th>Survived</th>\n",
       "      <th>Pclass</th>\n",
       "      <th>Name</th>\n",
       "      <th>Sex</th>\n",
       "      <th>Age</th>\n",
       "      <th>SibSp</th>\n",
       "      <th>Parch</th>\n",
       "      <th>Ticket</th>\n",
       "      <th>Fare</th>\n",
       "      <th>Cabin</th>\n",
       "      <th>Embarked</th>\n",
       "    </tr>\n",
       "  </thead>\n",
       "  <tbody>\n",
       "    <tr>\n",
       "      <th>0</th>\n",
       "      <td>1</td>\n",
       "      <td>0</td>\n",
       "      <td>3</td>\n",
       "      <td>Braund, Mr. Owen Harris</td>\n",
       "      <td>male</td>\n",
       "      <td>22.0</td>\n",
       "      <td>1</td>\n",
       "      <td>0</td>\n",
       "      <td>A/5 21171</td>\n",
       "      <td>7.2500</td>\n",
       "      <td>NaN</td>\n",
       "      <td>S</td>\n",
       "    </tr>\n",
       "    <tr>\n",
       "      <th>1</th>\n",
       "      <td>2</td>\n",
       "      <td>1</td>\n",
       "      <td>1</td>\n",
       "      <td>Cumings, Mrs. John Bradley (Florence Briggs Th...</td>\n",
       "      <td>female</td>\n",
       "      <td>38.0</td>\n",
       "      <td>1</td>\n",
       "      <td>0</td>\n",
       "      <td>PC 17599</td>\n",
       "      <td>71.2833</td>\n",
       "      <td>C85</td>\n",
       "      <td>C</td>\n",
       "    </tr>\n",
       "    <tr>\n",
       "      <th>2</th>\n",
       "      <td>3</td>\n",
       "      <td>1</td>\n",
       "      <td>3</td>\n",
       "      <td>Heikkinen, Miss. Laina</td>\n",
       "      <td>female</td>\n",
       "      <td>26.0</td>\n",
       "      <td>0</td>\n",
       "      <td>0</td>\n",
       "      <td>STON/O2. 3101282</td>\n",
       "      <td>7.9250</td>\n",
       "      <td>NaN</td>\n",
       "      <td>S</td>\n",
       "    </tr>\n",
       "    <tr>\n",
       "      <th>3</th>\n",
       "      <td>4</td>\n",
       "      <td>1</td>\n",
       "      <td>1</td>\n",
       "      <td>Futrelle, Mrs. Jacques Heath (Lily May Peel)</td>\n",
       "      <td>female</td>\n",
       "      <td>35.0</td>\n",
       "      <td>1</td>\n",
       "      <td>0</td>\n",
       "      <td>113803</td>\n",
       "      <td>53.1000</td>\n",
       "      <td>C123</td>\n",
       "      <td>S</td>\n",
       "    </tr>\n",
       "    <tr>\n",
       "      <th>4</th>\n",
       "      <td>5</td>\n",
       "      <td>0</td>\n",
       "      <td>3</td>\n",
       "      <td>Allen, Mr. William Henry</td>\n",
       "      <td>male</td>\n",
       "      <td>35.0</td>\n",
       "      <td>0</td>\n",
       "      <td>0</td>\n",
       "      <td>373450</td>\n",
       "      <td>8.0500</td>\n",
       "      <td>NaN</td>\n",
       "      <td>S</td>\n",
       "    </tr>\n",
       "  </tbody>\n",
       "</table>\n",
       "</div>"
      ],
      "text/plain": [
       "   PassengerId  Survived  Pclass  \\\n",
       "0            1         0       3   \n",
       "1            2         1       1   \n",
       "2            3         1       3   \n",
       "3            4         1       1   \n",
       "4            5         0       3   \n",
       "\n",
       "                                                Name     Sex   Age  SibSp  \\\n",
       "0                            Braund, Mr. Owen Harris    male  22.0      1   \n",
       "1  Cumings, Mrs. John Bradley (Florence Briggs Th...  female  38.0      1   \n",
       "2                             Heikkinen, Miss. Laina  female  26.0      0   \n",
       "3       Futrelle, Mrs. Jacques Heath (Lily May Peel)  female  35.0      1   \n",
       "4                           Allen, Mr. William Henry    male  35.0      0   \n",
       "\n",
       "   Parch            Ticket     Fare Cabin Embarked  \n",
       "0      0         A/5 21171   7.2500   NaN        S  \n",
       "1      0          PC 17599  71.2833   C85        C  \n",
       "2      0  STON/O2. 3101282   7.9250   NaN        S  \n",
       "3      0            113803  53.1000  C123        S  \n",
       "4      0            373450   8.0500   NaN        S  "
      ]
     },
     "execution_count": 2,
     "metadata": {},
     "output_type": "execute_result"
    }
   ],
   "source": [
    "train_data = pd.read_csv(\"/kaggle/input/titanic/train.csv\")\n",
    "train_data.head()"
   ]
  },
  {
   "cell_type": "code",
   "execution_count": 3,
   "id": "0cdf9323",
   "metadata": {
    "execution": {
     "iopub.execute_input": "2024-11-07T08:39:16.760359Z",
     "iopub.status.busy": "2024-11-07T08:39:16.759936Z",
     "iopub.status.idle": "2024-11-07T08:39:16.783298Z",
     "shell.execute_reply": "2024-11-07T08:39:16.782180Z"
    },
    "papermill": {
     "duration": 0.041738,
     "end_time": "2024-11-07T08:39:16.785572",
     "exception": false,
     "start_time": "2024-11-07T08:39:16.743834",
     "status": "completed"
    },
    "tags": []
   },
   "outputs": [
    {
     "data": {
      "text/html": [
       "<div>\n",
       "<style scoped>\n",
       "    .dataframe tbody tr th:only-of-type {\n",
       "        vertical-align: middle;\n",
       "    }\n",
       "\n",
       "    .dataframe tbody tr th {\n",
       "        vertical-align: top;\n",
       "    }\n",
       "\n",
       "    .dataframe thead th {\n",
       "        text-align: right;\n",
       "    }\n",
       "</style>\n",
       "<table border=\"1\" class=\"dataframe\">\n",
       "  <thead>\n",
       "    <tr style=\"text-align: right;\">\n",
       "      <th></th>\n",
       "      <th>PassengerId</th>\n",
       "      <th>Pclass</th>\n",
       "      <th>Name</th>\n",
       "      <th>Sex</th>\n",
       "      <th>Age</th>\n",
       "      <th>SibSp</th>\n",
       "      <th>Parch</th>\n",
       "      <th>Ticket</th>\n",
       "      <th>Fare</th>\n",
       "      <th>Cabin</th>\n",
       "      <th>Embarked</th>\n",
       "    </tr>\n",
       "  </thead>\n",
       "  <tbody>\n",
       "    <tr>\n",
       "      <th>0</th>\n",
       "      <td>892</td>\n",
       "      <td>3</td>\n",
       "      <td>Kelly, Mr. James</td>\n",
       "      <td>male</td>\n",
       "      <td>34.5</td>\n",
       "      <td>0</td>\n",
       "      <td>0</td>\n",
       "      <td>330911</td>\n",
       "      <td>7.8292</td>\n",
       "      <td>NaN</td>\n",
       "      <td>Q</td>\n",
       "    </tr>\n",
       "    <tr>\n",
       "      <th>1</th>\n",
       "      <td>893</td>\n",
       "      <td>3</td>\n",
       "      <td>Wilkes, Mrs. James (Ellen Needs)</td>\n",
       "      <td>female</td>\n",
       "      <td>47.0</td>\n",
       "      <td>1</td>\n",
       "      <td>0</td>\n",
       "      <td>363272</td>\n",
       "      <td>7.0000</td>\n",
       "      <td>NaN</td>\n",
       "      <td>S</td>\n",
       "    </tr>\n",
       "    <tr>\n",
       "      <th>2</th>\n",
       "      <td>894</td>\n",
       "      <td>2</td>\n",
       "      <td>Myles, Mr. Thomas Francis</td>\n",
       "      <td>male</td>\n",
       "      <td>62.0</td>\n",
       "      <td>0</td>\n",
       "      <td>0</td>\n",
       "      <td>240276</td>\n",
       "      <td>9.6875</td>\n",
       "      <td>NaN</td>\n",
       "      <td>Q</td>\n",
       "    </tr>\n",
       "    <tr>\n",
       "      <th>3</th>\n",
       "      <td>895</td>\n",
       "      <td>3</td>\n",
       "      <td>Wirz, Mr. Albert</td>\n",
       "      <td>male</td>\n",
       "      <td>27.0</td>\n",
       "      <td>0</td>\n",
       "      <td>0</td>\n",
       "      <td>315154</td>\n",
       "      <td>8.6625</td>\n",
       "      <td>NaN</td>\n",
       "      <td>S</td>\n",
       "    </tr>\n",
       "    <tr>\n",
       "      <th>4</th>\n",
       "      <td>896</td>\n",
       "      <td>3</td>\n",
       "      <td>Hirvonen, Mrs. Alexander (Helga E Lindqvist)</td>\n",
       "      <td>female</td>\n",
       "      <td>22.0</td>\n",
       "      <td>1</td>\n",
       "      <td>1</td>\n",
       "      <td>3101298</td>\n",
       "      <td>12.2875</td>\n",
       "      <td>NaN</td>\n",
       "      <td>S</td>\n",
       "    </tr>\n",
       "  </tbody>\n",
       "</table>\n",
       "</div>"
      ],
      "text/plain": [
       "   PassengerId  Pclass                                          Name     Sex  \\\n",
       "0          892       3                              Kelly, Mr. James    male   \n",
       "1          893       3              Wilkes, Mrs. James (Ellen Needs)  female   \n",
       "2          894       2                     Myles, Mr. Thomas Francis    male   \n",
       "3          895       3                              Wirz, Mr. Albert    male   \n",
       "4          896       3  Hirvonen, Mrs. Alexander (Helga E Lindqvist)  female   \n",
       "\n",
       "    Age  SibSp  Parch   Ticket     Fare Cabin Embarked  \n",
       "0  34.5      0      0   330911   7.8292   NaN        Q  \n",
       "1  47.0      1      0   363272   7.0000   NaN        S  \n",
       "2  62.0      0      0   240276   9.6875   NaN        Q  \n",
       "3  27.0      0      0   315154   8.6625   NaN        S  \n",
       "4  22.0      1      1  3101298  12.2875   NaN        S  "
      ]
     },
     "execution_count": 3,
     "metadata": {},
     "output_type": "execute_result"
    }
   ],
   "source": [
    "test_data = pd.read_csv(\"/kaggle/input/titanic/test.csv\")\n",
    "test_data.head()"
   ]
  },
  {
   "cell_type": "code",
   "execution_count": 4,
   "id": "86608fd8",
   "metadata": {
    "execution": {
     "iopub.execute_input": "2024-11-07T08:39:16.818227Z",
     "iopub.status.busy": "2024-11-07T08:39:16.817295Z",
     "iopub.status.idle": "2024-11-07T08:39:16.824547Z",
     "shell.execute_reply": "2024-11-07T08:39:16.823306Z"
    },
    "papermill": {
     "duration": 0.025892,
     "end_time": "2024-11-07T08:39:16.826776",
     "exception": false,
     "start_time": "2024-11-07T08:39:16.800884",
     "status": "completed"
    },
    "tags": []
   },
   "outputs": [
    {
     "data": {
      "text/plain": [
       "((891, 12), (418, 11))"
      ]
     },
     "execution_count": 4,
     "metadata": {},
     "output_type": "execute_result"
    }
   ],
   "source": [
    "train_data.shape, test_data.shape"
   ]
  },
  {
   "cell_type": "code",
   "execution_count": 5,
   "id": "8bf60eb4",
   "metadata": {
    "execution": {
     "iopub.execute_input": "2024-11-07T08:39:16.860281Z",
     "iopub.status.busy": "2024-11-07T08:39:16.859385Z",
     "iopub.status.idle": "2024-11-07T08:39:16.889449Z",
     "shell.execute_reply": "2024-11-07T08:39:16.888219Z"
    },
    "papermill": {
     "duration": 0.050024,
     "end_time": "2024-11-07T08:39:16.892324",
     "exception": false,
     "start_time": "2024-11-07T08:39:16.842300",
     "status": "completed"
    },
    "tags": []
   },
   "outputs": [
    {
     "name": "stdout",
     "output_type": "stream",
     "text": [
      "<class 'pandas.core.frame.DataFrame'>\n",
      "RangeIndex: 891 entries, 0 to 890\n",
      "Data columns (total 12 columns):\n",
      " #   Column       Non-Null Count  Dtype  \n",
      "---  ------       --------------  -----  \n",
      " 0   PassengerId  891 non-null    int64  \n",
      " 1   Survived     891 non-null    int64  \n",
      " 2   Pclass       891 non-null    int64  \n",
      " 3   Name         891 non-null    object \n",
      " 4   Sex          891 non-null    object \n",
      " 5   Age          714 non-null    float64\n",
      " 6   SibSp        891 non-null    int64  \n",
      " 7   Parch        891 non-null    int64  \n",
      " 8   Ticket       891 non-null    object \n",
      " 9   Fare         891 non-null    float64\n",
      " 10  Cabin        204 non-null    object \n",
      " 11  Embarked     889 non-null    object \n",
      "dtypes: float64(2), int64(5), object(5)\n",
      "memory usage: 83.7+ KB\n"
     ]
    }
   ],
   "source": [
    "train_data.info()"
   ]
  },
  {
   "cell_type": "code",
   "execution_count": 6,
   "id": "3f75fdd1",
   "metadata": {
    "execution": {
     "iopub.execute_input": "2024-11-07T08:39:16.926019Z",
     "iopub.status.busy": "2024-11-07T08:39:16.925598Z",
     "iopub.status.idle": "2024-11-07T08:39:16.939152Z",
     "shell.execute_reply": "2024-11-07T08:39:16.937813Z"
    },
    "papermill": {
     "duration": 0.033591,
     "end_time": "2024-11-07T08:39:16.941983",
     "exception": false,
     "start_time": "2024-11-07T08:39:16.908392",
     "status": "completed"
    },
    "tags": []
   },
   "outputs": [
    {
     "name": "stdout",
     "output_type": "stream",
     "text": [
      "<class 'pandas.core.frame.DataFrame'>\n",
      "RangeIndex: 418 entries, 0 to 417\n",
      "Data columns (total 11 columns):\n",
      " #   Column       Non-Null Count  Dtype  \n",
      "---  ------       --------------  -----  \n",
      " 0   PassengerId  418 non-null    int64  \n",
      " 1   Pclass       418 non-null    int64  \n",
      " 2   Name         418 non-null    object \n",
      " 3   Sex          418 non-null    object \n",
      " 4   Age          332 non-null    float64\n",
      " 5   SibSp        418 non-null    int64  \n",
      " 6   Parch        418 non-null    int64  \n",
      " 7   Ticket       418 non-null    object \n",
      " 8   Fare         417 non-null    float64\n",
      " 9   Cabin        91 non-null     object \n",
      " 10  Embarked     418 non-null    object \n",
      "dtypes: float64(2), int64(4), object(5)\n",
      "memory usage: 36.0+ KB\n"
     ]
    }
   ],
   "source": [
    "test_data.info()"
   ]
  },
  {
   "cell_type": "code",
   "execution_count": 7,
   "id": "0f2177d9",
   "metadata": {
    "execution": {
     "iopub.execute_input": "2024-11-07T08:39:16.975106Z",
     "iopub.status.busy": "2024-11-07T08:39:16.974646Z",
     "iopub.status.idle": "2024-11-07T08:39:16.984548Z",
     "shell.execute_reply": "2024-11-07T08:39:16.983306Z"
    },
    "papermill": {
     "duration": 0.029114,
     "end_time": "2024-11-07T08:39:16.986864",
     "exception": false,
     "start_time": "2024-11-07T08:39:16.957750",
     "status": "completed"
    },
    "tags": []
   },
   "outputs": [
    {
     "data": {
      "text/plain": [
       "PassengerId      0\n",
       "Survived         0\n",
       "Pclass           0\n",
       "Name             0\n",
       "Sex              0\n",
       "Age            177\n",
       "SibSp            0\n",
       "Parch            0\n",
       "Ticket           0\n",
       "Fare             0\n",
       "Cabin          687\n",
       "Embarked         2\n",
       "dtype: int64"
      ]
     },
     "execution_count": 7,
     "metadata": {},
     "output_type": "execute_result"
    }
   ],
   "source": [
    "train_data.isna().sum()"
   ]
  },
  {
   "cell_type": "code",
   "execution_count": 8,
   "id": "5c6651e1",
   "metadata": {
    "execution": {
     "iopub.execute_input": "2024-11-07T08:39:17.020423Z",
     "iopub.status.busy": "2024-11-07T08:39:17.019984Z",
     "iopub.status.idle": "2024-11-07T08:39:17.029240Z",
     "shell.execute_reply": "2024-11-07T08:39:17.028207Z"
    },
    "papermill": {
     "duration": 0.028777,
     "end_time": "2024-11-07T08:39:17.031585",
     "exception": false,
     "start_time": "2024-11-07T08:39:17.002808",
     "status": "completed"
    },
    "tags": []
   },
   "outputs": [
    {
     "data": {
      "text/plain": [
       "PassengerId      0\n",
       "Pclass           0\n",
       "Name             0\n",
       "Sex              0\n",
       "Age             86\n",
       "SibSp            0\n",
       "Parch            0\n",
       "Ticket           0\n",
       "Fare             1\n",
       "Cabin          327\n",
       "Embarked         0\n",
       "dtype: int64"
      ]
     },
     "execution_count": 8,
     "metadata": {},
     "output_type": "execute_result"
    }
   ],
   "source": [
    "test_data.isna().sum()"
   ]
  },
  {
   "cell_type": "code",
   "execution_count": 9,
   "id": "41563c10",
   "metadata": {
    "execution": {
     "iopub.execute_input": "2024-11-07T08:39:17.065643Z",
     "iopub.status.busy": "2024-11-07T08:39:17.065224Z",
     "iopub.status.idle": "2024-11-07T08:39:17.098381Z",
     "shell.execute_reply": "2024-11-07T08:39:17.097267Z"
    },
    "papermill": {
     "duration": 0.0531,
     "end_time": "2024-11-07T08:39:17.100939",
     "exception": false,
     "start_time": "2024-11-07T08:39:17.047839",
     "status": "completed"
    },
    "tags": []
   },
   "outputs": [
    {
     "data": {
      "text/html": [
       "<div>\n",
       "<style scoped>\n",
       "    .dataframe tbody tr th:only-of-type {\n",
       "        vertical-align: middle;\n",
       "    }\n",
       "\n",
       "    .dataframe tbody tr th {\n",
       "        vertical-align: top;\n",
       "    }\n",
       "\n",
       "    .dataframe thead th {\n",
       "        text-align: right;\n",
       "    }\n",
       "</style>\n",
       "<table border=\"1\" class=\"dataframe\">\n",
       "  <thead>\n",
       "    <tr style=\"text-align: right;\">\n",
       "      <th></th>\n",
       "      <th>PassengerId</th>\n",
       "      <th>Survived</th>\n",
       "      <th>Pclass</th>\n",
       "      <th>Age</th>\n",
       "      <th>SibSp</th>\n",
       "      <th>Parch</th>\n",
       "      <th>Fare</th>\n",
       "    </tr>\n",
       "  </thead>\n",
       "  <tbody>\n",
       "    <tr>\n",
       "      <th>count</th>\n",
       "      <td>891.000000</td>\n",
       "      <td>891.000000</td>\n",
       "      <td>891.000000</td>\n",
       "      <td>714.000000</td>\n",
       "      <td>891.000000</td>\n",
       "      <td>891.000000</td>\n",
       "      <td>891.000000</td>\n",
       "    </tr>\n",
       "    <tr>\n",
       "      <th>mean</th>\n",
       "      <td>446.000000</td>\n",
       "      <td>0.383838</td>\n",
       "      <td>2.308642</td>\n",
       "      <td>29.699118</td>\n",
       "      <td>0.523008</td>\n",
       "      <td>0.381594</td>\n",
       "      <td>32.204208</td>\n",
       "    </tr>\n",
       "    <tr>\n",
       "      <th>std</th>\n",
       "      <td>257.353842</td>\n",
       "      <td>0.486592</td>\n",
       "      <td>0.836071</td>\n",
       "      <td>14.526497</td>\n",
       "      <td>1.102743</td>\n",
       "      <td>0.806057</td>\n",
       "      <td>49.693429</td>\n",
       "    </tr>\n",
       "    <tr>\n",
       "      <th>min</th>\n",
       "      <td>1.000000</td>\n",
       "      <td>0.000000</td>\n",
       "      <td>1.000000</td>\n",
       "      <td>0.420000</td>\n",
       "      <td>0.000000</td>\n",
       "      <td>0.000000</td>\n",
       "      <td>0.000000</td>\n",
       "    </tr>\n",
       "    <tr>\n",
       "      <th>25%</th>\n",
       "      <td>223.500000</td>\n",
       "      <td>0.000000</td>\n",
       "      <td>2.000000</td>\n",
       "      <td>20.125000</td>\n",
       "      <td>0.000000</td>\n",
       "      <td>0.000000</td>\n",
       "      <td>7.910400</td>\n",
       "    </tr>\n",
       "    <tr>\n",
       "      <th>50%</th>\n",
       "      <td>446.000000</td>\n",
       "      <td>0.000000</td>\n",
       "      <td>3.000000</td>\n",
       "      <td>28.000000</td>\n",
       "      <td>0.000000</td>\n",
       "      <td>0.000000</td>\n",
       "      <td>14.454200</td>\n",
       "    </tr>\n",
       "    <tr>\n",
       "      <th>75%</th>\n",
       "      <td>668.500000</td>\n",
       "      <td>1.000000</td>\n",
       "      <td>3.000000</td>\n",
       "      <td>38.000000</td>\n",
       "      <td>1.000000</td>\n",
       "      <td>0.000000</td>\n",
       "      <td>31.000000</td>\n",
       "    </tr>\n",
       "    <tr>\n",
       "      <th>max</th>\n",
       "      <td>891.000000</td>\n",
       "      <td>1.000000</td>\n",
       "      <td>3.000000</td>\n",
       "      <td>80.000000</td>\n",
       "      <td>8.000000</td>\n",
       "      <td>6.000000</td>\n",
       "      <td>512.329200</td>\n",
       "    </tr>\n",
       "  </tbody>\n",
       "</table>\n",
       "</div>"
      ],
      "text/plain": [
       "       PassengerId    Survived      Pclass         Age       SibSp  \\\n",
       "count   891.000000  891.000000  891.000000  714.000000  891.000000   \n",
       "mean    446.000000    0.383838    2.308642   29.699118    0.523008   \n",
       "std     257.353842    0.486592    0.836071   14.526497    1.102743   \n",
       "min       1.000000    0.000000    1.000000    0.420000    0.000000   \n",
       "25%     223.500000    0.000000    2.000000   20.125000    0.000000   \n",
       "50%     446.000000    0.000000    3.000000   28.000000    0.000000   \n",
       "75%     668.500000    1.000000    3.000000   38.000000    1.000000   \n",
       "max     891.000000    1.000000    3.000000   80.000000    8.000000   \n",
       "\n",
       "            Parch        Fare  \n",
       "count  891.000000  891.000000  \n",
       "mean     0.381594   32.204208  \n",
       "std      0.806057   49.693429  \n",
       "min      0.000000    0.000000  \n",
       "25%      0.000000    7.910400  \n",
       "50%      0.000000   14.454200  \n",
       "75%      0.000000   31.000000  \n",
       "max      6.000000  512.329200  "
      ]
     },
     "execution_count": 9,
     "metadata": {},
     "output_type": "execute_result"
    }
   ],
   "source": [
    "train_data.describe()"
   ]
  },
  {
   "cell_type": "code",
   "execution_count": 10,
   "id": "cd63af68",
   "metadata": {
    "execution": {
     "iopub.execute_input": "2024-11-07T08:39:17.135704Z",
     "iopub.status.busy": "2024-11-07T08:39:17.135258Z",
     "iopub.status.idle": "2024-11-07T08:39:17.157962Z",
     "shell.execute_reply": "2024-11-07T08:39:17.156765Z"
    },
    "papermill": {
     "duration": 0.043099,
     "end_time": "2024-11-07T08:39:17.160682",
     "exception": false,
     "start_time": "2024-11-07T08:39:17.117583",
     "status": "completed"
    },
    "tags": []
   },
   "outputs": [
    {
     "data": {
      "text/html": [
       "<div>\n",
       "<style scoped>\n",
       "    .dataframe tbody tr th:only-of-type {\n",
       "        vertical-align: middle;\n",
       "    }\n",
       "\n",
       "    .dataframe tbody tr th {\n",
       "        vertical-align: top;\n",
       "    }\n",
       "\n",
       "    .dataframe thead th {\n",
       "        text-align: right;\n",
       "    }\n",
       "</style>\n",
       "<table border=\"1\" class=\"dataframe\">\n",
       "  <thead>\n",
       "    <tr style=\"text-align: right;\">\n",
       "      <th></th>\n",
       "      <th>Name</th>\n",
       "      <th>Sex</th>\n",
       "      <th>Ticket</th>\n",
       "      <th>Cabin</th>\n",
       "      <th>Embarked</th>\n",
       "    </tr>\n",
       "  </thead>\n",
       "  <tbody>\n",
       "    <tr>\n",
       "      <th>count</th>\n",
       "      <td>891</td>\n",
       "      <td>891</td>\n",
       "      <td>891</td>\n",
       "      <td>204</td>\n",
       "      <td>889</td>\n",
       "    </tr>\n",
       "    <tr>\n",
       "      <th>unique</th>\n",
       "      <td>891</td>\n",
       "      <td>2</td>\n",
       "      <td>681</td>\n",
       "      <td>147</td>\n",
       "      <td>3</td>\n",
       "    </tr>\n",
       "    <tr>\n",
       "      <th>top</th>\n",
       "      <td>Braund, Mr. Owen Harris</td>\n",
       "      <td>male</td>\n",
       "      <td>347082</td>\n",
       "      <td>B96 B98</td>\n",
       "      <td>S</td>\n",
       "    </tr>\n",
       "    <tr>\n",
       "      <th>freq</th>\n",
       "      <td>1</td>\n",
       "      <td>577</td>\n",
       "      <td>7</td>\n",
       "      <td>4</td>\n",
       "      <td>644</td>\n",
       "    </tr>\n",
       "  </tbody>\n",
       "</table>\n",
       "</div>"
      ],
      "text/plain": [
       "                           Name   Sex  Ticket    Cabin Embarked\n",
       "count                       891   891     891      204      889\n",
       "unique                      891     2     681      147        3\n",
       "top     Braund, Mr. Owen Harris  male  347082  B96 B98        S\n",
       "freq                          1   577       7        4      644"
      ]
     },
     "execution_count": 10,
     "metadata": {},
     "output_type": "execute_result"
    }
   ],
   "source": [
    "train_data.describe(include=['O'])"
   ]
  },
  {
   "cell_type": "markdown",
   "id": "f35b36d0",
   "metadata": {
    "papermill": {
     "duration": 0.016824,
     "end_time": "2024-11-07T08:39:17.194824",
     "exception": false,
     "start_time": "2024-11-07T08:39:17.178000",
     "status": "completed"
    },
    "tags": []
   },
   "source": [
    "# **2. Data Cleaning and Data Transform**"
   ]
  },
  {
   "cell_type": "code",
   "execution_count": 11,
   "id": "0c087c07",
   "metadata": {
    "execution": {
     "iopub.execute_input": "2024-11-07T08:39:17.230240Z",
     "iopub.status.busy": "2024-11-07T08:39:17.229834Z",
     "iopub.status.idle": "2024-11-07T08:39:17.240600Z",
     "shell.execute_reply": "2024-11-07T08:39:17.239427Z"
    },
    "papermill": {
     "duration": 0.031215,
     "end_time": "2024-11-07T08:39:17.242857",
     "exception": false,
     "start_time": "2024-11-07T08:39:17.211642",
     "status": "completed"
    },
    "tags": []
   },
   "outputs": [],
   "source": [
    "train_data = train_data.drop(['Ticket', 'Cabin'], axis=1)\n",
    "test_data = test_data.drop(['Ticket', 'Cabin'], axis=1)"
   ]
  },
  {
   "cell_type": "code",
   "execution_count": 12,
   "id": "7e011719",
   "metadata": {
    "execution": {
     "iopub.execute_input": "2024-11-07T08:39:17.278591Z",
     "iopub.status.busy": "2024-11-07T08:39:17.278144Z",
     "iopub.status.idle": "2024-11-07T08:39:17.295386Z",
     "shell.execute_reply": "2024-11-07T08:39:17.294162Z"
    },
    "papermill": {
     "duration": 0.037793,
     "end_time": "2024-11-07T08:39:17.297833",
     "exception": false,
     "start_time": "2024-11-07T08:39:17.260040",
     "status": "completed"
    },
    "tags": []
   },
   "outputs": [
    {
     "data": {
      "text/html": [
       "<div>\n",
       "<style scoped>\n",
       "    .dataframe tbody tr th:only-of-type {\n",
       "        vertical-align: middle;\n",
       "    }\n",
       "\n",
       "    .dataframe tbody tr th {\n",
       "        vertical-align: top;\n",
       "    }\n",
       "\n",
       "    .dataframe thead th {\n",
       "        text-align: right;\n",
       "    }\n",
       "</style>\n",
       "<table border=\"1\" class=\"dataframe\">\n",
       "  <thead>\n",
       "    <tr style=\"text-align: right;\">\n",
       "      <th></th>\n",
       "      <th>PassengerId</th>\n",
       "      <th>Survived</th>\n",
       "      <th>Pclass</th>\n",
       "      <th>Name</th>\n",
       "      <th>Sex</th>\n",
       "      <th>Age</th>\n",
       "      <th>SibSp</th>\n",
       "      <th>Parch</th>\n",
       "      <th>Fare</th>\n",
       "      <th>Embarked</th>\n",
       "    </tr>\n",
       "  </thead>\n",
       "  <tbody>\n",
       "    <tr>\n",
       "      <th>0</th>\n",
       "      <td>1</td>\n",
       "      <td>0</td>\n",
       "      <td>3</td>\n",
       "      <td>Braund, Mr. Owen Harris</td>\n",
       "      <td>male</td>\n",
       "      <td>22.0</td>\n",
       "      <td>1</td>\n",
       "      <td>0</td>\n",
       "      <td>7.2500</td>\n",
       "      <td>S</td>\n",
       "    </tr>\n",
       "    <tr>\n",
       "      <th>1</th>\n",
       "      <td>2</td>\n",
       "      <td>1</td>\n",
       "      <td>1</td>\n",
       "      <td>Cumings, Mrs. John Bradley (Florence Briggs Th...</td>\n",
       "      <td>female</td>\n",
       "      <td>38.0</td>\n",
       "      <td>1</td>\n",
       "      <td>0</td>\n",
       "      <td>71.2833</td>\n",
       "      <td>C</td>\n",
       "    </tr>\n",
       "    <tr>\n",
       "      <th>2</th>\n",
       "      <td>3</td>\n",
       "      <td>1</td>\n",
       "      <td>3</td>\n",
       "      <td>Heikkinen, Miss. Laina</td>\n",
       "      <td>female</td>\n",
       "      <td>26.0</td>\n",
       "      <td>0</td>\n",
       "      <td>0</td>\n",
       "      <td>7.9250</td>\n",
       "      <td>S</td>\n",
       "    </tr>\n",
       "    <tr>\n",
       "      <th>3</th>\n",
       "      <td>4</td>\n",
       "      <td>1</td>\n",
       "      <td>1</td>\n",
       "      <td>Futrelle, Mrs. Jacques Heath (Lily May Peel)</td>\n",
       "      <td>female</td>\n",
       "      <td>35.0</td>\n",
       "      <td>1</td>\n",
       "      <td>0</td>\n",
       "      <td>53.1000</td>\n",
       "      <td>S</td>\n",
       "    </tr>\n",
       "    <tr>\n",
       "      <th>4</th>\n",
       "      <td>5</td>\n",
       "      <td>0</td>\n",
       "      <td>3</td>\n",
       "      <td>Allen, Mr. William Henry</td>\n",
       "      <td>male</td>\n",
       "      <td>35.0</td>\n",
       "      <td>0</td>\n",
       "      <td>0</td>\n",
       "      <td>8.0500</td>\n",
       "      <td>S</td>\n",
       "    </tr>\n",
       "  </tbody>\n",
       "</table>\n",
       "</div>"
      ],
      "text/plain": [
       "   PassengerId  Survived  Pclass  \\\n",
       "0            1         0       3   \n",
       "1            2         1       1   \n",
       "2            3         1       3   \n",
       "3            4         1       1   \n",
       "4            5         0       3   \n",
       "\n",
       "                                                Name     Sex   Age  SibSp  \\\n",
       "0                            Braund, Mr. Owen Harris    male  22.0      1   \n",
       "1  Cumings, Mrs. John Bradley (Florence Briggs Th...  female  38.0      1   \n",
       "2                             Heikkinen, Miss. Laina  female  26.0      0   \n",
       "3       Futrelle, Mrs. Jacques Heath (Lily May Peel)  female  35.0      1   \n",
       "4                           Allen, Mr. William Henry    male  35.0      0   \n",
       "\n",
       "   Parch     Fare Embarked  \n",
       "0      0   7.2500        S  \n",
       "1      0  71.2833        C  \n",
       "2      0   7.9250        S  \n",
       "3      0  53.1000        S  \n",
       "4      0   8.0500        S  "
      ]
     },
     "execution_count": 12,
     "metadata": {},
     "output_type": "execute_result"
    }
   ],
   "source": [
    "train_data.head()"
   ]
  },
  {
   "cell_type": "code",
   "execution_count": 13,
   "id": "1132e064",
   "metadata": {
    "execution": {
     "iopub.execute_input": "2024-11-07T08:39:17.335297Z",
     "iopub.status.busy": "2024-11-07T08:39:17.334218Z",
     "iopub.status.idle": "2024-11-07T08:39:17.347605Z",
     "shell.execute_reply": "2024-11-07T08:39:17.346257Z"
    },
    "papermill": {
     "duration": 0.034081,
     "end_time": "2024-11-07T08:39:17.349949",
     "exception": false,
     "start_time": "2024-11-07T08:39:17.315868",
     "status": "completed"
    },
    "tags": []
   },
   "outputs": [
    {
     "name": "stdout",
     "output_type": "stream",
     "text": [
      "Number of people embarking in Southampton (S):\n",
      "644\n",
      "Number of people embarking in Cherbourg (C):\n",
      "168\n",
      "Number of people embarking in Queenstown (Q):\n",
      "77\n"
     ]
    }
   ],
   "source": [
    "print(\"Number of people embarking in Southampton (S):\")\n",
    "southampton = train_data[train_data[\"Embarked\"] == \"S\"].shape[0]\n",
    "print(southampton)\n",
    "\n",
    "print(\"Number of people embarking in Cherbourg (C):\")\n",
    "cherbourg = train_data[train_data[\"Embarked\"] == \"C\"].shape[0]\n",
    "print(cherbourg)\n",
    "\n",
    "print(\"Number of people embarking in Queenstown (Q):\")\n",
    "queenstown = train_data[train_data[\"Embarked\"] == \"Q\"].shape[0]\n",
    "print(queenstown)"
   ]
  },
  {
   "cell_type": "code",
   "execution_count": 14,
   "id": "fd463b23",
   "metadata": {
    "execution": {
     "iopub.execute_input": "2024-11-07T08:39:17.387984Z",
     "iopub.status.busy": "2024-11-07T08:39:17.386807Z",
     "iopub.status.idle": "2024-11-07T08:39:17.394697Z",
     "shell.execute_reply": "2024-11-07T08:39:17.393539Z"
    },
    "papermill": {
     "duration": 0.030003,
     "end_time": "2024-11-07T08:39:17.397299",
     "exception": false,
     "start_time": "2024-11-07T08:39:17.367296",
     "status": "completed"
    },
    "tags": []
   },
   "outputs": [],
   "source": [
    "train_data = train_data.fillna({\"Embarked\": \"S\"})"
   ]
  },
  {
   "cell_type": "code",
   "execution_count": 15,
   "id": "d4ff53bc",
   "metadata": {
    "execution": {
     "iopub.execute_input": "2024-11-07T08:39:17.434217Z",
     "iopub.status.busy": "2024-11-07T08:39:17.433769Z",
     "iopub.status.idle": "2024-11-07T08:39:17.439218Z",
     "shell.execute_reply": "2024-11-07T08:39:17.438020Z"
    },
    "papermill": {
     "duration": 0.02655,
     "end_time": "2024-11-07T08:39:17.441683",
     "exception": false,
     "start_time": "2024-11-07T08:39:17.415133",
     "status": "completed"
    },
    "tags": []
   },
   "outputs": [],
   "source": [
    "# Create a combined group of both datasets\n",
    "combine = [train_data, test_data]"
   ]
  },
  {
   "cell_type": "code",
   "execution_count": 16,
   "id": "aef9469c",
   "metadata": {
    "execution": {
     "iopub.execute_input": "2024-11-07T08:39:17.478010Z",
     "iopub.status.busy": "2024-11-07T08:39:17.477591Z",
     "iopub.status.idle": "2024-11-07T08:39:17.508997Z",
     "shell.execute_reply": "2024-11-07T08:39:17.507785Z"
    },
    "papermill": {
     "duration": 0.052621,
     "end_time": "2024-11-07T08:39:17.511693",
     "exception": false,
     "start_time": "2024-11-07T08:39:17.459072",
     "status": "completed"
    },
    "tags": []
   },
   "outputs": [
    {
     "data": {
      "text/html": [
       "<div>\n",
       "<style scoped>\n",
       "    .dataframe tbody tr th:only-of-type {\n",
       "        vertical-align: middle;\n",
       "    }\n",
       "\n",
       "    .dataframe tbody tr th {\n",
       "        vertical-align: top;\n",
       "    }\n",
       "\n",
       "    .dataframe thead th {\n",
       "        text-align: right;\n",
       "    }\n",
       "</style>\n",
       "<table border=\"1\" class=\"dataframe\">\n",
       "  <thead>\n",
       "    <tr style=\"text-align: right;\">\n",
       "      <th>Sex</th>\n",
       "      <th>female</th>\n",
       "      <th>male</th>\n",
       "    </tr>\n",
       "    <tr>\n",
       "      <th>Title</th>\n",
       "      <th></th>\n",
       "      <th></th>\n",
       "    </tr>\n",
       "  </thead>\n",
       "  <tbody>\n",
       "    <tr>\n",
       "      <th>Capt</th>\n",
       "      <td>0</td>\n",
       "      <td>1</td>\n",
       "    </tr>\n",
       "    <tr>\n",
       "      <th>Col</th>\n",
       "      <td>0</td>\n",
       "      <td>2</td>\n",
       "    </tr>\n",
       "    <tr>\n",
       "      <th>Countess</th>\n",
       "      <td>1</td>\n",
       "      <td>0</td>\n",
       "    </tr>\n",
       "    <tr>\n",
       "      <th>Don</th>\n",
       "      <td>0</td>\n",
       "      <td>1</td>\n",
       "    </tr>\n",
       "    <tr>\n",
       "      <th>Dr</th>\n",
       "      <td>1</td>\n",
       "      <td>6</td>\n",
       "    </tr>\n",
       "    <tr>\n",
       "      <th>Jonkheer</th>\n",
       "      <td>0</td>\n",
       "      <td>1</td>\n",
       "    </tr>\n",
       "    <tr>\n",
       "      <th>Lady</th>\n",
       "      <td>1</td>\n",
       "      <td>0</td>\n",
       "    </tr>\n",
       "    <tr>\n",
       "      <th>Major</th>\n",
       "      <td>0</td>\n",
       "      <td>2</td>\n",
       "    </tr>\n",
       "    <tr>\n",
       "      <th>Master</th>\n",
       "      <td>0</td>\n",
       "      <td>40</td>\n",
       "    </tr>\n",
       "    <tr>\n",
       "      <th>Miss</th>\n",
       "      <td>182</td>\n",
       "      <td>0</td>\n",
       "    </tr>\n",
       "    <tr>\n",
       "      <th>Mlle</th>\n",
       "      <td>2</td>\n",
       "      <td>0</td>\n",
       "    </tr>\n",
       "    <tr>\n",
       "      <th>Mme</th>\n",
       "      <td>1</td>\n",
       "      <td>0</td>\n",
       "    </tr>\n",
       "    <tr>\n",
       "      <th>Mr</th>\n",
       "      <td>0</td>\n",
       "      <td>517</td>\n",
       "    </tr>\n",
       "    <tr>\n",
       "      <th>Mrs</th>\n",
       "      <td>125</td>\n",
       "      <td>0</td>\n",
       "    </tr>\n",
       "    <tr>\n",
       "      <th>Ms</th>\n",
       "      <td>1</td>\n",
       "      <td>0</td>\n",
       "    </tr>\n",
       "    <tr>\n",
       "      <th>Rev</th>\n",
       "      <td>0</td>\n",
       "      <td>6</td>\n",
       "    </tr>\n",
       "    <tr>\n",
       "      <th>Sir</th>\n",
       "      <td>0</td>\n",
       "      <td>1</td>\n",
       "    </tr>\n",
       "  </tbody>\n",
       "</table>\n",
       "</div>"
      ],
      "text/plain": [
       "Sex       female  male\n",
       "Title                 \n",
       "Capt           0     1\n",
       "Col            0     2\n",
       "Countess       1     0\n",
       "Don            0     1\n",
       "Dr             1     6\n",
       "Jonkheer       0     1\n",
       "Lady           1     0\n",
       "Major          0     2\n",
       "Master         0    40\n",
       "Miss         182     0\n",
       "Mlle           2     0\n",
       "Mme            1     0\n",
       "Mr             0   517\n",
       "Mrs          125     0\n",
       "Ms             1     0\n",
       "Rev            0     6\n",
       "Sir            0     1"
      ]
     },
     "execution_count": 16,
     "metadata": {},
     "output_type": "execute_result"
    }
   ],
   "source": [
    "for dataset in combine:\n",
    "    dataset['Title'] = dataset.Name.str.extract(' ([A-Za-z]+)\\.', expand=False)\n",
    "\n",
    "pd.crosstab(train_data['Title'], train_data['Sex'])"
   ]
  },
  {
   "cell_type": "code",
   "execution_count": 17,
   "id": "2b63400a",
   "metadata": {
    "execution": {
     "iopub.execute_input": "2024-11-07T08:39:17.548922Z",
     "iopub.status.busy": "2024-11-07T08:39:17.548501Z",
     "iopub.status.idle": "2024-11-07T08:39:17.581431Z",
     "shell.execute_reply": "2024-11-07T08:39:17.580345Z"
    },
    "papermill": {
     "duration": 0.054677,
     "end_time": "2024-11-07T08:39:17.583928",
     "exception": false,
     "start_time": "2024-11-07T08:39:17.529251",
     "status": "completed"
    },
    "tags": []
   },
   "outputs": [
    {
     "data": {
      "text/html": [
       "<div>\n",
       "<style scoped>\n",
       "    .dataframe tbody tr th:only-of-type {\n",
       "        vertical-align: middle;\n",
       "    }\n",
       "\n",
       "    .dataframe tbody tr th {\n",
       "        vertical-align: top;\n",
       "    }\n",
       "\n",
       "    .dataframe thead th {\n",
       "        text-align: right;\n",
       "    }\n",
       "</style>\n",
       "<table border=\"1\" class=\"dataframe\">\n",
       "  <thead>\n",
       "    <tr style=\"text-align: right;\">\n",
       "      <th></th>\n",
       "      <th>Title</th>\n",
       "      <th>Survived</th>\n",
       "    </tr>\n",
       "  </thead>\n",
       "  <tbody>\n",
       "    <tr>\n",
       "      <th>0</th>\n",
       "      <td>Master</td>\n",
       "      <td>0.575000</td>\n",
       "    </tr>\n",
       "    <tr>\n",
       "      <th>1</th>\n",
       "      <td>Miss</td>\n",
       "      <td>0.702703</td>\n",
       "    </tr>\n",
       "    <tr>\n",
       "      <th>2</th>\n",
       "      <td>Mr</td>\n",
       "      <td>0.156673</td>\n",
       "    </tr>\n",
       "    <tr>\n",
       "      <th>3</th>\n",
       "      <td>Mrs</td>\n",
       "      <td>0.793651</td>\n",
       "    </tr>\n",
       "    <tr>\n",
       "      <th>4</th>\n",
       "      <td>Rare</td>\n",
       "      <td>0.285714</td>\n",
       "    </tr>\n",
       "    <tr>\n",
       "      <th>5</th>\n",
       "      <td>Royal</td>\n",
       "      <td>1.000000</td>\n",
       "    </tr>\n",
       "  </tbody>\n",
       "</table>\n",
       "</div>"
      ],
      "text/plain": [
       "    Title  Survived\n",
       "0  Master  0.575000\n",
       "1    Miss  0.702703\n",
       "2      Mr  0.156673\n",
       "3     Mrs  0.793651\n",
       "4    Rare  0.285714\n",
       "5   Royal  1.000000"
      ]
     },
     "execution_count": 17,
     "metadata": {},
     "output_type": "execute_result"
    }
   ],
   "source": [
    "# Replace various titles with more common names\n",
    "for dataset in combine:\n",
    "    dataset['Title'] = dataset['Title'].replace(['Lady', 'Capt', 'Col',\n",
    "    'Don', 'Dr', 'Major', 'Rev', 'Jonkheer', 'Dona'], 'Rare')\n",
    "    \n",
    "    dataset['Title'] = dataset['Title'].replace(['Countess', 'Lady', 'Sir'], 'Royal')\n",
    "    dataset['Title'] = dataset['Title'].replace('Mlle', 'Miss')\n",
    "    dataset['Title'] = dataset['Title'].replace('Ms', 'Miss')\n",
    "    dataset['Title'] = dataset['Title'].replace('Mme', 'Mrs')\n",
    "\n",
    "train_data[['Title', 'Survived']].groupby(['Title'], as_index=False).mean()"
   ]
  },
  {
   "cell_type": "code",
   "execution_count": 18,
   "id": "b164a672",
   "metadata": {
    "execution": {
     "iopub.execute_input": "2024-11-07T08:39:17.621418Z",
     "iopub.status.busy": "2024-11-07T08:39:17.620958Z",
     "iopub.status.idle": "2024-11-07T08:39:17.641602Z",
     "shell.execute_reply": "2024-11-07T08:39:17.640495Z"
    },
    "papermill": {
     "duration": 0.041996,
     "end_time": "2024-11-07T08:39:17.644015",
     "exception": false,
     "start_time": "2024-11-07T08:39:17.602019",
     "status": "completed"
    },
    "tags": []
   },
   "outputs": [
    {
     "data": {
      "text/html": [
       "<div>\n",
       "<style scoped>\n",
       "    .dataframe tbody tr th:only-of-type {\n",
       "        vertical-align: middle;\n",
       "    }\n",
       "\n",
       "    .dataframe tbody tr th {\n",
       "        vertical-align: top;\n",
       "    }\n",
       "\n",
       "    .dataframe thead th {\n",
       "        text-align: right;\n",
       "    }\n",
       "</style>\n",
       "<table border=\"1\" class=\"dataframe\">\n",
       "  <thead>\n",
       "    <tr style=\"text-align: right;\">\n",
       "      <th></th>\n",
       "      <th>PassengerId</th>\n",
       "      <th>Survived</th>\n",
       "      <th>Pclass</th>\n",
       "      <th>Name</th>\n",
       "      <th>Sex</th>\n",
       "      <th>Age</th>\n",
       "      <th>SibSp</th>\n",
       "      <th>Parch</th>\n",
       "      <th>Fare</th>\n",
       "      <th>Embarked</th>\n",
       "      <th>Title</th>\n",
       "    </tr>\n",
       "  </thead>\n",
       "  <tbody>\n",
       "    <tr>\n",
       "      <th>0</th>\n",
       "      <td>1</td>\n",
       "      <td>0</td>\n",
       "      <td>3</td>\n",
       "      <td>Braund, Mr. Owen Harris</td>\n",
       "      <td>male</td>\n",
       "      <td>22.0</td>\n",
       "      <td>1</td>\n",
       "      <td>0</td>\n",
       "      <td>7.2500</td>\n",
       "      <td>S</td>\n",
       "      <td>1</td>\n",
       "    </tr>\n",
       "    <tr>\n",
       "      <th>1</th>\n",
       "      <td>2</td>\n",
       "      <td>1</td>\n",
       "      <td>1</td>\n",
       "      <td>Cumings, Mrs. John Bradley (Florence Briggs Th...</td>\n",
       "      <td>female</td>\n",
       "      <td>38.0</td>\n",
       "      <td>1</td>\n",
       "      <td>0</td>\n",
       "      <td>71.2833</td>\n",
       "      <td>C</td>\n",
       "      <td>3</td>\n",
       "    </tr>\n",
       "    <tr>\n",
       "      <th>2</th>\n",
       "      <td>3</td>\n",
       "      <td>1</td>\n",
       "      <td>3</td>\n",
       "      <td>Heikkinen, Miss. Laina</td>\n",
       "      <td>female</td>\n",
       "      <td>26.0</td>\n",
       "      <td>0</td>\n",
       "      <td>0</td>\n",
       "      <td>7.9250</td>\n",
       "      <td>S</td>\n",
       "      <td>2</td>\n",
       "    </tr>\n",
       "    <tr>\n",
       "      <th>3</th>\n",
       "      <td>4</td>\n",
       "      <td>1</td>\n",
       "      <td>1</td>\n",
       "      <td>Futrelle, Mrs. Jacques Heath (Lily May Peel)</td>\n",
       "      <td>female</td>\n",
       "      <td>35.0</td>\n",
       "      <td>1</td>\n",
       "      <td>0</td>\n",
       "      <td>53.1000</td>\n",
       "      <td>S</td>\n",
       "      <td>3</td>\n",
       "    </tr>\n",
       "    <tr>\n",
       "      <th>4</th>\n",
       "      <td>5</td>\n",
       "      <td>0</td>\n",
       "      <td>3</td>\n",
       "      <td>Allen, Mr. William Henry</td>\n",
       "      <td>male</td>\n",
       "      <td>35.0</td>\n",
       "      <td>0</td>\n",
       "      <td>0</td>\n",
       "      <td>8.0500</td>\n",
       "      <td>S</td>\n",
       "      <td>1</td>\n",
       "    </tr>\n",
       "  </tbody>\n",
       "</table>\n",
       "</div>"
      ],
      "text/plain": [
       "   PassengerId  Survived  Pclass  \\\n",
       "0            1         0       3   \n",
       "1            2         1       1   \n",
       "2            3         1       3   \n",
       "3            4         1       1   \n",
       "4            5         0       3   \n",
       "\n",
       "                                                Name     Sex   Age  SibSp  \\\n",
       "0                            Braund, Mr. Owen Harris    male  22.0      1   \n",
       "1  Cumings, Mrs. John Bradley (Florence Briggs Th...  female  38.0      1   \n",
       "2                             Heikkinen, Miss. Laina  female  26.0      0   \n",
       "3       Futrelle, Mrs. Jacques Heath (Lily May Peel)  female  35.0      1   \n",
       "4                           Allen, Mr. William Henry    male  35.0      0   \n",
       "\n",
       "   Parch     Fare Embarked  Title  \n",
       "0      0   7.2500        S      1  \n",
       "1      0  71.2833        C      3  \n",
       "2      0   7.9250        S      2  \n",
       "3      0  53.1000        S      3  \n",
       "4      0   8.0500        S      1  "
      ]
     },
     "execution_count": 18,
     "metadata": {},
     "output_type": "execute_result"
    }
   ],
   "source": [
    "title_mapping = {\"Mr\": 1, \"Miss\": 2, \"Mrs\": 3, \"Master\": 4, \"Royal\": 5, \"Rare\": 6}\n",
    "for dataset in combine:\n",
    "    dataset['Title'] = dataset['Title'].map(title_mapping)\n",
    "    dataset['Title'] = dataset['Title'].fillna(0)\n",
    "\n",
    "train_data.head()"
   ]
  },
  {
   "cell_type": "code",
   "execution_count": 19,
   "id": "4949edaf",
   "metadata": {
    "execution": {
     "iopub.execute_input": "2024-11-07T08:39:17.683134Z",
     "iopub.status.busy": "2024-11-07T08:39:17.681819Z",
     "iopub.status.idle": "2024-11-07T08:39:17.696257Z",
     "shell.execute_reply": "2024-11-07T08:39:17.695308Z"
    },
    "papermill": {
     "duration": 0.036522,
     "end_time": "2024-11-07T08:39:17.698678",
     "exception": false,
     "start_time": "2024-11-07T08:39:17.662156",
     "status": "completed"
    },
    "tags": []
   },
   "outputs": [],
   "source": [
    "#sort the ages into logical categories\n",
    "train_data[\"Age\"] = train_data[\"Age\"].fillna(-0.5)\n",
    "test_data[\"Age\"] = test_data[\"Age\"].fillna(-0.5)\n",
    "bins = [-1, 0, 5, 12, 18, 24, 35, 60, np.inf]\n",
    "labels = ['Unknown', 'Baby', 'Child', 'Teenager', 'Student', 'Young Adult', 'Adult', 'Senior']\n",
    "train_data['AgeGroup'] = pd.cut(train_data[\"Age\"], bins, labels = labels)\n",
    "test_data['AgeGroup'] = pd.cut(test_data[\"Age\"], bins, labels = labels)"
   ]
  },
  {
   "cell_type": "code",
   "execution_count": 20,
   "id": "7d29eb20",
   "metadata": {
    "execution": {
     "iopub.execute_input": "2024-11-07T08:39:17.736732Z",
     "iopub.status.busy": "2024-11-07T08:39:17.736316Z",
     "iopub.status.idle": "2024-11-07T08:39:17.758674Z",
     "shell.execute_reply": "2024-11-07T08:39:17.757567Z"
    },
    "papermill": {
     "duration": 0.043864,
     "end_time": "2024-11-07T08:39:17.761142",
     "exception": false,
     "start_time": "2024-11-07T08:39:17.717278",
     "status": "completed"
    },
    "tags": []
   },
   "outputs": [],
   "source": [
    "# Fill missing age with mode age group for each title\n",
    "mr_age = train_data[train_data[\"Title\"] == 1][\"AgeGroup\"].mode() #Young Adult\n",
    "miss_age = train_data[train_data[\"Title\"] == 2][\"AgeGroup\"].mode() #Student\n",
    "mrs_age = train_data[train_data[\"Title\"] == 3][\"AgeGroup\"].mode() #Adult\n",
    "master_age = train_data[train_data[\"Title\"] == 4][\"AgeGroup\"].mode() #Baby\n",
    "royal_age = train_data[train_data[\"Title\"] == 5][\"AgeGroup\"].mode() #Adult\n",
    "rare_age = train_data[train_data[\"Title\"] == 6][\"AgeGroup\"].mode() #Adult\n",
    "\n",
    "age_title_mapping = {1: \"Young Adult\", 2: \"Student\", 3: \"Adult\", 4: \"Baby\", 5: \"Adult\", 6: \"Adult\"}\n",
    "\n",
    "# Updating AgeGroup in train_data using .loc\n",
    "train_data.loc[train_data[\"AgeGroup\"] == \"Unknown\", \"AgeGroup\"] = train_data.loc[train_data[\"AgeGroup\"] == \"Unknown\", \"Title\"].map(age_title_mapping)\n",
    "\n",
    "# Updating AgeGroup in test_data using .loc\n",
    "test_data.loc[test_data[\"AgeGroup\"] == \"Unknown\", \"AgeGroup\"] = test_data.loc[test_data[\"AgeGroup\"] == \"Unknown\", \"Title\"].map(age_title_mapping)"
   ]
  },
  {
   "cell_type": "code",
   "execution_count": 21,
   "id": "eb03fe6a",
   "metadata": {
    "execution": {
     "iopub.execute_input": "2024-11-07T08:39:17.798608Z",
     "iopub.status.busy": "2024-11-07T08:39:17.798030Z",
     "iopub.status.idle": "2024-11-07T08:39:17.821816Z",
     "shell.execute_reply": "2024-11-07T08:39:17.820686Z"
    },
    "papermill": {
     "duration": 0.045145,
     "end_time": "2024-11-07T08:39:17.824078",
     "exception": false,
     "start_time": "2024-11-07T08:39:17.778933",
     "status": "completed"
    },
    "tags": []
   },
   "outputs": [
    {
     "data": {
      "text/html": [
       "<div>\n",
       "<style scoped>\n",
       "    .dataframe tbody tr th:only-of-type {\n",
       "        vertical-align: middle;\n",
       "    }\n",
       "\n",
       "    .dataframe tbody tr th {\n",
       "        vertical-align: top;\n",
       "    }\n",
       "\n",
       "    .dataframe thead th {\n",
       "        text-align: right;\n",
       "    }\n",
       "</style>\n",
       "<table border=\"1\" class=\"dataframe\">\n",
       "  <thead>\n",
       "    <tr style=\"text-align: right;\">\n",
       "      <th></th>\n",
       "      <th>PassengerId</th>\n",
       "      <th>Survived</th>\n",
       "      <th>Pclass</th>\n",
       "      <th>Name</th>\n",
       "      <th>Sex</th>\n",
       "      <th>SibSp</th>\n",
       "      <th>Parch</th>\n",
       "      <th>Fare</th>\n",
       "      <th>Embarked</th>\n",
       "      <th>Title</th>\n",
       "      <th>AgeGroup</th>\n",
       "    </tr>\n",
       "  </thead>\n",
       "  <tbody>\n",
       "    <tr>\n",
       "      <th>0</th>\n",
       "      <td>1</td>\n",
       "      <td>0</td>\n",
       "      <td>3</td>\n",
       "      <td>Braund, Mr. Owen Harris</td>\n",
       "      <td>male</td>\n",
       "      <td>1</td>\n",
       "      <td>0</td>\n",
       "      <td>7.2500</td>\n",
       "      <td>S</td>\n",
       "      <td>1</td>\n",
       "      <td>4.0</td>\n",
       "    </tr>\n",
       "    <tr>\n",
       "      <th>1</th>\n",
       "      <td>2</td>\n",
       "      <td>1</td>\n",
       "      <td>1</td>\n",
       "      <td>Cumings, Mrs. John Bradley (Florence Briggs Th...</td>\n",
       "      <td>female</td>\n",
       "      <td>1</td>\n",
       "      <td>0</td>\n",
       "      <td>71.2833</td>\n",
       "      <td>C</td>\n",
       "      <td>3</td>\n",
       "      <td>6.0</td>\n",
       "    </tr>\n",
       "    <tr>\n",
       "      <th>2</th>\n",
       "      <td>3</td>\n",
       "      <td>1</td>\n",
       "      <td>3</td>\n",
       "      <td>Heikkinen, Miss. Laina</td>\n",
       "      <td>female</td>\n",
       "      <td>0</td>\n",
       "      <td>0</td>\n",
       "      <td>7.9250</td>\n",
       "      <td>S</td>\n",
       "      <td>2</td>\n",
       "      <td>5.0</td>\n",
       "    </tr>\n",
       "    <tr>\n",
       "      <th>3</th>\n",
       "      <td>4</td>\n",
       "      <td>1</td>\n",
       "      <td>1</td>\n",
       "      <td>Futrelle, Mrs. Jacques Heath (Lily May Peel)</td>\n",
       "      <td>female</td>\n",
       "      <td>1</td>\n",
       "      <td>0</td>\n",
       "      <td>53.1000</td>\n",
       "      <td>S</td>\n",
       "      <td>3</td>\n",
       "      <td>5.0</td>\n",
       "    </tr>\n",
       "    <tr>\n",
       "      <th>4</th>\n",
       "      <td>5</td>\n",
       "      <td>0</td>\n",
       "      <td>3</td>\n",
       "      <td>Allen, Mr. William Henry</td>\n",
       "      <td>male</td>\n",
       "      <td>0</td>\n",
       "      <td>0</td>\n",
       "      <td>8.0500</td>\n",
       "      <td>S</td>\n",
       "      <td>1</td>\n",
       "      <td>5.0</td>\n",
       "    </tr>\n",
       "  </tbody>\n",
       "</table>\n",
       "</div>"
      ],
      "text/plain": [
       "   PassengerId  Survived  Pclass  \\\n",
       "0            1         0       3   \n",
       "1            2         1       1   \n",
       "2            3         1       3   \n",
       "3            4         1       1   \n",
       "4            5         0       3   \n",
       "\n",
       "                                                Name     Sex  SibSp  Parch  \\\n",
       "0                            Braund, Mr. Owen Harris    male      1      0   \n",
       "1  Cumings, Mrs. John Bradley (Florence Briggs Th...  female      1      0   \n",
       "2                             Heikkinen, Miss. Laina  female      0      0   \n",
       "3       Futrelle, Mrs. Jacques Heath (Lily May Peel)  female      1      0   \n",
       "4                           Allen, Mr. William Henry    male      0      0   \n",
       "\n",
       "      Fare Embarked  Title  AgeGroup  \n",
       "0   7.2500        S      1       4.0  \n",
       "1  71.2833        C      3       6.0  \n",
       "2   7.9250        S      2       5.0  \n",
       "3  53.1000        S      3       5.0  \n",
       "4   8.0500        S      1       5.0  "
      ]
     },
     "execution_count": 21,
     "metadata": {},
     "output_type": "execute_result"
    }
   ],
   "source": [
    "# Map each Age value to a numerical value\n",
    "age_mapping = {'Baby': 1, 'Child': 2, 'Teenager': 3, 'Student': 4, 'Young Adult': 5, 'Adult': 6, 'Senior': 7}\n",
    "train_data['AgeGroup'] = train_data['AgeGroup'].map(age_mapping)\n",
    "test_data['AgeGroup'] = test_data['AgeGroup'].map(age_mapping)\n",
    "\n",
    "train_data = train_data.drop(['Age'], axis = 1)\n",
    "test_data = test_data.drop(['Age'], axis = 1)\n",
    "\n",
    "\n",
    "train_data.head()"
   ]
  },
  {
   "cell_type": "code",
   "execution_count": 22,
   "id": "8dcec390",
   "metadata": {
    "execution": {
     "iopub.execute_input": "2024-11-07T08:39:17.862222Z",
     "iopub.status.busy": "2024-11-07T08:39:17.861792Z",
     "iopub.status.idle": "2024-11-07T08:39:17.869343Z",
     "shell.execute_reply": "2024-11-07T08:39:17.868411Z"
    },
    "papermill": {
     "duration": 0.029499,
     "end_time": "2024-11-07T08:39:17.871730",
     "exception": false,
     "start_time": "2024-11-07T08:39:17.842231",
     "status": "completed"
    },
    "tags": []
   },
   "outputs": [],
   "source": [
    "# Drop the name feature since it contains no more useful information.\n",
    "\n",
    "train_data = train_data.drop(['Name'], axis = 1)\n",
    "test_data = test_data.drop(['Name'], axis = 1)"
   ]
  },
  {
   "cell_type": "code",
   "execution_count": 23,
   "id": "dab02f35",
   "metadata": {
    "execution": {
     "iopub.execute_input": "2024-11-07T08:39:17.910944Z",
     "iopub.status.busy": "2024-11-07T08:39:17.910010Z",
     "iopub.status.idle": "2024-11-07T08:39:17.927905Z",
     "shell.execute_reply": "2024-11-07T08:39:17.926803Z"
    },
    "papermill": {
     "duration": 0.03971,
     "end_time": "2024-11-07T08:39:17.930119",
     "exception": false,
     "start_time": "2024-11-07T08:39:17.890409",
     "status": "completed"
    },
    "tags": []
   },
   "outputs": [
    {
     "data": {
      "text/html": [
       "<div>\n",
       "<style scoped>\n",
       "    .dataframe tbody tr th:only-of-type {\n",
       "        vertical-align: middle;\n",
       "    }\n",
       "\n",
       "    .dataframe tbody tr th {\n",
       "        vertical-align: top;\n",
       "    }\n",
       "\n",
       "    .dataframe thead th {\n",
       "        text-align: right;\n",
       "    }\n",
       "</style>\n",
       "<table border=\"1\" class=\"dataframe\">\n",
       "  <thead>\n",
       "    <tr style=\"text-align: right;\">\n",
       "      <th></th>\n",
       "      <th>PassengerId</th>\n",
       "      <th>Survived</th>\n",
       "      <th>Pclass</th>\n",
       "      <th>Sex</th>\n",
       "      <th>SibSp</th>\n",
       "      <th>Parch</th>\n",
       "      <th>Fare</th>\n",
       "      <th>Embarked</th>\n",
       "      <th>Title</th>\n",
       "      <th>AgeGroup</th>\n",
       "    </tr>\n",
       "  </thead>\n",
       "  <tbody>\n",
       "    <tr>\n",
       "      <th>0</th>\n",
       "      <td>1</td>\n",
       "      <td>0</td>\n",
       "      <td>3</td>\n",
       "      <td>0</td>\n",
       "      <td>1</td>\n",
       "      <td>0</td>\n",
       "      <td>7.2500</td>\n",
       "      <td>S</td>\n",
       "      <td>1</td>\n",
       "      <td>4.0</td>\n",
       "    </tr>\n",
       "    <tr>\n",
       "      <th>1</th>\n",
       "      <td>2</td>\n",
       "      <td>1</td>\n",
       "      <td>1</td>\n",
       "      <td>1</td>\n",
       "      <td>1</td>\n",
       "      <td>0</td>\n",
       "      <td>71.2833</td>\n",
       "      <td>C</td>\n",
       "      <td>3</td>\n",
       "      <td>6.0</td>\n",
       "    </tr>\n",
       "    <tr>\n",
       "      <th>2</th>\n",
       "      <td>3</td>\n",
       "      <td>1</td>\n",
       "      <td>3</td>\n",
       "      <td>1</td>\n",
       "      <td>0</td>\n",
       "      <td>0</td>\n",
       "      <td>7.9250</td>\n",
       "      <td>S</td>\n",
       "      <td>2</td>\n",
       "      <td>5.0</td>\n",
       "    </tr>\n",
       "    <tr>\n",
       "      <th>3</th>\n",
       "      <td>4</td>\n",
       "      <td>1</td>\n",
       "      <td>1</td>\n",
       "      <td>1</td>\n",
       "      <td>1</td>\n",
       "      <td>0</td>\n",
       "      <td>53.1000</td>\n",
       "      <td>S</td>\n",
       "      <td>3</td>\n",
       "      <td>5.0</td>\n",
       "    </tr>\n",
       "    <tr>\n",
       "      <th>4</th>\n",
       "      <td>5</td>\n",
       "      <td>0</td>\n",
       "      <td>3</td>\n",
       "      <td>0</td>\n",
       "      <td>0</td>\n",
       "      <td>0</td>\n",
       "      <td>8.0500</td>\n",
       "      <td>S</td>\n",
       "      <td>1</td>\n",
       "      <td>5.0</td>\n",
       "    </tr>\n",
       "  </tbody>\n",
       "</table>\n",
       "</div>"
      ],
      "text/plain": [
       "   PassengerId  Survived  Pclass  Sex  SibSp  Parch     Fare Embarked  Title  \\\n",
       "0            1         0       3    0      1      0   7.2500        S      1   \n",
       "1            2         1       1    1      1      0  71.2833        C      3   \n",
       "2            3         1       3    1      0      0   7.9250        S      2   \n",
       "3            4         1       1    1      1      0  53.1000        S      3   \n",
       "4            5         0       3    0      0      0   8.0500        S      1   \n",
       "\n",
       "   AgeGroup  \n",
       "0       4.0  \n",
       "1       6.0  \n",
       "2       5.0  \n",
       "3       5.0  \n",
       "4       5.0  "
      ]
     },
     "execution_count": 23,
     "metadata": {},
     "output_type": "execute_result"
    }
   ],
   "source": [
    "# Map each Sex value to a numerical value\n",
    "sex_mapping = {\"male\": 0, \"female\": 1}\n",
    "train_data['Sex'] = train_data['Sex'].map(sex_mapping)\n",
    "test_data['Sex'] = test_data['Sex'].map(sex_mapping)\n",
    "\n",
    "train_data.head()"
   ]
  },
  {
   "cell_type": "code",
   "execution_count": 24,
   "id": "1c55396b",
   "metadata": {
    "execution": {
     "iopub.execute_input": "2024-11-07T08:39:17.968850Z",
     "iopub.status.busy": "2024-11-07T08:39:17.968460Z",
     "iopub.status.idle": "2024-11-07T08:39:17.986378Z",
     "shell.execute_reply": "2024-11-07T08:39:17.985394Z"
    },
    "papermill": {
     "duration": 0.040226,
     "end_time": "2024-11-07T08:39:17.988911",
     "exception": false,
     "start_time": "2024-11-07T08:39:17.948685",
     "status": "completed"
    },
    "tags": []
   },
   "outputs": [
    {
     "data": {
      "text/html": [
       "<div>\n",
       "<style scoped>\n",
       "    .dataframe tbody tr th:only-of-type {\n",
       "        vertical-align: middle;\n",
       "    }\n",
       "\n",
       "    .dataframe tbody tr th {\n",
       "        vertical-align: top;\n",
       "    }\n",
       "\n",
       "    .dataframe thead th {\n",
       "        text-align: right;\n",
       "    }\n",
       "</style>\n",
       "<table border=\"1\" class=\"dataframe\">\n",
       "  <thead>\n",
       "    <tr style=\"text-align: right;\">\n",
       "      <th></th>\n",
       "      <th>PassengerId</th>\n",
       "      <th>Survived</th>\n",
       "      <th>Pclass</th>\n",
       "      <th>Sex</th>\n",
       "      <th>SibSp</th>\n",
       "      <th>Parch</th>\n",
       "      <th>Fare</th>\n",
       "      <th>Embarked</th>\n",
       "      <th>Title</th>\n",
       "      <th>AgeGroup</th>\n",
       "    </tr>\n",
       "  </thead>\n",
       "  <tbody>\n",
       "    <tr>\n",
       "      <th>0</th>\n",
       "      <td>1</td>\n",
       "      <td>0</td>\n",
       "      <td>3</td>\n",
       "      <td>0</td>\n",
       "      <td>1</td>\n",
       "      <td>0</td>\n",
       "      <td>7.2500</td>\n",
       "      <td>1</td>\n",
       "      <td>1</td>\n",
       "      <td>4.0</td>\n",
       "    </tr>\n",
       "    <tr>\n",
       "      <th>1</th>\n",
       "      <td>2</td>\n",
       "      <td>1</td>\n",
       "      <td>1</td>\n",
       "      <td>1</td>\n",
       "      <td>1</td>\n",
       "      <td>0</td>\n",
       "      <td>71.2833</td>\n",
       "      <td>2</td>\n",
       "      <td>3</td>\n",
       "      <td>6.0</td>\n",
       "    </tr>\n",
       "    <tr>\n",
       "      <th>2</th>\n",
       "      <td>3</td>\n",
       "      <td>1</td>\n",
       "      <td>3</td>\n",
       "      <td>1</td>\n",
       "      <td>0</td>\n",
       "      <td>0</td>\n",
       "      <td>7.9250</td>\n",
       "      <td>1</td>\n",
       "      <td>2</td>\n",
       "      <td>5.0</td>\n",
       "    </tr>\n",
       "    <tr>\n",
       "      <th>3</th>\n",
       "      <td>4</td>\n",
       "      <td>1</td>\n",
       "      <td>1</td>\n",
       "      <td>1</td>\n",
       "      <td>1</td>\n",
       "      <td>0</td>\n",
       "      <td>53.1000</td>\n",
       "      <td>1</td>\n",
       "      <td>3</td>\n",
       "      <td>5.0</td>\n",
       "    </tr>\n",
       "    <tr>\n",
       "      <th>4</th>\n",
       "      <td>5</td>\n",
       "      <td>0</td>\n",
       "      <td>3</td>\n",
       "      <td>0</td>\n",
       "      <td>0</td>\n",
       "      <td>0</td>\n",
       "      <td>8.0500</td>\n",
       "      <td>1</td>\n",
       "      <td>1</td>\n",
       "      <td>5.0</td>\n",
       "    </tr>\n",
       "  </tbody>\n",
       "</table>\n",
       "</div>"
      ],
      "text/plain": [
       "   PassengerId  Survived  Pclass  Sex  SibSp  Parch     Fare  Embarked  Title  \\\n",
       "0            1         0       3    0      1      0   7.2500         1      1   \n",
       "1            2         1       1    1      1      0  71.2833         2      3   \n",
       "2            3         1       3    1      0      0   7.9250         1      2   \n",
       "3            4         1       1    1      1      0  53.1000         1      3   \n",
       "4            5         0       3    0      0      0   8.0500         1      1   \n",
       "\n",
       "   AgeGroup  \n",
       "0       4.0  \n",
       "1       6.0  \n",
       "2       5.0  \n",
       "3       5.0  \n",
       "4       5.0  "
      ]
     },
     "execution_count": 24,
     "metadata": {},
     "output_type": "execute_result"
    }
   ],
   "source": [
    "# Map each Embarked value to a numerical value\n",
    "embarked_mapping = {\"S\": 1, \"C\": 2, \"Q\": 3}\n",
    "train_data['Embarked'] = train_data['Embarked'].map(embarked_mapping)\n",
    "test_data['Embarked'] = test_data['Embarked'].map(embarked_mapping)\n",
    "\n",
    "train_data.head()"
   ]
  },
  {
   "cell_type": "code",
   "execution_count": 25,
   "id": "2330521e",
   "metadata": {
    "execution": {
     "iopub.execute_input": "2024-11-07T08:39:18.029466Z",
     "iopub.status.busy": "2024-11-07T08:39:18.028697Z",
     "iopub.status.idle": "2024-11-07T08:39:18.055258Z",
     "shell.execute_reply": "2024-11-07T08:39:18.054398Z"
    },
    "papermill": {
     "duration": 0.049629,
     "end_time": "2024-11-07T08:39:18.057759",
     "exception": false,
     "start_time": "2024-11-07T08:39:18.008130",
     "status": "completed"
    },
    "tags": []
   },
   "outputs": [],
   "source": [
    "# Fill in missing Fare value in test set based on mean fare for that Pclass\n",
    "for x in range(len(test_data[\"Fare\"])):\n",
    "    if pd.isnull(test_data.loc[x, \"Fare\"]):\n",
    "        pclass = test_data.loc[x, \"Pclass\"]  # Pclass = 3\n",
    "        test_data.loc[x, \"Fare\"] = round(train_data[train_data[\"Pclass\"] == pclass][\"Fare\"].mean(), 4)\n",
    "\n",
    "# Map Fare values into groups of numerical values\n",
    "train_data['FareBand'] = pd.qcut(train_data['Fare'], 4, labels=[1, 2, 3, 4])\n",
    "test_data['FareBand'] = pd.qcut(test_data['Fare'], 4, labels=[1, 2, 3, 4])\n",
    "\n",
    "# Drop Fare values\n",
    "train_data = train_data.drop(['Fare'], axis=1)\n",
    "test_data = test_data.drop(['Fare'], axis=1)"
   ]
  },
  {
   "cell_type": "code",
   "execution_count": 26,
   "id": "47f429e5",
   "metadata": {
    "execution": {
     "iopub.execute_input": "2024-11-07T08:39:18.097465Z",
     "iopub.status.busy": "2024-11-07T08:39:18.096541Z",
     "iopub.status.idle": "2024-11-07T08:39:18.110901Z",
     "shell.execute_reply": "2024-11-07T08:39:18.109704Z"
    },
    "papermill": {
     "duration": 0.036421,
     "end_time": "2024-11-07T08:39:18.113265",
     "exception": false,
     "start_time": "2024-11-07T08:39:18.076844",
     "status": "completed"
    },
    "tags": []
   },
   "outputs": [
    {
     "data": {
      "text/html": [
       "<div>\n",
       "<style scoped>\n",
       "    .dataframe tbody tr th:only-of-type {\n",
       "        vertical-align: middle;\n",
       "    }\n",
       "\n",
       "    .dataframe tbody tr th {\n",
       "        vertical-align: top;\n",
       "    }\n",
       "\n",
       "    .dataframe thead th {\n",
       "        text-align: right;\n",
       "    }\n",
       "</style>\n",
       "<table border=\"1\" class=\"dataframe\">\n",
       "  <thead>\n",
       "    <tr style=\"text-align: right;\">\n",
       "      <th></th>\n",
       "      <th>PassengerId</th>\n",
       "      <th>Pclass</th>\n",
       "      <th>Sex</th>\n",
       "      <th>SibSp</th>\n",
       "      <th>Parch</th>\n",
       "      <th>Embarked</th>\n",
       "      <th>Title</th>\n",
       "      <th>AgeGroup</th>\n",
       "      <th>FareBand</th>\n",
       "    </tr>\n",
       "  </thead>\n",
       "  <tbody>\n",
       "    <tr>\n",
       "      <th>0</th>\n",
       "      <td>892</td>\n",
       "      <td>3</td>\n",
       "      <td>0</td>\n",
       "      <td>0</td>\n",
       "      <td>0</td>\n",
       "      <td>3</td>\n",
       "      <td>1</td>\n",
       "      <td>5.0</td>\n",
       "      <td>1</td>\n",
       "    </tr>\n",
       "    <tr>\n",
       "      <th>1</th>\n",
       "      <td>893</td>\n",
       "      <td>3</td>\n",
       "      <td>1</td>\n",
       "      <td>1</td>\n",
       "      <td>0</td>\n",
       "      <td>1</td>\n",
       "      <td>3</td>\n",
       "      <td>6.0</td>\n",
       "      <td>1</td>\n",
       "    </tr>\n",
       "    <tr>\n",
       "      <th>2</th>\n",
       "      <td>894</td>\n",
       "      <td>2</td>\n",
       "      <td>0</td>\n",
       "      <td>0</td>\n",
       "      <td>0</td>\n",
       "      <td>3</td>\n",
       "      <td>1</td>\n",
       "      <td>7.0</td>\n",
       "      <td>2</td>\n",
       "    </tr>\n",
       "    <tr>\n",
       "      <th>3</th>\n",
       "      <td>895</td>\n",
       "      <td>3</td>\n",
       "      <td>0</td>\n",
       "      <td>0</td>\n",
       "      <td>0</td>\n",
       "      <td>1</td>\n",
       "      <td>1</td>\n",
       "      <td>5.0</td>\n",
       "      <td>2</td>\n",
       "    </tr>\n",
       "    <tr>\n",
       "      <th>4</th>\n",
       "      <td>896</td>\n",
       "      <td>3</td>\n",
       "      <td>1</td>\n",
       "      <td>1</td>\n",
       "      <td>1</td>\n",
       "      <td>1</td>\n",
       "      <td>3</td>\n",
       "      <td>4.0</td>\n",
       "      <td>2</td>\n",
       "    </tr>\n",
       "  </tbody>\n",
       "</table>\n",
       "</div>"
      ],
      "text/plain": [
       "   PassengerId  Pclass  Sex  SibSp  Parch  Embarked  Title  AgeGroup FareBand\n",
       "0          892       3    0      0      0         3      1       5.0        1\n",
       "1          893       3    1      1      0         1      3       6.0        1\n",
       "2          894       2    0      0      0         3      1       7.0        2\n",
       "3          895       3    0      0      0         1      1       5.0        2\n",
       "4          896       3    1      1      1         1      3       4.0        2"
      ]
     },
     "execution_count": 26,
     "metadata": {},
     "output_type": "execute_result"
    }
   ],
   "source": [
    "test_data.head()"
   ]
  },
  {
   "cell_type": "markdown",
   "id": "54b86a95",
   "metadata": {
    "papermill": {
     "duration": 0.018774,
     "end_time": "2024-11-07T08:39:18.151162",
     "exception": false,
     "start_time": "2024-11-07T08:39:18.132388",
     "status": "completed"
    },
    "tags": []
   },
   "source": [
    "# **3. Machine Learning Models**"
   ]
  },
  {
   "cell_type": "code",
   "execution_count": 27,
   "id": "719d8214",
   "metadata": {
    "execution": {
     "iopub.execute_input": "2024-11-07T08:39:18.191242Z",
     "iopub.status.busy": "2024-11-07T08:39:18.190427Z",
     "iopub.status.idle": "2024-11-07T08:39:18.486669Z",
     "shell.execute_reply": "2024-11-07T08:39:18.485621Z"
    },
    "papermill": {
     "duration": 0.31938,
     "end_time": "2024-11-07T08:39:18.489377",
     "exception": false,
     "start_time": "2024-11-07T08:39:18.169997",
     "status": "completed"
    },
    "tags": []
   },
   "outputs": [],
   "source": [
    "from sklearn.model_selection import train_test_split\n",
    "from sklearn.metrics import accuracy_score\n",
    "\n",
    "predictors = train_data.drop(['Survived', 'PassengerId'], axis=1)\n",
    "target = train_data[\"Survived\"]\n",
    "x_train, x_val, y_train, y_val = train_test_split(predictors, target, test_size = 0.22, random_state = 0)"
   ]
  },
  {
   "cell_type": "markdown",
   "id": "94939ccb",
   "metadata": {
    "papermill": {
     "duration": 0.018721,
     "end_time": "2024-11-07T08:39:18.527779",
     "exception": false,
     "start_time": "2024-11-07T08:39:18.509058",
     "status": "completed"
    },
    "tags": []
   },
   "source": [
    "# **3.1 Gradient Boosting Classifier**"
   ]
  },
  {
   "cell_type": "code",
   "execution_count": 28,
   "id": "f75fdc07",
   "metadata": {
    "execution": {
     "iopub.execute_input": "2024-11-07T08:39:18.567365Z",
     "iopub.status.busy": "2024-11-07T08:39:18.566916Z",
     "iopub.status.idle": "2024-11-07T08:39:18.965712Z",
     "shell.execute_reply": "2024-11-07T08:39:18.964503Z"
    },
    "papermill": {
     "duration": 0.422772,
     "end_time": "2024-11-07T08:39:18.969213",
     "exception": false,
     "start_time": "2024-11-07T08:39:18.546441",
     "status": "completed"
    },
    "tags": []
   },
   "outputs": [
    {
     "name": "stdout",
     "output_type": "stream",
     "text": [
      "Accuracy of Gradient Boosting Classifier: 83.25%\n"
     ]
    }
   ],
   "source": [
    "from sklearn.ensemble import GradientBoostingClassifier\n",
    "\n",
    "gbk = GradientBoostingClassifier()\n",
    "gbk.fit(x_train, y_train)\n",
    "y_pred = gbk.predict(x_val)\n",
    "acc_gbk = round(accuracy_score(y_pred, y_val) * 100, 2)\n",
    "\n",
    "print(f\"Accuracy of Gradient Boosting Classifier: {acc_gbk}%\")"
   ]
  },
  {
   "cell_type": "markdown",
   "id": "573deb3a",
   "metadata": {
    "papermill": {
     "duration": 0.019949,
     "end_time": "2024-11-07T08:39:19.008676",
     "exception": false,
     "start_time": "2024-11-07T08:39:18.988727",
     "status": "completed"
    },
    "tags": []
   },
   "source": [
    "# **3.2 Logistic Regression**"
   ]
  },
  {
   "cell_type": "code",
   "execution_count": 29,
   "id": "9f02d11f",
   "metadata": {
    "execution": {
     "iopub.execute_input": "2024-11-07T08:39:19.048209Z",
     "iopub.status.busy": "2024-11-07T08:39:19.047753Z",
     "iopub.status.idle": "2024-11-07T08:39:19.077944Z",
     "shell.execute_reply": "2024-11-07T08:39:19.076565Z"
    },
    "papermill": {
     "duration": 0.05335,
     "end_time": "2024-11-07T08:39:19.080572",
     "exception": false,
     "start_time": "2024-11-07T08:39:19.027222",
     "status": "completed"
    },
    "tags": []
   },
   "outputs": [
    {
     "name": "stdout",
     "output_type": "stream",
     "text": [
      "Accuracy of Logistic Regression: 79.7%\n"
     ]
    }
   ],
   "source": [
    "from sklearn.linear_model import LogisticRegression\n",
    "\n",
    "logreg = LogisticRegression()\n",
    "logreg.fit(x_train, y_train)\n",
    "y_pred = logreg.predict(x_val)\n",
    "acc_logreg = round(accuracy_score(y_pred, y_val) * 100, 2)\n",
    "\n",
    "print(f\"Accuracy of Logistic Regression: {acc_logreg}%\")"
   ]
  },
  {
   "cell_type": "markdown",
   "id": "fc372bdc",
   "metadata": {
    "papermill": {
     "duration": 0.018775,
     "end_time": "2024-11-07T08:39:19.119168",
     "exception": false,
     "start_time": "2024-11-07T08:39:19.100393",
     "status": "completed"
    },
    "tags": []
   },
   "source": [
    "# **3.3 Decision Tree**"
   ]
  },
  {
   "cell_type": "code",
   "execution_count": 30,
   "id": "7cbe9c86",
   "metadata": {
    "execution": {
     "iopub.execute_input": "2024-11-07T08:39:19.158830Z",
     "iopub.status.busy": "2024-11-07T08:39:19.158396Z",
     "iopub.status.idle": "2024-11-07T08:39:19.172105Z",
     "shell.execute_reply": "2024-11-07T08:39:19.170995Z"
    },
    "papermill": {
     "duration": 0.03655,
     "end_time": "2024-11-07T08:39:19.174523",
     "exception": false,
     "start_time": "2024-11-07T08:39:19.137973",
     "status": "completed"
    },
    "tags": []
   },
   "outputs": [
    {
     "name": "stdout",
     "output_type": "stream",
     "text": [
      "Accuracy of Decision Tree: 82.23%\n"
     ]
    }
   ],
   "source": [
    "from sklearn.tree import DecisionTreeClassifier\n",
    "\n",
    "decisiontree = DecisionTreeClassifier()\n",
    "decisiontree.fit(x_train, y_train)\n",
    "y_pred = decisiontree.predict(x_val)\n",
    "acc_decisiontree = round(accuracy_score(y_pred, y_val) * 100, 2)\n",
    "\n",
    "print(f\"Accuracy of Decision Tree: {acc_decisiontree}%\")"
   ]
  },
  {
   "cell_type": "markdown",
   "id": "3007026f",
   "metadata": {
    "papermill": {
     "duration": 0.019168,
     "end_time": "2024-11-07T08:39:19.213199",
     "exception": false,
     "start_time": "2024-11-07T08:39:19.194031",
     "status": "completed"
    },
    "tags": []
   },
   "source": [
    "# **3.4 Random Forest**"
   ]
  },
  {
   "cell_type": "code",
   "execution_count": 31,
   "id": "1249d1d6",
   "metadata": {
    "execution": {
     "iopub.execute_input": "2024-11-07T08:39:19.253711Z",
     "iopub.status.busy": "2024-11-07T08:39:19.253267Z",
     "iopub.status.idle": "2024-11-07T08:39:19.530983Z",
     "shell.execute_reply": "2024-11-07T08:39:19.529985Z"
    },
    "papermill": {
     "duration": 0.30107,
     "end_time": "2024-11-07T08:39:19.533530",
     "exception": false,
     "start_time": "2024-11-07T08:39:19.232460",
     "status": "completed"
    },
    "tags": []
   },
   "outputs": [
    {
     "name": "stdout",
     "output_type": "stream",
     "text": [
      "Accuracy of Random Forest: 83.25%\n"
     ]
    }
   ],
   "source": [
    "from sklearn.ensemble import RandomForestClassifier\n",
    "\n",
    "randomforest = RandomForestClassifier()\n",
    "randomforest.fit(x_train, y_train)\n",
    "y_pred = randomforest.predict(x_val)\n",
    "acc_randomforest = round(accuracy_score(y_pred, y_val) * 100, 2)\n",
    "\n",
    "print(f\"Accuracy of Random Forest: {acc_randomforest}%\")"
   ]
  },
  {
   "cell_type": "markdown",
   "id": "4556f5be",
   "metadata": {
    "papermill": {
     "duration": 0.018729,
     "end_time": "2024-11-07T08:39:19.571564",
     "exception": false,
     "start_time": "2024-11-07T08:39:19.552835",
     "status": "completed"
    },
    "tags": []
   },
   "source": [
    "# **3.5 Support Vector Machine**"
   ]
  },
  {
   "cell_type": "code",
   "execution_count": 32,
   "id": "eeb30eca",
   "metadata": {
    "execution": {
     "iopub.execute_input": "2024-11-07T08:39:19.611550Z",
     "iopub.status.busy": "2024-11-07T08:39:19.611113Z",
     "iopub.status.idle": "2024-11-07T08:39:19.641108Z",
     "shell.execute_reply": "2024-11-07T08:39:19.639901Z"
    },
    "papermill": {
     "duration": 0.052603,
     "end_time": "2024-11-07T08:39:19.643393",
     "exception": false,
     "start_time": "2024-11-07T08:39:19.590790",
     "status": "completed"
    },
    "tags": []
   },
   "outputs": [
    {
     "name": "stdout",
     "output_type": "stream",
     "text": [
      "Accuracy of Support Vector Machine: 83.25%\n"
     ]
    }
   ],
   "source": [
    "from sklearn.svm import SVC\n",
    "\n",
    "svc = SVC()\n",
    "svc.fit(x_train, y_train)\n",
    "y_pred = svc.predict(x_val)\n",
    "acc_svc = round(accuracy_score(y_pred, y_val) * 100, 2)\n",
    "\n",
    "print(f\"Accuracy of Support Vector Machine: {acc_svc}%\")"
   ]
  },
  {
   "cell_type": "markdown",
   "id": "3a1647d0",
   "metadata": {
    "papermill": {
     "duration": 0.019073,
     "end_time": "2024-11-07T08:39:19.681987",
     "exception": false,
     "start_time": "2024-11-07T08:39:19.662914",
     "status": "completed"
    },
    "tags": []
   },
   "source": [
    "# **3.6 K-Nearest Neighbors**"
   ]
  },
  {
   "cell_type": "code",
   "execution_count": 33,
   "id": "0de68164",
   "metadata": {
    "execution": {
     "iopub.execute_input": "2024-11-07T08:39:19.722224Z",
     "iopub.status.busy": "2024-11-07T08:39:19.721828Z",
     "iopub.status.idle": "2024-11-07T08:39:19.751131Z",
     "shell.execute_reply": "2024-11-07T08:39:19.749985Z"
    },
    "papermill": {
     "duration": 0.0521,
     "end_time": "2024-11-07T08:39:19.753555",
     "exception": false,
     "start_time": "2024-11-07T08:39:19.701455",
     "status": "completed"
    },
    "tags": []
   },
   "outputs": [
    {
     "name": "stdout",
     "output_type": "stream",
     "text": [
      "Accuracy of K-Nearest Neighbors: 82.23%\n"
     ]
    }
   ],
   "source": [
    "from sklearn.neighbors import KNeighborsClassifier\n",
    "\n",
    "knn = KNeighborsClassifier()\n",
    "knn.fit(x_train, y_train)\n",
    "y_pred = knn.predict(x_val)\n",
    "acc_knn = round(accuracy_score(y_pred, y_val) * 100, 2)\n",
    "\n",
    "print(f\"Accuracy of K-Nearest Neighbors: {acc_knn}%\")"
   ]
  },
  {
   "cell_type": "markdown",
   "id": "b77d41ff",
   "metadata": {
    "papermill": {
     "duration": 0.018937,
     "end_time": "2024-11-07T08:39:19.791629",
     "exception": false,
     "start_time": "2024-11-07T08:39:19.772692",
     "status": "completed"
    },
    "tags": []
   },
   "source": [
    "# **3.7 Stacking Classifier**"
   ]
  },
  {
   "cell_type": "code",
   "execution_count": 34,
   "id": "767f1d24",
   "metadata": {
    "execution": {
     "iopub.execute_input": "2024-11-07T08:39:19.831678Z",
     "iopub.status.busy": "2024-11-07T08:39:19.830987Z",
     "iopub.status.idle": "2024-11-07T08:39:22.661115Z",
     "shell.execute_reply": "2024-11-07T08:39:22.659909Z"
    },
    "papermill": {
     "duration": 2.853076,
     "end_time": "2024-11-07T08:39:22.663763",
     "exception": false,
     "start_time": "2024-11-07T08:39:19.810687",
     "status": "completed"
    },
    "tags": []
   },
   "outputs": [
    {
     "name": "stdout",
     "output_type": "stream",
     "text": [
      "Accuracy of Stacking Classifier: 80.2%\n"
     ]
    }
   ],
   "source": [
    "from sklearn.ensemble import StackingClassifier\n",
    "from sklearn.model_selection import cross_val_score\n",
    "from sklearn.metrics import accuracy_score, classification_report, confusion_matrix\n",
    "import numpy as np\n",
    "\n",
    "# Define the base models\n",
    "estimators = [\n",
    "    ('gbk', gbk),\n",
    "    ('randomforest', randomforest),\n",
    "    ('svc', svc),\n",
    "    ('knn', knn),\n",
    "  #  ('rfc', model_rfc)\n",
    "]\n",
    "\n",
    "# Create the stacking classifier\n",
    "stacking_model = StackingClassifier(estimators=estimators, final_estimator=RandomForestClassifier())\n",
    "\n",
    "# Train the stacking model\n",
    "stacking_model.fit(x_train, y_train)\n",
    "\n",
    "# Make predictions on the test set\n",
    "y_pred = stacking_model.predict(x_val)\n",
    "\n",
    "# Evaluate the model's performance\n",
    "acc_stk = round(accuracy_score(y_pred, y_val) * 100, 2)\n",
    "\n",
    "print(f\"Accuracy of Stacking Classifier: {acc_stk}%\")\n"
   ]
  },
  {
   "cell_type": "markdown",
   "id": "a8cffdf2",
   "metadata": {
    "papermill": {
     "duration": 0.019251,
     "end_time": "2024-11-07T08:39:22.703026",
     "exception": false,
     "start_time": "2024-11-07T08:39:22.683775",
     "status": "completed"
    },
    "tags": []
   },
   "source": [
    "# **3.8 Voting Classifier**"
   ]
  },
  {
   "cell_type": "code",
   "execution_count": 35,
   "id": "5c944bb4",
   "metadata": {
    "execution": {
     "iopub.execute_input": "2024-11-07T08:39:22.744252Z",
     "iopub.status.busy": "2024-11-07T08:39:22.743805Z",
     "iopub.status.idle": "2024-11-07T08:39:23.192603Z",
     "shell.execute_reply": "2024-11-07T08:39:23.191319Z"
    },
    "papermill": {
     "duration": 0.472541,
     "end_time": "2024-11-07T08:39:23.195243",
     "exception": false,
     "start_time": "2024-11-07T08:39:22.722702",
     "status": "completed"
    },
    "tags": []
   },
   "outputs": [
    {
     "name": "stdout",
     "output_type": "stream",
     "text": [
      "Accuracy of Voting Classifier: 85.28%\n"
     ]
    }
   ],
   "source": [
    "from sklearn.ensemble import VotingClassifier\n",
    "from sklearn.model_selection import cross_val_score\n",
    "\n",
    "# Create a voting classifier with the four models\n",
    "voting_classifier = VotingClassifier(estimators=[\n",
    "    ('gbk', gbk),\n",
    "    ('randomforest', randomforest),\n",
    "    ('svc', svc),\n",
    "    ('knn', knn),\n",
    "   # ('rfc', model_rfc)\n",
    "], voting='hard')  # 'hard' for majority vote\n",
    "\n",
    "# Train the voting classifier\n",
    "voting_classifier.fit(x_train, y_train)\n",
    "\n",
    "# Make predictions with the voting classifier\n",
    "y_pred = voting_classifier.predict(x_val)\n",
    "\n",
    "# Evaluate the model's performance\n",
    "acc_vot = round(accuracy_score(y_pred, y_val) * 100, 2)\n",
    "\n",
    "print(f\"Accuracy of Voting Classifier: {acc_vot}%\")"
   ]
  },
  {
   "cell_type": "markdown",
   "id": "cde11241",
   "metadata": {
    "papermill": {
     "duration": 0.01956,
     "end_time": "2024-11-07T08:39:23.234712",
     "exception": false,
     "start_time": "2024-11-07T08:39:23.215152",
     "status": "completed"
    },
    "tags": []
   },
   "source": [
    "# **3.9 AdaBoost Classifier**"
   ]
  },
  {
   "cell_type": "code",
   "execution_count": 36,
   "id": "328263ec",
   "metadata": {
    "execution": {
     "iopub.execute_input": "2024-11-07T08:39:23.275876Z",
     "iopub.status.busy": "2024-11-07T08:39:23.275441Z",
     "iopub.status.idle": "2024-11-07T08:39:23.416903Z",
     "shell.execute_reply": "2024-11-07T08:39:23.415446Z"
    },
    "papermill": {
     "duration": 0.165566,
     "end_time": "2024-11-07T08:39:23.419435",
     "exception": false,
     "start_time": "2024-11-07T08:39:23.253869",
     "status": "completed"
    },
    "tags": []
   },
   "outputs": [
    {
     "name": "stdout",
     "output_type": "stream",
     "text": [
      "Accuracy of AdaBoost Classifier: 82.74%\n"
     ]
    }
   ],
   "source": [
    "from sklearn.ensemble import AdaBoostClassifier\n",
    "\n",
    "# Assuming you already have your X_train, y_train, X_val, and y_val data split\n",
    "\n",
    "# Create and fit the AdaBoost Classifier\n",
    "abc = AdaBoostClassifier()\n",
    "abc.fit(x_train, y_train)\n",
    "\n",
    "# Make predictions on the validation set\n",
    "y_pred = abc.predict(x_val)\n",
    "\n",
    "# Calculate accuracy score\n",
    "from sklearn.metrics import accuracy_score\n",
    "acc_abc = round(accuracy_score(y_pred, y_val) * 100, 2)\n",
    "\n",
    "print(f\"Accuracy of AdaBoost Classifier: {acc_abc}%\")"
   ]
  },
  {
   "cell_type": "code",
   "execution_count": 37,
   "id": "f97fbd57",
   "metadata": {
    "execution": {
     "iopub.execute_input": "2024-11-07T08:39:23.461898Z",
     "iopub.status.busy": "2024-11-07T08:39:23.461312Z",
     "iopub.status.idle": "2024-11-07T08:39:23.477417Z",
     "shell.execute_reply": "2024-11-07T08:39:23.476305Z"
    },
    "papermill": {
     "duration": 0.040048,
     "end_time": "2024-11-07T08:39:23.479832",
     "exception": false,
     "start_time": "2024-11-07T08:39:23.439784",
     "status": "completed"
    },
    "tags": []
   },
   "outputs": [
    {
     "data": {
      "text/html": [
       "<div>\n",
       "<style scoped>\n",
       "    .dataframe tbody tr th:only-of-type {\n",
       "        vertical-align: middle;\n",
       "    }\n",
       "\n",
       "    .dataframe tbody tr th {\n",
       "        vertical-align: top;\n",
       "    }\n",
       "\n",
       "    .dataframe thead th {\n",
       "        text-align: right;\n",
       "    }\n",
       "</style>\n",
       "<table border=\"1\" class=\"dataframe\">\n",
       "  <thead>\n",
       "    <tr style=\"text-align: right;\">\n",
       "      <th></th>\n",
       "      <th>Model</th>\n",
       "      <th>Score</th>\n",
       "    </tr>\n",
       "  </thead>\n",
       "  <tbody>\n",
       "    <tr>\n",
       "      <th>7</th>\n",
       "      <td>Voting Classifier</td>\n",
       "      <td>85.28</td>\n",
       "    </tr>\n",
       "    <tr>\n",
       "      <th>0</th>\n",
       "      <td>Gradient Boosting Classifier</td>\n",
       "      <td>83.25</td>\n",
       "    </tr>\n",
       "    <tr>\n",
       "      <th>3</th>\n",
       "      <td>Random Forest</td>\n",
       "      <td>83.25</td>\n",
       "    </tr>\n",
       "    <tr>\n",
       "      <th>4</th>\n",
       "      <td>Support Vector Machine</td>\n",
       "      <td>83.25</td>\n",
       "    </tr>\n",
       "    <tr>\n",
       "      <th>8</th>\n",
       "      <td>AdaBoost Classifier</td>\n",
       "      <td>82.74</td>\n",
       "    </tr>\n",
       "    <tr>\n",
       "      <th>2</th>\n",
       "      <td>Decision Tree</td>\n",
       "      <td>82.23</td>\n",
       "    </tr>\n",
       "    <tr>\n",
       "      <th>5</th>\n",
       "      <td>K-Nearest Neighbors</td>\n",
       "      <td>82.23</td>\n",
       "    </tr>\n",
       "    <tr>\n",
       "      <th>6</th>\n",
       "      <td>Stacking Classifier</td>\n",
       "      <td>80.20</td>\n",
       "    </tr>\n",
       "    <tr>\n",
       "      <th>1</th>\n",
       "      <td>Logistic Regression</td>\n",
       "      <td>79.70</td>\n",
       "    </tr>\n",
       "  </tbody>\n",
       "</table>\n",
       "</div>"
      ],
      "text/plain": [
       "                          Model  Score\n",
       "7             Voting Classifier  85.28\n",
       "0  Gradient Boosting Classifier  83.25\n",
       "3                 Random Forest  83.25\n",
       "4        Support Vector Machine  83.25\n",
       "8           AdaBoost Classifier  82.74\n",
       "2                 Decision Tree  82.23\n",
       "5           K-Nearest Neighbors  82.23\n",
       "6           Stacking Classifier  80.20\n",
       "1           Logistic Regression  79.70"
      ]
     },
     "execution_count": 37,
     "metadata": {},
     "output_type": "execute_result"
    }
   ],
   "source": [
    "models = pd.DataFrame({\n",
    "    'Model': ['Gradient Boosting Classifier', 'Logistic Regression', 'Decision Tree',\n",
    "              'Random Forest', 'Support Vector Machine', 'K-Nearest Neighbors', 'Stacking Classifier', \n",
    "               'Voting Classifier', 'AdaBoost Classifier'],\n",
    "    'Score': [acc_gbk , acc_logreg, acc_decisiontree, acc_randomforest, acc_svc,\n",
    "              acc_knn, acc_stk, acc_vot, acc_abc]})\n",
    "models.sort_values(by='Score', ascending=False)"
   ]
  },
  {
   "cell_type": "markdown",
   "id": "6bc2997e",
   "metadata": {
    "papermill": {
     "duration": 0.020458,
     "end_time": "2024-11-07T08:39:23.521186",
     "exception": false,
     "start_time": "2024-11-07T08:39:23.500728",
     "status": "completed"
    },
    "tags": []
   },
   "source": [
    "# **4. Submission File**"
   ]
  },
  {
   "cell_type": "code",
   "execution_count": 38,
   "id": "5744c3d3",
   "metadata": {
    "execution": {
     "iopub.execute_input": "2024-11-07T08:39:23.563957Z",
     "iopub.status.busy": "2024-11-07T08:39:23.563492Z",
     "iopub.status.idle": "2024-11-07T08:39:23.579025Z",
     "shell.execute_reply": "2024-11-07T08:39:23.578104Z"
    },
    "papermill": {
     "duration": 0.040073,
     "end_time": "2024-11-07T08:39:23.581542",
     "exception": false,
     "start_time": "2024-11-07T08:39:23.541469",
     "status": "completed"
    },
    "tags": []
   },
   "outputs": [],
   "source": [
    "# Set ids as PassengerId and predict survival \n",
    "ids = test_data['PassengerId']\n",
    "predictions = gbk.predict(test_data.drop('PassengerId', axis=1))\n",
    "\n",
    "# Set the output as a dataframe and convert to csv file named submission.csv\n",
    "output = pd.DataFrame({ 'PassengerId' : ids, 'Survived': predictions })\n",
    "output.to_csv('submission.csv', index=False)"
   ]
  }
 ],
 "metadata": {
  "kaggle": {
   "accelerator": "none",
   "dataSources": [
    {
     "databundleVersionId": 26502,
     "sourceId": 3136,
     "sourceType": "competition"
    }
   ],
   "dockerImageVersionId": 30786,
   "isGpuEnabled": false,
   "isInternetEnabled": true,
   "language": "python",
   "sourceType": "notebook"
  },
  "kernelspec": {
   "display_name": "Python 3",
   "language": "python",
   "name": "python3"
  },
  "language_info": {
   "codemirror_mode": {
    "name": "ipython",
    "version": 3
   },
   "file_extension": ".py",
   "mimetype": "text/x-python",
   "name": "python",
   "nbconvert_exporter": "python",
   "pygments_lexer": "ipython3",
   "version": "3.10.14"
  },
  "papermill": {
   "default_parameters": {},
   "duration": 13.421475,
   "end_time": "2024-11-07T08:39:24.223311",
   "environment_variables": {},
   "exception": null,
   "input_path": "__notebook__.ipynb",
   "output_path": "__notebook__.ipynb",
   "parameters": {},
   "start_time": "2024-11-07T08:39:10.801836",
   "version": "2.6.0"
  }
 },
 "nbformat": 4,
 "nbformat_minor": 5
}
