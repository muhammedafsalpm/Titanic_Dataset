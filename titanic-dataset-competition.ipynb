{
 "cells": [
  {
   "cell_type": "markdown",
   "id": "6ac03278",
   "metadata": {
    "papermill": {
     "duration": 0.013171,
     "end_time": "2024-11-07T08:38:51.635996",
     "exception": false,
     "start_time": "2024-11-07T08:38:51.622825",
     "status": "completed"
    },
    "tags": []
   },
   "source": [
    "# **Titanic Dataset**"
   ]
  },
  {
   "cell_type": "code",
   "execution_count": 1,
   "id": "b5bfc8d9",
   "metadata": {
    "_cell_guid": "b1076dfc-b9ad-4769-8c92-a6c4dae69d19",
    "_uuid": "8f2839f25d086af736a60e9eeb907d3b93b6e0e5",
    "execution": {
     "iopub.execute_input": "2024-11-07T08:38:51.662881Z",
     "iopub.status.busy": "2024-11-07T08:38:51.662437Z",
     "iopub.status.idle": "2024-11-07T08:38:54.590491Z",
     "shell.execute_reply": "2024-11-07T08:38:54.589297Z"
    },
    "papermill": {
     "duration": 2.945832,
     "end_time": "2024-11-07T08:38:54.593253",
     "exception": false,
     "start_time": "2024-11-07T08:38:51.647421",
     "status": "completed"
    },
    "tags": []
   },
   "outputs": [
    {
     "name": "stdout",
     "output_type": "stream",
     "text": [
      "/kaggle/input/titanic/train.csv\n",
      "/kaggle/input/titanic/test.csv\n",
      "/kaggle/input/titanic/gender_submission.csv\n"
     ]
    }
   ],
   "source": [
    "# This Python 3 environment comes with many helpful analytics libraries installed\n",
    "# It is defined by the kaggle/python Docker image: https://github.com/kaggle/docker-python\n",
    "# For example, here's several helpful packages to load\n",
    "\n",
    "import numpy as np # linear algebra\n",
    "import pandas as pd # data processing, CSV file I/O (e.g. pd.read_csv)\n",
    "import seaborn as sns \n",
    "import matplotlib.pyplot as plt\n",
    "\n",
    "# Input data files are available in the read-only \"../input/\" directory\n",
    "# For example, running this (by clicking run or pressing Shift+Enter) will list all files under the input directory\n",
    "\n",
    "import os\n",
    "for dirname, _, filenames in os.walk('/kaggle/input'):\n",
    "    for filename in filenames:\n",
    "        print(os.path.join(dirname, filename))\n",
    "\n",
    "# You can write up to 20GB to the current directory (/kaggle/working/) that gets preserved as output when you create a version using \"Save & Run All\" \n",
    "# You can also write temporary files to /kaggle/temp/, but they won't be saved outside of the current session"
   ]
  },
  {
   "cell_type": "markdown",
   "id": "7f8ce942",
   "metadata": {
    "papermill": {
     "duration": 0.010283,
     "end_time": "2024-11-07T08:38:54.614590",
     "exception": false,
     "start_time": "2024-11-07T08:38:54.604307",
     "status": "completed"
    },
    "tags": []
   },
   "source": [
    "# **1. Understanding Dataset**"
   ]
  },
  {
   "cell_type": "code",
   "execution_count": 2,
   "id": "c927bf01",
   "metadata": {
    "execution": {
     "iopub.execute_input": "2024-11-07T08:38:54.638515Z",
     "iopub.status.busy": "2024-11-07T08:38:54.637955Z",
     "iopub.status.idle": "2024-11-07T08:38:54.680521Z",
     "shell.execute_reply": "2024-11-07T08:38:54.679288Z"
    },
    "papermill": {
     "duration": 0.057164,
     "end_time": "2024-11-07T08:38:54.682948",
     "exception": false,
     "start_time": "2024-11-07T08:38:54.625784",
     "status": "completed"
    },
    "tags": []
   },
   "outputs": [
    {
     "data": {
      "text/html": [
       "<div>\n",
       "<style scoped>\n",
       "    .dataframe tbody tr th:only-of-type {\n",
       "        vertical-align: middle;\n",
       "    }\n",
       "\n",
       "    .dataframe tbody tr th {\n",
       "        vertical-align: top;\n",
       "    }\n",
       "\n",
       "    .dataframe thead th {\n",
       "        text-align: right;\n",
       "    }\n",
       "</style>\n",
       "<table border=\"1\" class=\"dataframe\">\n",
       "  <thead>\n",
       "    <tr style=\"text-align: right;\">\n",
       "      <th></th>\n",
       "      <th>PassengerId</th>\n",
       "      <th>Survived</th>\n",
       "      <th>Pclass</th>\n",
       "      <th>Name</th>\n",
       "      <th>Sex</th>\n",
       "      <th>Age</th>\n",
       "      <th>SibSp</th>\n",
       "      <th>Parch</th>\n",
       "      <th>Ticket</th>\n",
       "      <th>Fare</th>\n",
       "      <th>Cabin</th>\n",
       "      <th>Embarked</th>\n",
       "    </tr>\n",
       "  </thead>\n",
       "  <tbody>\n",
       "    <tr>\n",
       "      <th>0</th>\n",
       "      <td>1</td>\n",
       "      <td>0</td>\n",
       "      <td>3</td>\n",
       "      <td>Braund, Mr. Owen Harris</td>\n",
       "      <td>male</td>\n",
       "      <td>22.0</td>\n",
       "      <td>1</td>\n",
       "      <td>0</td>\n",
       "      <td>A/5 21171</td>\n",
       "      <td>7.2500</td>\n",
       "      <td>NaN</td>\n",
       "      <td>S</td>\n",
       "    </tr>\n",
       "    <tr>\n",
       "      <th>1</th>\n",
       "      <td>2</td>\n",
       "      <td>1</td>\n",
       "      <td>1</td>\n",
       "      <td>Cumings, Mrs. John Bradley (Florence Briggs Th...</td>\n",
       "      <td>female</td>\n",
       "      <td>38.0</td>\n",
       "      <td>1</td>\n",
       "      <td>0</td>\n",
       "      <td>PC 17599</td>\n",
       "      <td>71.2833</td>\n",
       "      <td>C85</td>\n",
       "      <td>C</td>\n",
       "    </tr>\n",
       "    <tr>\n",
       "      <th>2</th>\n",
       "      <td>3</td>\n",
       "      <td>1</td>\n",
       "      <td>3</td>\n",
       "      <td>Heikkinen, Miss. Laina</td>\n",
       "      <td>female</td>\n",
       "      <td>26.0</td>\n",
       "      <td>0</td>\n",
       "      <td>0</td>\n",
       "      <td>STON/O2. 3101282</td>\n",
       "      <td>7.9250</td>\n",
       "      <td>NaN</td>\n",
       "      <td>S</td>\n",
       "    </tr>\n",
       "    <tr>\n",
       "      <th>3</th>\n",
       "      <td>4</td>\n",
       "      <td>1</td>\n",
       "      <td>1</td>\n",
       "      <td>Futrelle, Mrs. Jacques Heath (Lily May Peel)</td>\n",
       "      <td>female</td>\n",
       "      <td>35.0</td>\n",
       "      <td>1</td>\n",
       "      <td>0</td>\n",
       "      <td>113803</td>\n",
       "      <td>53.1000</td>\n",
       "      <td>C123</td>\n",
       "      <td>S</td>\n",
       "    </tr>\n",
       "    <tr>\n",
       "      <th>4</th>\n",
       "      <td>5</td>\n",
       "      <td>0</td>\n",
       "      <td>3</td>\n",
       "      <td>Allen, Mr. William Henry</td>\n",
       "      <td>male</td>\n",
       "      <td>35.0</td>\n",
       "      <td>0</td>\n",
       "      <td>0</td>\n",
       "      <td>373450</td>\n",
       "      <td>8.0500</td>\n",
       "      <td>NaN</td>\n",
       "      <td>S</td>\n",
       "    </tr>\n",
       "  </tbody>\n",
       "</table>\n",
       "</div>"
      ],
      "text/plain": [
       "   PassengerId  Survived  Pclass  \\\n",
       "0            1         0       3   \n",
       "1            2         1       1   \n",
       "2            3         1       3   \n",
       "3            4         1       1   \n",
       "4            5         0       3   \n",
       "\n",
       "                                                Name     Sex   Age  SibSp  \\\n",
       "0                            Braund, Mr. Owen Harris    male  22.0      1   \n",
       "1  Cumings, Mrs. John Bradley (Florence Briggs Th...  female  38.0      1   \n",
       "2                             Heikkinen, Miss. Laina  female  26.0      0   \n",
       "3       Futrelle, Mrs. Jacques Heath (Lily May Peel)  female  35.0      1   \n",
       "4                           Allen, Mr. William Henry    male  35.0      0   \n",
       "\n",
       "   Parch            Ticket     Fare Cabin Embarked  \n",
       "0      0         A/5 21171   7.2500   NaN        S  \n",
       "1      0          PC 17599  71.2833   C85        C  \n",
       "2      0  STON/O2. 3101282   7.9250   NaN        S  \n",
       "3      0            113803  53.1000  C123        S  \n",
       "4      0            373450   8.0500   NaN        S  "
      ]
     },
     "execution_count": 2,
     "metadata": {},
     "output_type": "execute_result"
    }
   ],
   "source": [
    "train_data = pd.read_csv(\"/kaggle/input/titanic/train.csv\")\n",
    "train_data.head()"
   ]
  },
  {
   "cell_type": "code",
   "execution_count": 3,
   "id": "f70ca1ce",
   "metadata": {
    "execution": {
     "iopub.execute_input": "2024-11-07T08:38:54.706214Z",
     "iopub.status.busy": "2024-11-07T08:38:54.705806Z",
     "iopub.status.idle": "2024-11-07T08:38:54.727444Z",
     "shell.execute_reply": "2024-11-07T08:38:54.726319Z"
    },
    "papermill": {
     "duration": 0.036137,
     "end_time": "2024-11-07T08:38:54.729947",
     "exception": false,
     "start_time": "2024-11-07T08:38:54.693810",
     "status": "completed"
    },
    "tags": []
   },
   "outputs": [
    {
     "data": {
      "text/html": [
       "<div>\n",
       "<style scoped>\n",
       "    .dataframe tbody tr th:only-of-type {\n",
       "        vertical-align: middle;\n",
       "    }\n",
       "\n",
       "    .dataframe tbody tr th {\n",
       "        vertical-align: top;\n",
       "    }\n",
       "\n",
       "    .dataframe thead th {\n",
       "        text-align: right;\n",
       "    }\n",
       "</style>\n",
       "<table border=\"1\" class=\"dataframe\">\n",
       "  <thead>\n",
       "    <tr style=\"text-align: right;\">\n",
       "      <th></th>\n",
       "      <th>PassengerId</th>\n",
       "      <th>Pclass</th>\n",
       "      <th>Name</th>\n",
       "      <th>Sex</th>\n",
       "      <th>Age</th>\n",
       "      <th>SibSp</th>\n",
       "      <th>Parch</th>\n",
       "      <th>Ticket</th>\n",
       "      <th>Fare</th>\n",
       "      <th>Cabin</th>\n",
       "      <th>Embarked</th>\n",
       "    </tr>\n",
       "  </thead>\n",
       "  <tbody>\n",
       "    <tr>\n",
       "      <th>0</th>\n",
       "      <td>892</td>\n",
       "      <td>3</td>\n",
       "      <td>Kelly, Mr. James</td>\n",
       "      <td>male</td>\n",
       "      <td>34.5</td>\n",
       "      <td>0</td>\n",
       "      <td>0</td>\n",
       "      <td>330911</td>\n",
       "      <td>7.8292</td>\n",
       "      <td>NaN</td>\n",
       "      <td>Q</td>\n",
       "    </tr>\n",
       "    <tr>\n",
       "      <th>1</th>\n",
       "      <td>893</td>\n",
       "      <td>3</td>\n",
       "      <td>Wilkes, Mrs. James (Ellen Needs)</td>\n",
       "      <td>female</td>\n",
       "      <td>47.0</td>\n",
       "      <td>1</td>\n",
       "      <td>0</td>\n",
       "      <td>363272</td>\n",
       "      <td>7.0000</td>\n",
       "      <td>NaN</td>\n",
       "      <td>S</td>\n",
       "    </tr>\n",
       "    <tr>\n",
       "      <th>2</th>\n",
       "      <td>894</td>\n",
       "      <td>2</td>\n",
       "      <td>Myles, Mr. Thomas Francis</td>\n",
       "      <td>male</td>\n",
       "      <td>62.0</td>\n",
       "      <td>0</td>\n",
       "      <td>0</td>\n",
       "      <td>240276</td>\n",
       "      <td>9.6875</td>\n",
       "      <td>NaN</td>\n",
       "      <td>Q</td>\n",
       "    </tr>\n",
       "    <tr>\n",
       "      <th>3</th>\n",
       "      <td>895</td>\n",
       "      <td>3</td>\n",
       "      <td>Wirz, Mr. Albert</td>\n",
       "      <td>male</td>\n",
       "      <td>27.0</td>\n",
       "      <td>0</td>\n",
       "      <td>0</td>\n",
       "      <td>315154</td>\n",
       "      <td>8.6625</td>\n",
       "      <td>NaN</td>\n",
       "      <td>S</td>\n",
       "    </tr>\n",
       "    <tr>\n",
       "      <th>4</th>\n",
       "      <td>896</td>\n",
       "      <td>3</td>\n",
       "      <td>Hirvonen, Mrs. Alexander (Helga E Lindqvist)</td>\n",
       "      <td>female</td>\n",
       "      <td>22.0</td>\n",
       "      <td>1</td>\n",
       "      <td>1</td>\n",
       "      <td>3101298</td>\n",
       "      <td>12.2875</td>\n",
       "      <td>NaN</td>\n",
       "      <td>S</td>\n",
       "    </tr>\n",
       "  </tbody>\n",
       "</table>\n",
       "</div>"
      ],
      "text/plain": [
       "   PassengerId  Pclass                                          Name     Sex  \\\n",
       "0          892       3                              Kelly, Mr. James    male   \n",
       "1          893       3              Wilkes, Mrs. James (Ellen Needs)  female   \n",
       "2          894       2                     Myles, Mr. Thomas Francis    male   \n",
       "3          895       3                              Wirz, Mr. Albert    male   \n",
       "4          896       3  Hirvonen, Mrs. Alexander (Helga E Lindqvist)  female   \n",
       "\n",
       "    Age  SibSp  Parch   Ticket     Fare Cabin Embarked  \n",
       "0  34.5      0      0   330911   7.8292   NaN        Q  \n",
       "1  47.0      1      0   363272   7.0000   NaN        S  \n",
       "2  62.0      0      0   240276   9.6875   NaN        Q  \n",
       "3  27.0      0      0   315154   8.6625   NaN        S  \n",
       "4  22.0      1      1  3101298  12.2875   NaN        S  "
      ]
     },
     "execution_count": 3,
     "metadata": {},
     "output_type": "execute_result"
    }
   ],
   "source": [
    "test_data = pd.read_csv(\"/kaggle/input/titanic/test.csv\")\n",
    "test_data.head()"
   ]
  },
  {
   "cell_type": "code",
   "execution_count": 4,
   "id": "32b4a577",
   "metadata": {
    "execution": {
     "iopub.execute_input": "2024-11-07T08:38:54.754209Z",
     "iopub.status.busy": "2024-11-07T08:38:54.753759Z",
     "iopub.status.idle": "2024-11-07T08:38:54.761486Z",
     "shell.execute_reply": "2024-11-07T08:38:54.760106Z"
    },
    "papermill": {
     "duration": 0.022914,
     "end_time": "2024-11-07T08:38:54.764048",
     "exception": false,
     "start_time": "2024-11-07T08:38:54.741134",
     "status": "completed"
    },
    "tags": []
   },
   "outputs": [
    {
     "data": {
      "text/plain": [
       "((891, 12), (418, 11))"
      ]
     },
     "execution_count": 4,
     "metadata": {},
     "output_type": "execute_result"
    }
   ],
   "source": [
    "train_data.shape, test_data.shape"
   ]
  },
  {
   "cell_type": "code",
   "execution_count": 5,
   "id": "ddd64d16",
   "metadata": {
    "execution": {
     "iopub.execute_input": "2024-11-07T08:38:54.788120Z",
     "iopub.status.busy": "2024-11-07T08:38:54.787729Z",
     "iopub.status.idle": "2024-11-07T08:38:54.820727Z",
     "shell.execute_reply": "2024-11-07T08:38:54.819434Z"
    },
    "papermill": {
     "duration": 0.048077,
     "end_time": "2024-11-07T08:38:54.823359",
     "exception": false,
     "start_time": "2024-11-07T08:38:54.775282",
     "status": "completed"
    },
    "tags": []
   },
   "outputs": [
    {
     "name": "stdout",
     "output_type": "stream",
     "text": [
      "<class 'pandas.core.frame.DataFrame'>\n",
      "RangeIndex: 891 entries, 0 to 890\n",
      "Data columns (total 12 columns):\n",
      " #   Column       Non-Null Count  Dtype  \n",
      "---  ------       --------------  -----  \n",
      " 0   PassengerId  891 non-null    int64  \n",
      " 1   Survived     891 non-null    int64  \n",
      " 2   Pclass       891 non-null    int64  \n",
      " 3   Name         891 non-null    object \n",
      " 4   Sex          891 non-null    object \n",
      " 5   Age          714 non-null    float64\n",
      " 6   SibSp        891 non-null    int64  \n",
      " 7   Parch        891 non-null    int64  \n",
      " 8   Ticket       891 non-null    object \n",
      " 9   Fare         891 non-null    float64\n",
      " 10  Cabin        204 non-null    object \n",
      " 11  Embarked     889 non-null    object \n",
      "dtypes: float64(2), int64(5), object(5)\n",
      "memory usage: 83.7+ KB\n"
     ]
    }
   ],
   "source": [
    "train_data.info()"
   ]
  },
  {
   "cell_type": "code",
   "execution_count": 6,
   "id": "2edcca43",
   "metadata": {
    "execution": {
     "iopub.execute_input": "2024-11-07T08:38:54.848240Z",
     "iopub.status.busy": "2024-11-07T08:38:54.847002Z",
     "iopub.status.idle": "2024-11-07T08:38:54.859587Z",
     "shell.execute_reply": "2024-11-07T08:38:54.858509Z"
    },
    "papermill": {
     "duration": 0.027493,
     "end_time": "2024-11-07T08:38:54.862049",
     "exception": false,
     "start_time": "2024-11-07T08:38:54.834556",
     "status": "completed"
    },
    "tags": []
   },
   "outputs": [
    {
     "name": "stdout",
     "output_type": "stream",
     "text": [
      "<class 'pandas.core.frame.DataFrame'>\n",
      "RangeIndex: 418 entries, 0 to 417\n",
      "Data columns (total 11 columns):\n",
      " #   Column       Non-Null Count  Dtype  \n",
      "---  ------       --------------  -----  \n",
      " 0   PassengerId  418 non-null    int64  \n",
      " 1   Pclass       418 non-null    int64  \n",
      " 2   Name         418 non-null    object \n",
      " 3   Sex          418 non-null    object \n",
      " 4   Age          332 non-null    float64\n",
      " 5   SibSp        418 non-null    int64  \n",
      " 6   Parch        418 non-null    int64  \n",
      " 7   Ticket       418 non-null    object \n",
      " 8   Fare         417 non-null    float64\n",
      " 9   Cabin        91 non-null     object \n",
      " 10  Embarked     418 non-null    object \n",
      "dtypes: float64(2), int64(4), object(5)\n",
      "memory usage: 36.0+ KB\n"
     ]
    }
   ],
   "source": [
    "test_data.info()"
   ]
  },
  {
   "cell_type": "code",
   "execution_count": 7,
   "id": "aa0465d3",
   "metadata": {
    "execution": {
     "iopub.execute_input": "2024-11-07T08:38:54.889057Z",
     "iopub.status.busy": "2024-11-07T08:38:54.888662Z",
     "iopub.status.idle": "2024-11-07T08:38:54.898324Z",
     "shell.execute_reply": "2024-11-07T08:38:54.897060Z"
    },
    "papermill": {
     "duration": 0.024982,
     "end_time": "2024-11-07T08:38:54.900898",
     "exception": false,
     "start_time": "2024-11-07T08:38:54.875916",
     "status": "completed"
    },
    "tags": []
   },
   "outputs": [
    {
     "data": {
      "text/plain": [
       "PassengerId      0\n",
       "Survived         0\n",
       "Pclass           0\n",
       "Name             0\n",
       "Sex              0\n",
       "Age            177\n",
       "SibSp            0\n",
       "Parch            0\n",
       "Ticket           0\n",
       "Fare             0\n",
       "Cabin          687\n",
       "Embarked         2\n",
       "dtype: int64"
      ]
     },
     "execution_count": 7,
     "metadata": {},
     "output_type": "execute_result"
    }
   ],
   "source": [
    "train_data.isna().sum()"
   ]
  },
  {
   "cell_type": "code",
   "execution_count": 8,
   "id": "e12313c7",
   "metadata": {
    "execution": {
     "iopub.execute_input": "2024-11-07T08:38:54.925984Z",
     "iopub.status.busy": "2024-11-07T08:38:54.925031Z",
     "iopub.status.idle": "2024-11-07T08:38:54.934730Z",
     "shell.execute_reply": "2024-11-07T08:38:54.933564Z"
    },
    "papermill": {
     "duration": 0.024999,
     "end_time": "2024-11-07T08:38:54.937358",
     "exception": false,
     "start_time": "2024-11-07T08:38:54.912359",
     "status": "completed"
    },
    "tags": []
   },
   "outputs": [
    {
     "data": {
      "text/plain": [
       "PassengerId      0\n",
       "Pclass           0\n",
       "Name             0\n",
       "Sex              0\n",
       "Age             86\n",
       "SibSp            0\n",
       "Parch            0\n",
       "Ticket           0\n",
       "Fare             1\n",
       "Cabin          327\n",
       "Embarked         0\n",
       "dtype: int64"
      ]
     },
     "execution_count": 8,
     "metadata": {},
     "output_type": "execute_result"
    }
   ],
   "source": [
    "test_data.isna().sum()"
   ]
  },
  {
   "cell_type": "code",
   "execution_count": 9,
   "id": "a3af2755",
   "metadata": {
    "execution": {
     "iopub.execute_input": "2024-11-07T08:38:54.962415Z",
     "iopub.status.busy": "2024-11-07T08:38:54.961992Z",
     "iopub.status.idle": "2024-11-07T08:38:54.995631Z",
     "shell.execute_reply": "2024-11-07T08:38:54.994321Z"
    },
    "papermill": {
     "duration": 0.050046,
     "end_time": "2024-11-07T08:38:54.999225",
     "exception": false,
     "start_time": "2024-11-07T08:38:54.949179",
     "status": "completed"
    },
    "tags": []
   },
   "outputs": [
    {
     "data": {
      "text/html": [
       "<div>\n",
       "<style scoped>\n",
       "    .dataframe tbody tr th:only-of-type {\n",
       "        vertical-align: middle;\n",
       "    }\n",
       "\n",
       "    .dataframe tbody tr th {\n",
       "        vertical-align: top;\n",
       "    }\n",
       "\n",
       "    .dataframe thead th {\n",
       "        text-align: right;\n",
       "    }\n",
       "</style>\n",
       "<table border=\"1\" class=\"dataframe\">\n",
       "  <thead>\n",
       "    <tr style=\"text-align: right;\">\n",
       "      <th></th>\n",
       "      <th>PassengerId</th>\n",
       "      <th>Survived</th>\n",
       "      <th>Pclass</th>\n",
       "      <th>Age</th>\n",
       "      <th>SibSp</th>\n",
       "      <th>Parch</th>\n",
       "      <th>Fare</th>\n",
       "    </tr>\n",
       "  </thead>\n",
       "  <tbody>\n",
       "    <tr>\n",
       "      <th>count</th>\n",
       "      <td>891.000000</td>\n",
       "      <td>891.000000</td>\n",
       "      <td>891.000000</td>\n",
       "      <td>714.000000</td>\n",
       "      <td>891.000000</td>\n",
       "      <td>891.000000</td>\n",
       "      <td>891.000000</td>\n",
       "    </tr>\n",
       "    <tr>\n",
       "      <th>mean</th>\n",
       "      <td>446.000000</td>\n",
       "      <td>0.383838</td>\n",
       "      <td>2.308642</td>\n",
       "      <td>29.699118</td>\n",
       "      <td>0.523008</td>\n",
       "      <td>0.381594</td>\n",
       "      <td>32.204208</td>\n",
       "    </tr>\n",
       "    <tr>\n",
       "      <th>std</th>\n",
       "      <td>257.353842</td>\n",
       "      <td>0.486592</td>\n",
       "      <td>0.836071</td>\n",
       "      <td>14.526497</td>\n",
       "      <td>1.102743</td>\n",
       "      <td>0.806057</td>\n",
       "      <td>49.693429</td>\n",
       "    </tr>\n",
       "    <tr>\n",
       "      <th>min</th>\n",
       "      <td>1.000000</td>\n",
       "      <td>0.000000</td>\n",
       "      <td>1.000000</td>\n",
       "      <td>0.420000</td>\n",
       "      <td>0.000000</td>\n",
       "      <td>0.000000</td>\n",
       "      <td>0.000000</td>\n",
       "    </tr>\n",
       "    <tr>\n",
       "      <th>25%</th>\n",
       "      <td>223.500000</td>\n",
       "      <td>0.000000</td>\n",
       "      <td>2.000000</td>\n",
       "      <td>20.125000</td>\n",
       "      <td>0.000000</td>\n",
       "      <td>0.000000</td>\n",
       "      <td>7.910400</td>\n",
       "    </tr>\n",
       "    <tr>\n",
       "      <th>50%</th>\n",
       "      <td>446.000000</td>\n",
       "      <td>0.000000</td>\n",
       "      <td>3.000000</td>\n",
       "      <td>28.000000</td>\n",
       "      <td>0.000000</td>\n",
       "      <td>0.000000</td>\n",
       "      <td>14.454200</td>\n",
       "    </tr>\n",
       "    <tr>\n",
       "      <th>75%</th>\n",
       "      <td>668.500000</td>\n",
       "      <td>1.000000</td>\n",
       "      <td>3.000000</td>\n",
       "      <td>38.000000</td>\n",
       "      <td>1.000000</td>\n",
       "      <td>0.000000</td>\n",
       "      <td>31.000000</td>\n",
       "    </tr>\n",
       "    <tr>\n",
       "      <th>max</th>\n",
       "      <td>891.000000</td>\n",
       "      <td>1.000000</td>\n",
       "      <td>3.000000</td>\n",
       "      <td>80.000000</td>\n",
       "      <td>8.000000</td>\n",
       "      <td>6.000000</td>\n",
       "      <td>512.329200</td>\n",
       "    </tr>\n",
       "  </tbody>\n",
       "</table>\n",
       "</div>"
      ],
      "text/plain": [
       "       PassengerId    Survived      Pclass         Age       SibSp  \\\n",
       "count   891.000000  891.000000  891.000000  714.000000  891.000000   \n",
       "mean    446.000000    0.383838    2.308642   29.699118    0.523008   \n",
       "std     257.353842    0.486592    0.836071   14.526497    1.102743   \n",
       "min       1.000000    0.000000    1.000000    0.420000    0.000000   \n",
       "25%     223.500000    0.000000    2.000000   20.125000    0.000000   \n",
       "50%     446.000000    0.000000    3.000000   28.000000    0.000000   \n",
       "75%     668.500000    1.000000    3.000000   38.000000    1.000000   \n",
       "max     891.000000    1.000000    3.000000   80.000000    8.000000   \n",
       "\n",
       "            Parch        Fare  \n",
       "count  891.000000  891.000000  \n",
       "mean     0.381594   32.204208  \n",
       "std      0.806057   49.693429  \n",
       "min      0.000000    0.000000  \n",
       "25%      0.000000    7.910400  \n",
       "50%      0.000000   14.454200  \n",
       "75%      0.000000   31.000000  \n",
       "max      6.000000  512.329200  "
      ]
     },
     "execution_count": 9,
     "metadata": {},
     "output_type": "execute_result"
    }
   ],
   "source": [
    "train_data.describe()"
   ]
  },
  {
   "cell_type": "code",
   "execution_count": 10,
   "id": "209d9042",
   "metadata": {
    "execution": {
     "iopub.execute_input": "2024-11-07T08:38:55.026887Z",
     "iopub.status.busy": "2024-11-07T08:38:55.026142Z",
     "iopub.status.idle": "2024-11-07T08:38:55.046545Z",
     "shell.execute_reply": "2024-11-07T08:38:55.045450Z"
    },
    "papermill": {
     "duration": 0.03711,
     "end_time": "2024-11-07T08:38:55.048998",
     "exception": false,
     "start_time": "2024-11-07T08:38:55.011888",
     "status": "completed"
    },
    "tags": []
   },
   "outputs": [
    {
     "data": {
      "text/html": [
       "<div>\n",
       "<style scoped>\n",
       "    .dataframe tbody tr th:only-of-type {\n",
       "        vertical-align: middle;\n",
       "    }\n",
       "\n",
       "    .dataframe tbody tr th {\n",
       "        vertical-align: top;\n",
       "    }\n",
       "\n",
       "    .dataframe thead th {\n",
       "        text-align: right;\n",
       "    }\n",
       "</style>\n",
       "<table border=\"1\" class=\"dataframe\">\n",
       "  <thead>\n",
       "    <tr style=\"text-align: right;\">\n",
       "      <th></th>\n",
       "      <th>Name</th>\n",
       "      <th>Sex</th>\n",
       "      <th>Ticket</th>\n",
       "      <th>Cabin</th>\n",
       "      <th>Embarked</th>\n",
       "    </tr>\n",
       "  </thead>\n",
       "  <tbody>\n",
       "    <tr>\n",
       "      <th>count</th>\n",
       "      <td>891</td>\n",
       "      <td>891</td>\n",
       "      <td>891</td>\n",
       "      <td>204</td>\n",
       "      <td>889</td>\n",
       "    </tr>\n",
       "    <tr>\n",
       "      <th>unique</th>\n",
       "      <td>891</td>\n",
       "      <td>2</td>\n",
       "      <td>681</td>\n",
       "      <td>147</td>\n",
       "      <td>3</td>\n",
       "    </tr>\n",
       "    <tr>\n",
       "      <th>top</th>\n",
       "      <td>Braund, Mr. Owen Harris</td>\n",
       "      <td>male</td>\n",
       "      <td>347082</td>\n",
       "      <td>B96 B98</td>\n",
       "      <td>S</td>\n",
       "    </tr>\n",
       "    <tr>\n",
       "      <th>freq</th>\n",
       "      <td>1</td>\n",
       "      <td>577</td>\n",
       "      <td>7</td>\n",
       "      <td>4</td>\n",
       "      <td>644</td>\n",
       "    </tr>\n",
       "  </tbody>\n",
       "</table>\n",
       "</div>"
      ],
      "text/plain": [
       "                           Name   Sex  Ticket    Cabin Embarked\n",
       "count                       891   891     891      204      889\n",
       "unique                      891     2     681      147        3\n",
       "top     Braund, Mr. Owen Harris  male  347082  B96 B98        S\n",
       "freq                          1   577       7        4      644"
      ]
     },
     "execution_count": 10,
     "metadata": {},
     "output_type": "execute_result"
    }
   ],
   "source": [
    "train_data.describe(include=['O'])"
   ]
  },
  {
   "cell_type": "markdown",
   "id": "c79a1476",
   "metadata": {
    "papermill": {
     "duration": 0.011938,
     "end_time": "2024-11-07T08:38:55.072944",
     "exception": false,
     "start_time": "2024-11-07T08:38:55.061006",
     "status": "completed"
    },
    "tags": []
   },
   "source": [
    "# **2. Data Cleaning and Data Transform**"
   ]
  },
  {
   "cell_type": "code",
   "execution_count": 11,
   "id": "b5e2e4c8",
   "metadata": {
    "execution": {
     "iopub.execute_input": "2024-11-07T08:38:55.100127Z",
     "iopub.status.busy": "2024-11-07T08:38:55.099086Z",
     "iopub.status.idle": "2024-11-07T08:38:55.109402Z",
     "shell.execute_reply": "2024-11-07T08:38:55.108131Z"
    },
    "papermill": {
     "duration": 0.026092,
     "end_time": "2024-11-07T08:38:55.111754",
     "exception": false,
     "start_time": "2024-11-07T08:38:55.085662",
     "status": "completed"
    },
    "tags": []
   },
   "outputs": [],
   "source": [
    "train_data = train_data.drop(['Ticket', 'Cabin'], axis=1)\n",
    "test_data = test_data.drop(['Ticket', 'Cabin'], axis=1)"
   ]
  },
  {
   "cell_type": "code",
   "execution_count": 12,
   "id": "3af3e907",
   "metadata": {
    "execution": {
     "iopub.execute_input": "2024-11-07T08:38:55.140413Z",
     "iopub.status.busy": "2024-11-07T08:38:55.139628Z",
     "iopub.status.idle": "2024-11-07T08:38:55.155809Z",
     "shell.execute_reply": "2024-11-07T08:38:55.154685Z"
    },
    "papermill": {
     "duration": 0.032805,
     "end_time": "2024-11-07T08:38:55.158303",
     "exception": false,
     "start_time": "2024-11-07T08:38:55.125498",
     "status": "completed"
    },
    "tags": []
   },
   "outputs": [
    {
     "data": {
      "text/html": [
       "<div>\n",
       "<style scoped>\n",
       "    .dataframe tbody tr th:only-of-type {\n",
       "        vertical-align: middle;\n",
       "    }\n",
       "\n",
       "    .dataframe tbody tr th {\n",
       "        vertical-align: top;\n",
       "    }\n",
       "\n",
       "    .dataframe thead th {\n",
       "        text-align: right;\n",
       "    }\n",
       "</style>\n",
       "<table border=\"1\" class=\"dataframe\">\n",
       "  <thead>\n",
       "    <tr style=\"text-align: right;\">\n",
       "      <th></th>\n",
       "      <th>PassengerId</th>\n",
       "      <th>Survived</th>\n",
       "      <th>Pclass</th>\n",
       "      <th>Name</th>\n",
       "      <th>Sex</th>\n",
       "      <th>Age</th>\n",
       "      <th>SibSp</th>\n",
       "      <th>Parch</th>\n",
       "      <th>Fare</th>\n",
       "      <th>Embarked</th>\n",
       "    </tr>\n",
       "  </thead>\n",
       "  <tbody>\n",
       "    <tr>\n",
       "      <th>0</th>\n",
       "      <td>1</td>\n",
       "      <td>0</td>\n",
       "      <td>3</td>\n",
       "      <td>Braund, Mr. Owen Harris</td>\n",
       "      <td>male</td>\n",
       "      <td>22.0</td>\n",
       "      <td>1</td>\n",
       "      <td>0</td>\n",
       "      <td>7.2500</td>\n",
       "      <td>S</td>\n",
       "    </tr>\n",
       "    <tr>\n",
       "      <th>1</th>\n",
       "      <td>2</td>\n",
       "      <td>1</td>\n",
       "      <td>1</td>\n",
       "      <td>Cumings, Mrs. John Bradley (Florence Briggs Th...</td>\n",
       "      <td>female</td>\n",
       "      <td>38.0</td>\n",
       "      <td>1</td>\n",
       "      <td>0</td>\n",
       "      <td>71.2833</td>\n",
       "      <td>C</td>\n",
       "    </tr>\n",
       "    <tr>\n",
       "      <th>2</th>\n",
       "      <td>3</td>\n",
       "      <td>1</td>\n",
       "      <td>3</td>\n",
       "      <td>Heikkinen, Miss. Laina</td>\n",
       "      <td>female</td>\n",
       "      <td>26.0</td>\n",
       "      <td>0</td>\n",
       "      <td>0</td>\n",
       "      <td>7.9250</td>\n",
       "      <td>S</td>\n",
       "    </tr>\n",
       "    <tr>\n",
       "      <th>3</th>\n",
       "      <td>4</td>\n",
       "      <td>1</td>\n",
       "      <td>1</td>\n",
       "      <td>Futrelle, Mrs. Jacques Heath (Lily May Peel)</td>\n",
       "      <td>female</td>\n",
       "      <td>35.0</td>\n",
       "      <td>1</td>\n",
       "      <td>0</td>\n",
       "      <td>53.1000</td>\n",
       "      <td>S</td>\n",
       "    </tr>\n",
       "    <tr>\n",
       "      <th>4</th>\n",
       "      <td>5</td>\n",
       "      <td>0</td>\n",
       "      <td>3</td>\n",
       "      <td>Allen, Mr. William Henry</td>\n",
       "      <td>male</td>\n",
       "      <td>35.0</td>\n",
       "      <td>0</td>\n",
       "      <td>0</td>\n",
       "      <td>8.0500</td>\n",
       "      <td>S</td>\n",
       "    </tr>\n",
       "  </tbody>\n",
       "</table>\n",
       "</div>"
      ],
      "text/plain": [
       "   PassengerId  Survived  Pclass  \\\n",
       "0            1         0       3   \n",
       "1            2         1       1   \n",
       "2            3         1       3   \n",
       "3            4         1       1   \n",
       "4            5         0       3   \n",
       "\n",
       "                                                Name     Sex   Age  SibSp  \\\n",
       "0                            Braund, Mr. Owen Harris    male  22.0      1   \n",
       "1  Cumings, Mrs. John Bradley (Florence Briggs Th...  female  38.0      1   \n",
       "2                             Heikkinen, Miss. Laina  female  26.0      0   \n",
       "3       Futrelle, Mrs. Jacques Heath (Lily May Peel)  female  35.0      1   \n",
       "4                           Allen, Mr. William Henry    male  35.0      0   \n",
       "\n",
       "   Parch     Fare Embarked  \n",
       "0      0   7.2500        S  \n",
       "1      0  71.2833        C  \n",
       "2      0   7.9250        S  \n",
       "3      0  53.1000        S  \n",
       "4      0   8.0500        S  "
      ]
     },
     "execution_count": 12,
     "metadata": {},
     "output_type": "execute_result"
    }
   ],
   "source": [
    "train_data.head()"
   ]
  },
  {
   "cell_type": "code",
   "execution_count": 13,
   "id": "6e76bfd2",
   "metadata": {
    "execution": {
     "iopub.execute_input": "2024-11-07T08:38:55.184908Z",
     "iopub.status.busy": "2024-11-07T08:38:55.184521Z",
     "iopub.status.idle": "2024-11-07T08:38:55.196317Z",
     "shell.execute_reply": "2024-11-07T08:38:55.195118Z"
    },
    "papermill": {
     "duration": 0.027583,
     "end_time": "2024-11-07T08:38:55.198743",
     "exception": false,
     "start_time": "2024-11-07T08:38:55.171160",
     "status": "completed"
    },
    "tags": []
   },
   "outputs": [
    {
     "name": "stdout",
     "output_type": "stream",
     "text": [
      "Number of people embarking in Southampton (S):\n",
      "644\n",
      "Number of people embarking in Cherbourg (C):\n",
      "168\n",
      "Number of people embarking in Queenstown (Q):\n",
      "77\n"
     ]
    }
   ],
   "source": [
    "print(\"Number of people embarking in Southampton (S):\")\n",
    "southampton = train_data[train_data[\"Embarked\"] == \"S\"].shape[0]\n",
    "print(southampton)\n",
    "\n",
    "print(\"Number of people embarking in Cherbourg (C):\")\n",
    "cherbourg = train_data[train_data[\"Embarked\"] == \"C\"].shape[0]\n",
    "print(cherbourg)\n",
    "\n",
    "print(\"Number of people embarking in Queenstown (Q):\")\n",
    "queenstown = train_data[train_data[\"Embarked\"] == \"Q\"].shape[0]\n",
    "print(queenstown)"
   ]
  },
  {
   "cell_type": "code",
   "execution_count": 14,
   "id": "3eeddbc6",
   "metadata": {
    "execution": {
     "iopub.execute_input": "2024-11-07T08:38:55.225150Z",
     "iopub.status.busy": "2024-11-07T08:38:55.224425Z",
     "iopub.status.idle": "2024-11-07T08:38:55.230595Z",
     "shell.execute_reply": "2024-11-07T08:38:55.229477Z"
    },
    "papermill": {
     "duration": 0.021913,
     "end_time": "2024-11-07T08:38:55.232811",
     "exception": false,
     "start_time": "2024-11-07T08:38:55.210898",
     "status": "completed"
    },
    "tags": []
   },
   "outputs": [],
   "source": [
    "train_data = train_data.fillna({\"Embarked\": \"S\"})"
   ]
  },
  {
   "cell_type": "code",
   "execution_count": 15,
   "id": "c26bd912",
   "metadata": {
    "execution": {
     "iopub.execute_input": "2024-11-07T08:38:55.258946Z",
     "iopub.status.busy": "2024-11-07T08:38:55.258572Z",
     "iopub.status.idle": "2024-11-07T08:38:55.263311Z",
     "shell.execute_reply": "2024-11-07T08:38:55.262153Z"
    },
    "papermill": {
     "duration": 0.020785,
     "end_time": "2024-11-07T08:38:55.265754",
     "exception": false,
     "start_time": "2024-11-07T08:38:55.244969",
     "status": "completed"
    },
    "tags": []
   },
   "outputs": [],
   "source": [
    "# Create a combined group of both datasets\n",
    "combine = [train_data, test_data]"
   ]
  },
  {
   "cell_type": "code",
   "execution_count": 16,
   "id": "0d8cd247",
   "metadata": {
    "execution": {
     "iopub.execute_input": "2024-11-07T08:38:55.292619Z",
     "iopub.status.busy": "2024-11-07T08:38:55.292206Z",
     "iopub.status.idle": "2024-11-07T08:38:55.326401Z",
     "shell.execute_reply": "2024-11-07T08:38:55.325336Z"
    },
    "papermill": {
     "duration": 0.050637,
     "end_time": "2024-11-07T08:38:55.328973",
     "exception": false,
     "start_time": "2024-11-07T08:38:55.278336",
     "status": "completed"
    },
    "tags": []
   },
   "outputs": [
    {
     "data": {
      "text/html": [
       "<div>\n",
       "<style scoped>\n",
       "    .dataframe tbody tr th:only-of-type {\n",
       "        vertical-align: middle;\n",
       "    }\n",
       "\n",
       "    .dataframe tbody tr th {\n",
       "        vertical-align: top;\n",
       "    }\n",
       "\n",
       "    .dataframe thead th {\n",
       "        text-align: right;\n",
       "    }\n",
       "</style>\n",
       "<table border=\"1\" class=\"dataframe\">\n",
       "  <thead>\n",
       "    <tr style=\"text-align: right;\">\n",
       "      <th>Sex</th>\n",
       "      <th>female</th>\n",
       "      <th>male</th>\n",
       "    </tr>\n",
       "    <tr>\n",
       "      <th>Title</th>\n",
       "      <th></th>\n",
       "      <th></th>\n",
       "    </tr>\n",
       "  </thead>\n",
       "  <tbody>\n",
       "    <tr>\n",
       "      <th>Capt</th>\n",
       "      <td>0</td>\n",
       "      <td>1</td>\n",
       "    </tr>\n",
       "    <tr>\n",
       "      <th>Col</th>\n",
       "      <td>0</td>\n",
       "      <td>2</td>\n",
       "    </tr>\n",
       "    <tr>\n",
       "      <th>Countess</th>\n",
       "      <td>1</td>\n",
       "      <td>0</td>\n",
       "    </tr>\n",
       "    <tr>\n",
       "      <th>Don</th>\n",
       "      <td>0</td>\n",
       "      <td>1</td>\n",
       "    </tr>\n",
       "    <tr>\n",
       "      <th>Dr</th>\n",
       "      <td>1</td>\n",
       "      <td>6</td>\n",
       "    </tr>\n",
       "    <tr>\n",
       "      <th>Jonkheer</th>\n",
       "      <td>0</td>\n",
       "      <td>1</td>\n",
       "    </tr>\n",
       "    <tr>\n",
       "      <th>Lady</th>\n",
       "      <td>1</td>\n",
       "      <td>0</td>\n",
       "    </tr>\n",
       "    <tr>\n",
       "      <th>Major</th>\n",
       "      <td>0</td>\n",
       "      <td>2</td>\n",
       "    </tr>\n",
       "    <tr>\n",
       "      <th>Master</th>\n",
       "      <td>0</td>\n",
       "      <td>40</td>\n",
       "    </tr>\n",
       "    <tr>\n",
       "      <th>Miss</th>\n",
       "      <td>182</td>\n",
       "      <td>0</td>\n",
       "    </tr>\n",
       "    <tr>\n",
       "      <th>Mlle</th>\n",
       "      <td>2</td>\n",
       "      <td>0</td>\n",
       "    </tr>\n",
       "    <tr>\n",
       "      <th>Mme</th>\n",
       "      <td>1</td>\n",
       "      <td>0</td>\n",
       "    </tr>\n",
       "    <tr>\n",
       "      <th>Mr</th>\n",
       "      <td>0</td>\n",
       "      <td>517</td>\n",
       "    </tr>\n",
       "    <tr>\n",
       "      <th>Mrs</th>\n",
       "      <td>125</td>\n",
       "      <td>0</td>\n",
       "    </tr>\n",
       "    <tr>\n",
       "      <th>Ms</th>\n",
       "      <td>1</td>\n",
       "      <td>0</td>\n",
       "    </tr>\n",
       "    <tr>\n",
       "      <th>Rev</th>\n",
       "      <td>0</td>\n",
       "      <td>6</td>\n",
       "    </tr>\n",
       "    <tr>\n",
       "      <th>Sir</th>\n",
       "      <td>0</td>\n",
       "      <td>1</td>\n",
       "    </tr>\n",
       "  </tbody>\n",
       "</table>\n",
       "</div>"
      ],
      "text/plain": [
       "Sex       female  male\n",
       "Title                 \n",
       "Capt           0     1\n",
       "Col            0     2\n",
       "Countess       1     0\n",
       "Don            0     1\n",
       "Dr             1     6\n",
       "Jonkheer       0     1\n",
       "Lady           1     0\n",
       "Major          0     2\n",
       "Master         0    40\n",
       "Miss         182     0\n",
       "Mlle           2     0\n",
       "Mme            1     0\n",
       "Mr             0   517\n",
       "Mrs          125     0\n",
       "Ms             1     0\n",
       "Rev            0     6\n",
       "Sir            0     1"
      ]
     },
     "execution_count": 16,
     "metadata": {},
     "output_type": "execute_result"
    }
   ],
   "source": [
    "for dataset in combine:\n",
    "    dataset['Title'] = dataset.Name.str.extract(' ([A-Za-z]+)\\.', expand=False)\n",
    "\n",
    "pd.crosstab(train_data['Title'], train_data['Sex'])"
   ]
  },
  {
   "cell_type": "code",
   "execution_count": 17,
   "id": "00017803",
   "metadata": {
    "execution": {
     "iopub.execute_input": "2024-11-07T08:38:55.355823Z",
     "iopub.status.busy": "2024-11-07T08:38:55.355422Z",
     "iopub.status.idle": "2024-11-07T08:38:55.381261Z",
     "shell.execute_reply": "2024-11-07T08:38:55.380169Z"
    },
    "papermill": {
     "duration": 0.042267,
     "end_time": "2024-11-07T08:38:55.383844",
     "exception": false,
     "start_time": "2024-11-07T08:38:55.341577",
     "status": "completed"
    },
    "tags": []
   },
   "outputs": [
    {
     "data": {
      "text/html": [
       "<div>\n",
       "<style scoped>\n",
       "    .dataframe tbody tr th:only-of-type {\n",
       "        vertical-align: middle;\n",
       "    }\n",
       "\n",
       "    .dataframe tbody tr th {\n",
       "        vertical-align: top;\n",
       "    }\n",
       "\n",
       "    .dataframe thead th {\n",
       "        text-align: right;\n",
       "    }\n",
       "</style>\n",
       "<table border=\"1\" class=\"dataframe\">\n",
       "  <thead>\n",
       "    <tr style=\"text-align: right;\">\n",
       "      <th></th>\n",
       "      <th>Title</th>\n",
       "      <th>Survived</th>\n",
       "    </tr>\n",
       "  </thead>\n",
       "  <tbody>\n",
       "    <tr>\n",
       "      <th>0</th>\n",
       "      <td>Master</td>\n",
       "      <td>0.575000</td>\n",
       "    </tr>\n",
       "    <tr>\n",
       "      <th>1</th>\n",
       "      <td>Miss</td>\n",
       "      <td>0.702703</td>\n",
       "    </tr>\n",
       "    <tr>\n",
       "      <th>2</th>\n",
       "      <td>Mr</td>\n",
       "      <td>0.156673</td>\n",
       "    </tr>\n",
       "    <tr>\n",
       "      <th>3</th>\n",
       "      <td>Mrs</td>\n",
       "      <td>0.793651</td>\n",
       "    </tr>\n",
       "    <tr>\n",
       "      <th>4</th>\n",
       "      <td>Rare</td>\n",
       "      <td>0.285714</td>\n",
       "    </tr>\n",
       "    <tr>\n",
       "      <th>5</th>\n",
       "      <td>Royal</td>\n",
       "      <td>1.000000</td>\n",
       "    </tr>\n",
       "  </tbody>\n",
       "</table>\n",
       "</div>"
      ],
      "text/plain": [
       "    Title  Survived\n",
       "0  Master  0.575000\n",
       "1    Miss  0.702703\n",
       "2      Mr  0.156673\n",
       "3     Mrs  0.793651\n",
       "4    Rare  0.285714\n",
       "5   Royal  1.000000"
      ]
     },
     "execution_count": 17,
     "metadata": {},
     "output_type": "execute_result"
    }
   ],
   "source": [
    "# Replace various titles with more common names\n",
    "for dataset in combine:\n",
    "    dataset['Title'] = dataset['Title'].replace(['Lady', 'Capt', 'Col',\n",
    "    'Don', 'Dr', 'Major', 'Rev', 'Jonkheer', 'Dona'], 'Rare')\n",
    "    \n",
    "    dataset['Title'] = dataset['Title'].replace(['Countess', 'Lady', 'Sir'], 'Royal')\n",
    "    dataset['Title'] = dataset['Title'].replace('Mlle', 'Miss')\n",
    "    dataset['Title'] = dataset['Title'].replace('Ms', 'Miss')\n",
    "    dataset['Title'] = dataset['Title'].replace('Mme', 'Mrs')\n",
    "\n",
    "train_data[['Title', 'Survived']].groupby(['Title'], as_index=False).mean()"
   ]
  },
  {
   "cell_type": "code",
   "execution_count": 18,
   "id": "e93b0ef0",
   "metadata": {
    "execution": {
     "iopub.execute_input": "2024-11-07T08:38:55.411949Z",
     "iopub.status.busy": "2024-11-07T08:38:55.411531Z",
     "iopub.status.idle": "2024-11-07T08:38:55.431405Z",
     "shell.execute_reply": "2024-11-07T08:38:55.430144Z"
    },
    "papermill": {
     "duration": 0.037361,
     "end_time": "2024-11-07T08:38:55.434330",
     "exception": false,
     "start_time": "2024-11-07T08:38:55.396969",
     "status": "completed"
    },
    "tags": []
   },
   "outputs": [
    {
     "data": {
      "text/html": [
       "<div>\n",
       "<style scoped>\n",
       "    .dataframe tbody tr th:only-of-type {\n",
       "        vertical-align: middle;\n",
       "    }\n",
       "\n",
       "    .dataframe tbody tr th {\n",
       "        vertical-align: top;\n",
       "    }\n",
       "\n",
       "    .dataframe thead th {\n",
       "        text-align: right;\n",
       "    }\n",
       "</style>\n",
       "<table border=\"1\" class=\"dataframe\">\n",
       "  <thead>\n",
       "    <tr style=\"text-align: right;\">\n",
       "      <th></th>\n",
       "      <th>PassengerId</th>\n",
       "      <th>Survived</th>\n",
       "      <th>Pclass</th>\n",
       "      <th>Name</th>\n",
       "      <th>Sex</th>\n",
       "      <th>Age</th>\n",
       "      <th>SibSp</th>\n",
       "      <th>Parch</th>\n",
       "      <th>Fare</th>\n",
       "      <th>Embarked</th>\n",
       "      <th>Title</th>\n",
       "    </tr>\n",
       "  </thead>\n",
       "  <tbody>\n",
       "    <tr>\n",
       "      <th>0</th>\n",
       "      <td>1</td>\n",
       "      <td>0</td>\n",
       "      <td>3</td>\n",
       "      <td>Braund, Mr. Owen Harris</td>\n",
       "      <td>male</td>\n",
       "      <td>22.0</td>\n",
       "      <td>1</td>\n",
       "      <td>0</td>\n",
       "      <td>7.2500</td>\n",
       "      <td>S</td>\n",
       "      <td>1</td>\n",
       "    </tr>\n",
       "    <tr>\n",
       "      <th>1</th>\n",
       "      <td>2</td>\n",
       "      <td>1</td>\n",
       "      <td>1</td>\n",
       "      <td>Cumings, Mrs. John Bradley (Florence Briggs Th...</td>\n",
       "      <td>female</td>\n",
       "      <td>38.0</td>\n",
       "      <td>1</td>\n",
       "      <td>0</td>\n",
       "      <td>71.2833</td>\n",
       "      <td>C</td>\n",
       "      <td>3</td>\n",
       "    </tr>\n",
       "    <tr>\n",
       "      <th>2</th>\n",
       "      <td>3</td>\n",
       "      <td>1</td>\n",
       "      <td>3</td>\n",
       "      <td>Heikkinen, Miss. Laina</td>\n",
       "      <td>female</td>\n",
       "      <td>26.0</td>\n",
       "      <td>0</td>\n",
       "      <td>0</td>\n",
       "      <td>7.9250</td>\n",
       "      <td>S</td>\n",
       "      <td>2</td>\n",
       "    </tr>\n",
       "    <tr>\n",
       "      <th>3</th>\n",
       "      <td>4</td>\n",
       "      <td>1</td>\n",
       "      <td>1</td>\n",
       "      <td>Futrelle, Mrs. Jacques Heath (Lily May Peel)</td>\n",
       "      <td>female</td>\n",
       "      <td>35.0</td>\n",
       "      <td>1</td>\n",
       "      <td>0</td>\n",
       "      <td>53.1000</td>\n",
       "      <td>S</td>\n",
       "      <td>3</td>\n",
       "    </tr>\n",
       "    <tr>\n",
       "      <th>4</th>\n",
       "      <td>5</td>\n",
       "      <td>0</td>\n",
       "      <td>3</td>\n",
       "      <td>Allen, Mr. William Henry</td>\n",
       "      <td>male</td>\n",
       "      <td>35.0</td>\n",
       "      <td>0</td>\n",
       "      <td>0</td>\n",
       "      <td>8.0500</td>\n",
       "      <td>S</td>\n",
       "      <td>1</td>\n",
       "    </tr>\n",
       "  </tbody>\n",
       "</table>\n",
       "</div>"
      ],
      "text/plain": [
       "   PassengerId  Survived  Pclass  \\\n",
       "0            1         0       3   \n",
       "1            2         1       1   \n",
       "2            3         1       3   \n",
       "3            4         1       1   \n",
       "4            5         0       3   \n",
       "\n",
       "                                                Name     Sex   Age  SibSp  \\\n",
       "0                            Braund, Mr. Owen Harris    male  22.0      1   \n",
       "1  Cumings, Mrs. John Bradley (Florence Briggs Th...  female  38.0      1   \n",
       "2                             Heikkinen, Miss. Laina  female  26.0      0   \n",
       "3       Futrelle, Mrs. Jacques Heath (Lily May Peel)  female  35.0      1   \n",
       "4                           Allen, Mr. William Henry    male  35.0      0   \n",
       "\n",
       "   Parch     Fare Embarked  Title  \n",
       "0      0   7.2500        S      1  \n",
       "1      0  71.2833        C      3  \n",
       "2      0   7.9250        S      2  \n",
       "3      0  53.1000        S      3  \n",
       "4      0   8.0500        S      1  "
      ]
     },
     "execution_count": 18,
     "metadata": {},
     "output_type": "execute_result"
    }
   ],
   "source": [
    "title_mapping = {\"Mr\": 1, \"Miss\": 2, \"Mrs\": 3, \"Master\": 4, \"Royal\": 5, \"Rare\": 6}\n",
    "for dataset in combine:\n",
    "    dataset['Title'] = dataset['Title'].map(title_mapping)\n",
    "    dataset['Title'] = dataset['Title'].fillna(0)\n",
    "\n",
    "train_data.head()"
   ]
  },
  {
   "cell_type": "code",
   "execution_count": 19,
   "id": "3188b579",
   "metadata": {
    "execution": {
     "iopub.execute_input": "2024-11-07T08:38:55.463012Z",
     "iopub.status.busy": "2024-11-07T08:38:55.462237Z",
     "iopub.status.idle": "2024-11-07T08:38:55.476464Z",
     "shell.execute_reply": "2024-11-07T08:38:55.475305Z"
    },
    "papermill": {
     "duration": 0.031537,
     "end_time": "2024-11-07T08:38:55.478906",
     "exception": false,
     "start_time": "2024-11-07T08:38:55.447369",
     "status": "completed"
    },
    "tags": []
   },
   "outputs": [],
   "source": [
    "#sort the ages into logical categories\n",
    "train_data[\"Age\"] = train_data[\"Age\"].fillna(-0.5)\n",
    "test_data[\"Age\"] = test_data[\"Age\"].fillna(-0.5)\n",
    "bins = [-1, 0, 5, 12, 18, 24, 35, 60, np.inf]\n",
    "labels = ['Unknown', 'Baby', 'Child', 'Teenager', 'Student', 'Young Adult', 'Adult', 'Senior']\n",
    "train_data['AgeGroup'] = pd.cut(train_data[\"Age\"], bins, labels = labels)\n",
    "test_data['AgeGroup'] = pd.cut(test_data[\"Age\"], bins, labels = labels)"
   ]
  },
  {
   "cell_type": "code",
   "execution_count": 20,
   "id": "c403ecd0",
   "metadata": {
    "execution": {
     "iopub.execute_input": "2024-11-07T08:38:55.508087Z",
     "iopub.status.busy": "2024-11-07T08:38:55.507649Z",
     "iopub.status.idle": "2024-11-07T08:38:55.531236Z",
     "shell.execute_reply": "2024-11-07T08:38:55.530283Z"
    },
    "papermill": {
     "duration": 0.041928,
     "end_time": "2024-11-07T08:38:55.533971",
     "exception": false,
     "start_time": "2024-11-07T08:38:55.492043",
     "status": "completed"
    },
    "tags": []
   },
   "outputs": [],
   "source": [
    "# Fill missing age with mode age group for each title\n",
    "mr_age = train_data[train_data[\"Title\"] == 1][\"AgeGroup\"].mode() #Young Adult\n",
    "miss_age = train_data[train_data[\"Title\"] == 2][\"AgeGroup\"].mode() #Student\n",
    "mrs_age = train_data[train_data[\"Title\"] == 3][\"AgeGroup\"].mode() #Adult\n",
    "master_age = train_data[train_data[\"Title\"] == 4][\"AgeGroup\"].mode() #Baby\n",
    "royal_age = train_data[train_data[\"Title\"] == 5][\"AgeGroup\"].mode() #Adult\n",
    "rare_age = train_data[train_data[\"Title\"] == 6][\"AgeGroup\"].mode() #Adult\n",
    "\n",
    "age_title_mapping = {1: \"Young Adult\", 2: \"Student\", 3: \"Adult\", 4: \"Baby\", 5: \"Adult\", 6: \"Adult\"}\n",
    "\n",
    "# Updating AgeGroup in train_data using .loc\n",
    "train_data.loc[train_data[\"AgeGroup\"] == \"Unknown\", \"AgeGroup\"] = train_data.loc[train_data[\"AgeGroup\"] == \"Unknown\", \"Title\"].map(age_title_mapping)\n",
    "\n",
    "# Updating AgeGroup in test_data using .loc\n",
    "test_data.loc[test_data[\"AgeGroup\"] == \"Unknown\", \"AgeGroup\"] = test_data.loc[test_data[\"AgeGroup\"] == \"Unknown\", \"Title\"].map(age_title_mapping)"
   ]
  },
  {
   "cell_type": "code",
   "execution_count": 21,
   "id": "ceaa31e9",
   "metadata": {
    "execution": {
     "iopub.execute_input": "2024-11-07T08:38:55.562856Z",
     "iopub.status.busy": "2024-11-07T08:38:55.562435Z",
     "iopub.status.idle": "2024-11-07T08:38:55.585313Z",
     "shell.execute_reply": "2024-11-07T08:38:55.583438Z"
    },
    "papermill": {
     "duration": 0.040627,
     "end_time": "2024-11-07T08:38:55.588761",
     "exception": false,
     "start_time": "2024-11-07T08:38:55.548134",
     "status": "completed"
    },
    "tags": []
   },
   "outputs": [
    {
     "data": {
      "text/html": [
       "<div>\n",
       "<style scoped>\n",
       "    .dataframe tbody tr th:only-of-type {\n",
       "        vertical-align: middle;\n",
       "    }\n",
       "\n",
       "    .dataframe tbody tr th {\n",
       "        vertical-align: top;\n",
       "    }\n",
       "\n",
       "    .dataframe thead th {\n",
       "        text-align: right;\n",
       "    }\n",
       "</style>\n",
       "<table border=\"1\" class=\"dataframe\">\n",
       "  <thead>\n",
       "    <tr style=\"text-align: right;\">\n",
       "      <th></th>\n",
       "      <th>PassengerId</th>\n",
       "      <th>Survived</th>\n",
       "      <th>Pclass</th>\n",
       "      <th>Name</th>\n",
       "      <th>Sex</th>\n",
       "      <th>SibSp</th>\n",
       "      <th>Parch</th>\n",
       "      <th>Fare</th>\n",
       "      <th>Embarked</th>\n",
       "      <th>Title</th>\n",
       "      <th>AgeGroup</th>\n",
       "    </tr>\n",
       "  </thead>\n",
       "  <tbody>\n",
       "    <tr>\n",
       "      <th>0</th>\n",
       "      <td>1</td>\n",
       "      <td>0</td>\n",
       "      <td>3</td>\n",
       "      <td>Braund, Mr. Owen Harris</td>\n",
       "      <td>male</td>\n",
       "      <td>1</td>\n",
       "      <td>0</td>\n",
       "      <td>7.2500</td>\n",
       "      <td>S</td>\n",
       "      <td>1</td>\n",
       "      <td>4.0</td>\n",
       "    </tr>\n",
       "    <tr>\n",
       "      <th>1</th>\n",
       "      <td>2</td>\n",
       "      <td>1</td>\n",
       "      <td>1</td>\n",
       "      <td>Cumings, Mrs. John Bradley (Florence Briggs Th...</td>\n",
       "      <td>female</td>\n",
       "      <td>1</td>\n",
       "      <td>0</td>\n",
       "      <td>71.2833</td>\n",
       "      <td>C</td>\n",
       "      <td>3</td>\n",
       "      <td>6.0</td>\n",
       "    </tr>\n",
       "    <tr>\n",
       "      <th>2</th>\n",
       "      <td>3</td>\n",
       "      <td>1</td>\n",
       "      <td>3</td>\n",
       "      <td>Heikkinen, Miss. Laina</td>\n",
       "      <td>female</td>\n",
       "      <td>0</td>\n",
       "      <td>0</td>\n",
       "      <td>7.9250</td>\n",
       "      <td>S</td>\n",
       "      <td>2</td>\n",
       "      <td>5.0</td>\n",
       "    </tr>\n",
       "    <tr>\n",
       "      <th>3</th>\n",
       "      <td>4</td>\n",
       "      <td>1</td>\n",
       "      <td>1</td>\n",
       "      <td>Futrelle, Mrs. Jacques Heath (Lily May Peel)</td>\n",
       "      <td>female</td>\n",
       "      <td>1</td>\n",
       "      <td>0</td>\n",
       "      <td>53.1000</td>\n",
       "      <td>S</td>\n",
       "      <td>3</td>\n",
       "      <td>5.0</td>\n",
       "    </tr>\n",
       "    <tr>\n",
       "      <th>4</th>\n",
       "      <td>5</td>\n",
       "      <td>0</td>\n",
       "      <td>3</td>\n",
       "      <td>Allen, Mr. William Henry</td>\n",
       "      <td>male</td>\n",
       "      <td>0</td>\n",
       "      <td>0</td>\n",
       "      <td>8.0500</td>\n",
       "      <td>S</td>\n",
       "      <td>1</td>\n",
       "      <td>5.0</td>\n",
       "    </tr>\n",
       "  </tbody>\n",
       "</table>\n",
       "</div>"
      ],
      "text/plain": [
       "   PassengerId  Survived  Pclass  \\\n",
       "0            1         0       3   \n",
       "1            2         1       1   \n",
       "2            3         1       3   \n",
       "3            4         1       1   \n",
       "4            5         0       3   \n",
       "\n",
       "                                                Name     Sex  SibSp  Parch  \\\n",
       "0                            Braund, Mr. Owen Harris    male      1      0   \n",
       "1  Cumings, Mrs. John Bradley (Florence Briggs Th...  female      1      0   \n",
       "2                             Heikkinen, Miss. Laina  female      0      0   \n",
       "3       Futrelle, Mrs. Jacques Heath (Lily May Peel)  female      1      0   \n",
       "4                           Allen, Mr. William Henry    male      0      0   \n",
       "\n",
       "      Fare Embarked  Title  AgeGroup  \n",
       "0   7.2500        S      1       4.0  \n",
       "1  71.2833        C      3       6.0  \n",
       "2   7.9250        S      2       5.0  \n",
       "3  53.1000        S      3       5.0  \n",
       "4   8.0500        S      1       5.0  "
      ]
     },
     "execution_count": 21,
     "metadata": {},
     "output_type": "execute_result"
    }
   ],
   "source": [
    "# Map each Age value to a numerical value\n",
    "age_mapping = {'Baby': 1, 'Child': 2, 'Teenager': 3, 'Student': 4, 'Young Adult': 5, 'Adult': 6, 'Senior': 7}\n",
    "train_data['AgeGroup'] = train_data['AgeGroup'].map(age_mapping)\n",
    "test_data['AgeGroup'] = test_data['AgeGroup'].map(age_mapping)\n",
    "\n",
    "train_data = train_data.drop(['Age'], axis = 1)\n",
    "test_data = test_data.drop(['Age'], axis = 1)\n",
    "\n",
    "\n",
    "train_data.head()"
   ]
  },
  {
   "cell_type": "code",
   "execution_count": 22,
   "id": "56193a2f",
   "metadata": {
    "execution": {
     "iopub.execute_input": "2024-11-07T08:38:55.617837Z",
     "iopub.status.busy": "2024-11-07T08:38:55.617165Z",
     "iopub.status.idle": "2024-11-07T08:38:55.624494Z",
     "shell.execute_reply": "2024-11-07T08:38:55.623232Z"
    },
    "papermill": {
     "duration": 0.024451,
     "end_time": "2024-11-07T08:38:55.626886",
     "exception": false,
     "start_time": "2024-11-07T08:38:55.602435",
     "status": "completed"
    },
    "tags": []
   },
   "outputs": [],
   "source": [
    "# Drop the name feature since it contains no more useful information.\n",
    "\n",
    "train_data = train_data.drop(['Name'], axis = 1)\n",
    "test_data = test_data.drop(['Name'], axis = 1)"
   ]
  },
  {
   "cell_type": "code",
   "execution_count": 23,
   "id": "f96c96e1",
   "metadata": {
    "execution": {
     "iopub.execute_input": "2024-11-07T08:38:55.656023Z",
     "iopub.status.busy": "2024-11-07T08:38:55.655451Z",
     "iopub.status.idle": "2024-11-07T08:38:55.674264Z",
     "shell.execute_reply": "2024-11-07T08:38:55.673153Z"
    },
    "papermill": {
     "duration": 0.036228,
     "end_time": "2024-11-07T08:38:55.676684",
     "exception": false,
     "start_time": "2024-11-07T08:38:55.640456",
     "status": "completed"
    },
    "tags": []
   },
   "outputs": [
    {
     "data": {
      "text/html": [
       "<div>\n",
       "<style scoped>\n",
       "    .dataframe tbody tr th:only-of-type {\n",
       "        vertical-align: middle;\n",
       "    }\n",
       "\n",
       "    .dataframe tbody tr th {\n",
       "        vertical-align: top;\n",
       "    }\n",
       "\n",
       "    .dataframe thead th {\n",
       "        text-align: right;\n",
       "    }\n",
       "</style>\n",
       "<table border=\"1\" class=\"dataframe\">\n",
       "  <thead>\n",
       "    <tr style=\"text-align: right;\">\n",
       "      <th></th>\n",
       "      <th>PassengerId</th>\n",
       "      <th>Survived</th>\n",
       "      <th>Pclass</th>\n",
       "      <th>Sex</th>\n",
       "      <th>SibSp</th>\n",
       "      <th>Parch</th>\n",
       "      <th>Fare</th>\n",
       "      <th>Embarked</th>\n",
       "      <th>Title</th>\n",
       "      <th>AgeGroup</th>\n",
       "    </tr>\n",
       "  </thead>\n",
       "  <tbody>\n",
       "    <tr>\n",
       "      <th>0</th>\n",
       "      <td>1</td>\n",
       "      <td>0</td>\n",
       "      <td>3</td>\n",
       "      <td>0</td>\n",
       "      <td>1</td>\n",
       "      <td>0</td>\n",
       "      <td>7.2500</td>\n",
       "      <td>S</td>\n",
       "      <td>1</td>\n",
       "      <td>4.0</td>\n",
       "    </tr>\n",
       "    <tr>\n",
       "      <th>1</th>\n",
       "      <td>2</td>\n",
       "      <td>1</td>\n",
       "      <td>1</td>\n",
       "      <td>1</td>\n",
       "      <td>1</td>\n",
       "      <td>0</td>\n",
       "      <td>71.2833</td>\n",
       "      <td>C</td>\n",
       "      <td>3</td>\n",
       "      <td>6.0</td>\n",
       "    </tr>\n",
       "    <tr>\n",
       "      <th>2</th>\n",
       "      <td>3</td>\n",
       "      <td>1</td>\n",
       "      <td>3</td>\n",
       "      <td>1</td>\n",
       "      <td>0</td>\n",
       "      <td>0</td>\n",
       "      <td>7.9250</td>\n",
       "      <td>S</td>\n",
       "      <td>2</td>\n",
       "      <td>5.0</td>\n",
       "    </tr>\n",
       "    <tr>\n",
       "      <th>3</th>\n",
       "      <td>4</td>\n",
       "      <td>1</td>\n",
       "      <td>1</td>\n",
       "      <td>1</td>\n",
       "      <td>1</td>\n",
       "      <td>0</td>\n",
       "      <td>53.1000</td>\n",
       "      <td>S</td>\n",
       "      <td>3</td>\n",
       "      <td>5.0</td>\n",
       "    </tr>\n",
       "    <tr>\n",
       "      <th>4</th>\n",
       "      <td>5</td>\n",
       "      <td>0</td>\n",
       "      <td>3</td>\n",
       "      <td>0</td>\n",
       "      <td>0</td>\n",
       "      <td>0</td>\n",
       "      <td>8.0500</td>\n",
       "      <td>S</td>\n",
       "      <td>1</td>\n",
       "      <td>5.0</td>\n",
       "    </tr>\n",
       "  </tbody>\n",
       "</table>\n",
       "</div>"
      ],
      "text/plain": [
       "   PassengerId  Survived  Pclass  Sex  SibSp  Parch     Fare Embarked  Title  \\\n",
       "0            1         0       3    0      1      0   7.2500        S      1   \n",
       "1            2         1       1    1      1      0  71.2833        C      3   \n",
       "2            3         1       3    1      0      0   7.9250        S      2   \n",
       "3            4         1       1    1      1      0  53.1000        S      3   \n",
       "4            5         0       3    0      0      0   8.0500        S      1   \n",
       "\n",
       "   AgeGroup  \n",
       "0       4.0  \n",
       "1       6.0  \n",
       "2       5.0  \n",
       "3       5.0  \n",
       "4       5.0  "
      ]
     },
     "execution_count": 23,
     "metadata": {},
     "output_type": "execute_result"
    }
   ],
   "source": [
    "# Map each Sex value to a numerical value\n",
    "sex_mapping = {\"male\": 0, \"female\": 1}\n",
    "train_data['Sex'] = train_data['Sex'].map(sex_mapping)\n",
    "test_data['Sex'] = test_data['Sex'].map(sex_mapping)\n",
    "\n",
    "train_data.head()"
   ]
  },
  {
   "cell_type": "code",
   "execution_count": 24,
   "id": "3464fb8e",
   "metadata": {
    "execution": {
     "iopub.execute_input": "2024-11-07T08:38:55.706792Z",
     "iopub.status.busy": "2024-11-07T08:38:55.706382Z",
     "iopub.status.idle": "2024-11-07T08:38:55.729129Z",
     "shell.execute_reply": "2024-11-07T08:38:55.726879Z"
    },
    "papermill": {
     "duration": 0.04247,
     "end_time": "2024-11-07T08:38:55.732918",
     "exception": false,
     "start_time": "2024-11-07T08:38:55.690448",
     "status": "completed"
    },
    "tags": []
   },
   "outputs": [
    {
     "data": {
      "text/html": [
       "<div>\n",
       "<style scoped>\n",
       "    .dataframe tbody tr th:only-of-type {\n",
       "        vertical-align: middle;\n",
       "    }\n",
       "\n",
       "    .dataframe tbody tr th {\n",
       "        vertical-align: top;\n",
       "    }\n",
       "\n",
       "    .dataframe thead th {\n",
       "        text-align: right;\n",
       "    }\n",
       "</style>\n",
       "<table border=\"1\" class=\"dataframe\">\n",
       "  <thead>\n",
       "    <tr style=\"text-align: right;\">\n",
       "      <th></th>\n",
       "      <th>PassengerId</th>\n",
       "      <th>Survived</th>\n",
       "      <th>Pclass</th>\n",
       "      <th>Sex</th>\n",
       "      <th>SibSp</th>\n",
       "      <th>Parch</th>\n",
       "      <th>Fare</th>\n",
       "      <th>Embarked</th>\n",
       "      <th>Title</th>\n",
       "      <th>AgeGroup</th>\n",
       "    </tr>\n",
       "  </thead>\n",
       "  <tbody>\n",
       "    <tr>\n",
       "      <th>0</th>\n",
       "      <td>1</td>\n",
       "      <td>0</td>\n",
       "      <td>3</td>\n",
       "      <td>0</td>\n",
       "      <td>1</td>\n",
       "      <td>0</td>\n",
       "      <td>7.2500</td>\n",
       "      <td>1</td>\n",
       "      <td>1</td>\n",
       "      <td>4.0</td>\n",
       "    </tr>\n",
       "    <tr>\n",
       "      <th>1</th>\n",
       "      <td>2</td>\n",
       "      <td>1</td>\n",
       "      <td>1</td>\n",
       "      <td>1</td>\n",
       "      <td>1</td>\n",
       "      <td>0</td>\n",
       "      <td>71.2833</td>\n",
       "      <td>2</td>\n",
       "      <td>3</td>\n",
       "      <td>6.0</td>\n",
       "    </tr>\n",
       "    <tr>\n",
       "      <th>2</th>\n",
       "      <td>3</td>\n",
       "      <td>1</td>\n",
       "      <td>3</td>\n",
       "      <td>1</td>\n",
       "      <td>0</td>\n",
       "      <td>0</td>\n",
       "      <td>7.9250</td>\n",
       "      <td>1</td>\n",
       "      <td>2</td>\n",
       "      <td>5.0</td>\n",
       "    </tr>\n",
       "    <tr>\n",
       "      <th>3</th>\n",
       "      <td>4</td>\n",
       "      <td>1</td>\n",
       "      <td>1</td>\n",
       "      <td>1</td>\n",
       "      <td>1</td>\n",
       "      <td>0</td>\n",
       "      <td>53.1000</td>\n",
       "      <td>1</td>\n",
       "      <td>3</td>\n",
       "      <td>5.0</td>\n",
       "    </tr>\n",
       "    <tr>\n",
       "      <th>4</th>\n",
       "      <td>5</td>\n",
       "      <td>0</td>\n",
       "      <td>3</td>\n",
       "      <td>0</td>\n",
       "      <td>0</td>\n",
       "      <td>0</td>\n",
       "      <td>8.0500</td>\n",
       "      <td>1</td>\n",
       "      <td>1</td>\n",
       "      <td>5.0</td>\n",
       "    </tr>\n",
       "  </tbody>\n",
       "</table>\n",
       "</div>"
      ],
      "text/plain": [
       "   PassengerId  Survived  Pclass  Sex  SibSp  Parch     Fare  Embarked  Title  \\\n",
       "0            1         0       3    0      1      0   7.2500         1      1   \n",
       "1            2         1       1    1      1      0  71.2833         2      3   \n",
       "2            3         1       3    1      0      0   7.9250         1      2   \n",
       "3            4         1       1    1      1      0  53.1000         1      3   \n",
       "4            5         0       3    0      0      0   8.0500         1      1   \n",
       "\n",
       "   AgeGroup  \n",
       "0       4.0  \n",
       "1       6.0  \n",
       "2       5.0  \n",
       "3       5.0  \n",
       "4       5.0  "
      ]
     },
     "execution_count": 24,
     "metadata": {},
     "output_type": "execute_result"
    }
   ],
   "source": [
    "# Map each Embarked value to a numerical value\n",
    "embarked_mapping = {\"S\": 1, \"C\": 2, \"Q\": 3}\n",
    "train_data['Embarked'] = train_data['Embarked'].map(embarked_mapping)\n",
    "test_data['Embarked'] = test_data['Embarked'].map(embarked_mapping)\n",
    "\n",
    "train_data.head()"
   ]
  },
  {
   "cell_type": "code",
   "execution_count": 25,
   "id": "e627583a",
   "metadata": {
    "execution": {
     "iopub.execute_input": "2024-11-07T08:38:55.767470Z",
     "iopub.status.busy": "2024-11-07T08:38:55.766905Z",
     "iopub.status.idle": "2024-11-07T08:38:55.794450Z",
     "shell.execute_reply": "2024-11-07T08:38:55.792913Z"
    },
    "papermill": {
     "duration": 0.047786,
     "end_time": "2024-11-07T08:38:55.797133",
     "exception": false,
     "start_time": "2024-11-07T08:38:55.749347",
     "status": "completed"
    },
    "tags": []
   },
   "outputs": [],
   "source": [
    "# Fill in missing Fare value in test set based on mean fare for that Pclass\n",
    "for x in range(len(test_data[\"Fare\"])):\n",
    "    if pd.isnull(test_data.loc[x, \"Fare\"]):\n",
    "        pclass = test_data.loc[x, \"Pclass\"]  # Pclass = 3\n",
    "        test_data.loc[x, \"Fare\"] = round(train_data[train_data[\"Pclass\"] == pclass][\"Fare\"].mean(), 4)\n",
    "\n",
    "# Map Fare values into groups of numerical values\n",
    "train_data['FareBand'] = pd.qcut(train_data['Fare'], 4, labels=[1, 2, 3, 4])\n",
    "test_data['FareBand'] = pd.qcut(test_data['Fare'], 4, labels=[1, 2, 3, 4])\n",
    "\n",
    "# Drop Fare values\n",
    "train_data = train_data.drop(['Fare'], axis=1)\n",
    "test_data = test_data.drop(['Fare'], axis=1)"
   ]
  },
  {
   "cell_type": "code",
   "execution_count": 26,
   "id": "9139f0d6",
   "metadata": {
    "execution": {
     "iopub.execute_input": "2024-11-07T08:38:55.826992Z",
     "iopub.status.busy": "2024-11-07T08:38:55.826594Z",
     "iopub.status.idle": "2024-11-07T08:38:55.841179Z",
     "shell.execute_reply": "2024-11-07T08:38:55.840144Z"
    },
    "papermill": {
     "duration": 0.0319,
     "end_time": "2024-11-07T08:38:55.843550",
     "exception": false,
     "start_time": "2024-11-07T08:38:55.811650",
     "status": "completed"
    },
    "tags": []
   },
   "outputs": [
    {
     "data": {
      "text/html": [
       "<div>\n",
       "<style scoped>\n",
       "    .dataframe tbody tr th:only-of-type {\n",
       "        vertical-align: middle;\n",
       "    }\n",
       "\n",
       "    .dataframe tbody tr th {\n",
       "        vertical-align: top;\n",
       "    }\n",
       "\n",
       "    .dataframe thead th {\n",
       "        text-align: right;\n",
       "    }\n",
       "</style>\n",
       "<table border=\"1\" class=\"dataframe\">\n",
       "  <thead>\n",
       "    <tr style=\"text-align: right;\">\n",
       "      <th></th>\n",
       "      <th>PassengerId</th>\n",
       "      <th>Pclass</th>\n",
       "      <th>Sex</th>\n",
       "      <th>SibSp</th>\n",
       "      <th>Parch</th>\n",
       "      <th>Embarked</th>\n",
       "      <th>Title</th>\n",
       "      <th>AgeGroup</th>\n",
       "      <th>FareBand</th>\n",
       "    </tr>\n",
       "  </thead>\n",
       "  <tbody>\n",
       "    <tr>\n",
       "      <th>0</th>\n",
       "      <td>892</td>\n",
       "      <td>3</td>\n",
       "      <td>0</td>\n",
       "      <td>0</td>\n",
       "      <td>0</td>\n",
       "      <td>3</td>\n",
       "      <td>1</td>\n",
       "      <td>5.0</td>\n",
       "      <td>1</td>\n",
       "    </tr>\n",
       "    <tr>\n",
       "      <th>1</th>\n",
       "      <td>893</td>\n",
       "      <td>3</td>\n",
       "      <td>1</td>\n",
       "      <td>1</td>\n",
       "      <td>0</td>\n",
       "      <td>1</td>\n",
       "      <td>3</td>\n",
       "      <td>6.0</td>\n",
       "      <td>1</td>\n",
       "    </tr>\n",
       "    <tr>\n",
       "      <th>2</th>\n",
       "      <td>894</td>\n",
       "      <td>2</td>\n",
       "      <td>0</td>\n",
       "      <td>0</td>\n",
       "      <td>0</td>\n",
       "      <td>3</td>\n",
       "      <td>1</td>\n",
       "      <td>7.0</td>\n",
       "      <td>2</td>\n",
       "    </tr>\n",
       "    <tr>\n",
       "      <th>3</th>\n",
       "      <td>895</td>\n",
       "      <td>3</td>\n",
       "      <td>0</td>\n",
       "      <td>0</td>\n",
       "      <td>0</td>\n",
       "      <td>1</td>\n",
       "      <td>1</td>\n",
       "      <td>5.0</td>\n",
       "      <td>2</td>\n",
       "    </tr>\n",
       "    <tr>\n",
       "      <th>4</th>\n",
       "      <td>896</td>\n",
       "      <td>3</td>\n",
       "      <td>1</td>\n",
       "      <td>1</td>\n",
       "      <td>1</td>\n",
       "      <td>1</td>\n",
       "      <td>3</td>\n",
       "      <td>4.0</td>\n",
       "      <td>2</td>\n",
       "    </tr>\n",
       "  </tbody>\n",
       "</table>\n",
       "</div>"
      ],
      "text/plain": [
       "   PassengerId  Pclass  Sex  SibSp  Parch  Embarked  Title  AgeGroup FareBand\n",
       "0          892       3    0      0      0         3      1       5.0        1\n",
       "1          893       3    1      1      0         1      3       6.0        1\n",
       "2          894       2    0      0      0         3      1       7.0        2\n",
       "3          895       3    0      0      0         1      1       5.0        2\n",
       "4          896       3    1      1      1         1      3       4.0        2"
      ]
     },
     "execution_count": 26,
     "metadata": {},
     "output_type": "execute_result"
    }
   ],
   "source": [
    "test_data.head()"
   ]
  },
  {
   "cell_type": "markdown",
   "id": "0614b554",
   "metadata": {
    "papermill": {
     "duration": 0.014379,
     "end_time": "2024-11-07T08:38:55.874340",
     "exception": false,
     "start_time": "2024-11-07T08:38:55.859961",
     "status": "completed"
    },
    "tags": []
   },
   "source": [
    "# **3. Machine Learning Models**"
   ]
  },
  {
   "cell_type": "code",
   "execution_count": 27,
   "id": "e4440026",
   "metadata": {
    "execution": {
     "iopub.execute_input": "2024-11-07T08:38:55.906825Z",
     "iopub.status.busy": "2024-11-07T08:38:55.906405Z",
     "iopub.status.idle": "2024-11-07T08:38:56.257822Z",
     "shell.execute_reply": "2024-11-07T08:38:56.256689Z"
    },
    "papermill": {
     "duration": 0.370089,
     "end_time": "2024-11-07T08:38:56.260471",
     "exception": false,
     "start_time": "2024-11-07T08:38:55.890382",
     "status": "completed"
    },
    "tags": []
   },
   "outputs": [],
   "source": [
    "from sklearn.model_selection import train_test_split\n",
    "from sklearn.metrics import accuracy_score\n",
    "\n",
    "predictors = train_data.drop(['Survived', 'PassengerId'], axis=1)\n",
    "target = train_data[\"Survived\"]\n",
    "x_train, x_val, y_train, y_val = train_test_split(predictors, target, test_size = 0.22, random_state = 0)"
   ]
  },
  {
   "cell_type": "markdown",
   "id": "029686ab",
   "metadata": {
    "papermill": {
     "duration": 0.013567,
     "end_time": "2024-11-07T08:38:56.287719",
     "exception": false,
     "start_time": "2024-11-07T08:38:56.274152",
     "status": "completed"
    },
    "tags": []
   },
   "source": [
    "# **3.1 Gradient Boosting Classifier**"
   ]
  },
  {
   "cell_type": "code",
   "execution_count": 28,
   "id": "6d495c16",
   "metadata": {
    "execution": {
     "iopub.execute_input": "2024-11-07T08:38:56.317308Z",
     "iopub.status.busy": "2024-11-07T08:38:56.316843Z",
     "iopub.status.idle": "2024-11-07T08:38:56.732428Z",
     "shell.execute_reply": "2024-11-07T08:38:56.730740Z"
    },
    "papermill": {
     "duration": 0.433442,
     "end_time": "2024-11-07T08:38:56.735036",
     "exception": false,
     "start_time": "2024-11-07T08:38:56.301594",
     "status": "completed"
    },
    "tags": []
   },
   "outputs": [
    {
     "name": "stdout",
     "output_type": "stream",
     "text": [
      "Accuracy of Gradient Boosting Classifier: 83.25%\n"
     ]
    }
   ],
   "source": [
    "from sklearn.ensemble import GradientBoostingClassifier\n",
    "\n",
    "gbk = GradientBoostingClassifier()\n",
    "gbk.fit(x_train, y_train)\n",
    "y_pred = gbk.predict(x_val)\n",
    "acc_gbk = round(accuracy_score(y_pred, y_val) * 100, 2)\n",
    "\n",
    "print(f\"Accuracy of Gradient Boosting Classifier: {acc_gbk}%\")"
   ]
  },
  {
   "cell_type": "markdown",
   "id": "81f2564f",
   "metadata": {
    "papermill": {
     "duration": 0.014088,
     "end_time": "2024-11-07T08:38:56.763662",
     "exception": false,
     "start_time": "2024-11-07T08:38:56.749574",
     "status": "completed"
    },
    "tags": []
   },
   "source": [
    "# **3.2 Logistic Regression**"
   ]
  },
  {
   "cell_type": "code",
   "execution_count": 29,
   "id": "6cc19568",
   "metadata": {
    "execution": {
     "iopub.execute_input": "2024-11-07T08:38:56.793984Z",
     "iopub.status.busy": "2024-11-07T08:38:56.793006Z",
     "iopub.status.idle": "2024-11-07T08:38:56.821943Z",
     "shell.execute_reply": "2024-11-07T08:38:56.820837Z"
    },
    "papermill": {
     "duration": 0.0465,
     "end_time": "2024-11-07T08:38:56.824420",
     "exception": false,
     "start_time": "2024-11-07T08:38:56.777920",
     "status": "completed"
    },
    "tags": []
   },
   "outputs": [
    {
     "name": "stdout",
     "output_type": "stream",
     "text": [
      "Accuracy of Logistic Regression: 79.7%\n"
     ]
    }
   ],
   "source": [
    "from sklearn.linear_model import LogisticRegression\n",
    "\n",
    "logreg = LogisticRegression()\n",
    "logreg.fit(x_train, y_train)\n",
    "y_pred = logreg.predict(x_val)\n",
    "acc_logreg = round(accuracy_score(y_pred, y_val) * 100, 2)\n",
    "\n",
    "print(f\"Accuracy of Logistic Regression: {acc_logreg}%\")"
   ]
  },
  {
   "cell_type": "markdown",
   "id": "30b1c99f",
   "metadata": {
    "papermill": {
     "duration": 0.013925,
     "end_time": "2024-11-07T08:38:56.852399",
     "exception": false,
     "start_time": "2024-11-07T08:38:56.838474",
     "status": "completed"
    },
    "tags": []
   },
   "source": [
    "# **3.3 Decision Tree**"
   ]
  },
  {
   "cell_type": "code",
   "execution_count": 30,
   "id": "259b43d6",
   "metadata": {
    "execution": {
     "iopub.execute_input": "2024-11-07T08:38:56.883824Z",
     "iopub.status.busy": "2024-11-07T08:38:56.883411Z",
     "iopub.status.idle": "2024-11-07T08:38:56.896863Z",
     "shell.execute_reply": "2024-11-07T08:38:56.895582Z"
    },
    "papermill": {
     "duration": 0.03238,
     "end_time": "2024-11-07T08:38:56.899231",
     "exception": false,
     "start_time": "2024-11-07T08:38:56.866851",
     "status": "completed"
    },
    "tags": []
   },
   "outputs": [
    {
     "name": "stdout",
     "output_type": "stream",
     "text": [
      "Accuracy of Decision Tree: 81.22%\n"
     ]
    }
   ],
   "source": [
    "from sklearn.tree import DecisionTreeClassifier\n",
    "\n",
    "decisiontree = DecisionTreeClassifier()\n",
    "decisiontree.fit(x_train, y_train)\n",
    "y_pred = decisiontree.predict(x_val)\n",
    "acc_decisiontree = round(accuracy_score(y_pred, y_val) * 100, 2)\n",
    "\n",
    "print(f\"Accuracy of Decision Tree: {acc_decisiontree}%\")"
   ]
  },
  {
   "cell_type": "markdown",
   "id": "f54ac043",
   "metadata": {
    "papermill": {
     "duration": 0.013707,
     "end_time": "2024-11-07T08:38:56.926955",
     "exception": false,
     "start_time": "2024-11-07T08:38:56.913248",
     "status": "completed"
    },
    "tags": []
   },
   "source": [
    "# **3.4 Random Forest**"
   ]
  },
  {
   "cell_type": "code",
   "execution_count": 31,
   "id": "1d0306dd",
   "metadata": {
    "execution": {
     "iopub.execute_input": "2024-11-07T08:38:56.956961Z",
     "iopub.status.busy": "2024-11-07T08:38:56.956548Z",
     "iopub.status.idle": "2024-11-07T08:38:57.176388Z",
     "shell.execute_reply": "2024-11-07T08:38:57.175062Z"
    },
    "papermill": {
     "duration": 0.237472,
     "end_time": "2024-11-07T08:38:57.178841",
     "exception": false,
     "start_time": "2024-11-07T08:38:56.941369",
     "status": "completed"
    },
    "tags": []
   },
   "outputs": [
    {
     "name": "stdout",
     "output_type": "stream",
     "text": [
      "Accuracy of Random Forest: 84.26%\n"
     ]
    }
   ],
   "source": [
    "from sklearn.ensemble import RandomForestClassifier\n",
    "\n",
    "randomforest = RandomForestClassifier()\n",
    "randomforest.fit(x_train, y_train)\n",
    "y_pred = randomforest.predict(x_val)\n",
    "acc_randomforest = round(accuracy_score(y_pred, y_val) * 100, 2)\n",
    "\n",
    "print(f\"Accuracy of Random Forest: {acc_randomforest}%\")"
   ]
  },
  {
   "cell_type": "markdown",
   "id": "a29897b2",
   "metadata": {
    "papermill": {
     "duration": 0.013645,
     "end_time": "2024-11-07T08:38:57.206764",
     "exception": false,
     "start_time": "2024-11-07T08:38:57.193119",
     "status": "completed"
    },
    "tags": []
   },
   "source": [
    "# **3.5 Support Vector Machine**"
   ]
  },
  {
   "cell_type": "code",
   "execution_count": 32,
   "id": "a22b1bbe",
   "metadata": {
    "execution": {
     "iopub.execute_input": "2024-11-07T08:38:57.236253Z",
     "iopub.status.busy": "2024-11-07T08:38:57.235813Z",
     "iopub.status.idle": "2024-11-07T08:38:57.265318Z",
     "shell.execute_reply": "2024-11-07T08:38:57.264152Z"
    },
    "papermill": {
     "duration": 0.04706,
     "end_time": "2024-11-07T08:38:57.267747",
     "exception": false,
     "start_time": "2024-11-07T08:38:57.220687",
     "status": "completed"
    },
    "tags": []
   },
   "outputs": [
    {
     "name": "stdout",
     "output_type": "stream",
     "text": [
      "Accuracy of Support Vector Machine: 83.25%\n"
     ]
    }
   ],
   "source": [
    "from sklearn.svm import SVC\n",
    "\n",
    "svc = SVC()\n",
    "svc.fit(x_train, y_train)\n",
    "y_pred = svc.predict(x_val)\n",
    "acc_svc = round(accuracy_score(y_pred, y_val) * 100, 2)\n",
    "\n",
    "print(f\"Accuracy of Support Vector Machine: {acc_svc}%\")"
   ]
  },
  {
   "cell_type": "markdown",
   "id": "f4a2ca78",
   "metadata": {
    "papermill": {
     "duration": 0.013572,
     "end_time": "2024-11-07T08:38:57.295378",
     "exception": false,
     "start_time": "2024-11-07T08:38:57.281806",
     "status": "completed"
    },
    "tags": []
   },
   "source": [
    "# **3.6 K-Nearest Neighbors**"
   ]
  },
  {
   "cell_type": "code",
   "execution_count": 33,
   "id": "97012704",
   "metadata": {
    "execution": {
     "iopub.execute_input": "2024-11-07T08:38:57.325970Z",
     "iopub.status.busy": "2024-11-07T08:38:57.324957Z",
     "iopub.status.idle": "2024-11-07T08:38:57.351392Z",
     "shell.execute_reply": "2024-11-07T08:38:57.350360Z"
    },
    "papermill": {
     "duration": 0.04413,
     "end_time": "2024-11-07T08:38:57.353865",
     "exception": false,
     "start_time": "2024-11-07T08:38:57.309735",
     "status": "completed"
    },
    "tags": []
   },
   "outputs": [
    {
     "name": "stdout",
     "output_type": "stream",
     "text": [
      "Accuracy of K-Nearest Neighbors: 82.23%\n"
     ]
    }
   ],
   "source": [
    "from sklearn.neighbors import KNeighborsClassifier\n",
    "\n",
    "knn = KNeighborsClassifier()\n",
    "knn.fit(x_train, y_train)\n",
    "y_pred = knn.predict(x_val)\n",
    "acc_knn = round(accuracy_score(y_pred, y_val) * 100, 2)\n",
    "\n",
    "print(f\"Accuracy of K-Nearest Neighbors: {acc_knn}%\")"
   ]
  },
  {
   "cell_type": "markdown",
   "id": "91796f45",
   "metadata": {
    "papermill": {
     "duration": 0.01394,
     "end_time": "2024-11-07T08:38:57.381948",
     "exception": false,
     "start_time": "2024-11-07T08:38:57.368008",
     "status": "completed"
    },
    "tags": []
   },
   "source": [
    "# **3.7 Stacking Classifier**"
   ]
  },
  {
   "cell_type": "code",
   "execution_count": 34,
   "id": "20701a34",
   "metadata": {
    "execution": {
     "iopub.execute_input": "2024-11-07T08:38:57.412236Z",
     "iopub.status.busy": "2024-11-07T08:38:57.411271Z",
     "iopub.status.idle": "2024-11-07T08:38:59.727317Z",
     "shell.execute_reply": "2024-11-07T08:38:59.726132Z"
    },
    "papermill": {
     "duration": 2.333658,
     "end_time": "2024-11-07T08:38:59.729633",
     "exception": false,
     "start_time": "2024-11-07T08:38:57.395975",
     "status": "completed"
    },
    "tags": []
   },
   "outputs": [
    {
     "name": "stdout",
     "output_type": "stream",
     "text": [
      "Accuracy of Stacking Classifier: 82.23%\n"
     ]
    }
   ],
   "source": [
    "from sklearn.ensemble import StackingClassifier\n",
    "from sklearn.model_selection import cross_val_score\n",
    "from sklearn.metrics import accuracy_score, classification_report, confusion_matrix\n",
    "import numpy as np\n",
    "\n",
    "# Define the base models\n",
    "estimators = [\n",
    "    ('gbk', gbk),\n",
    "    ('randomforest', randomforest),\n",
    "    ('svc', svc),\n",
    "    ('knn', knn),\n",
    "  #  ('rfc', model_rfc)\n",
    "]\n",
    "\n",
    "# Create the stacking classifier\n",
    "stacking_model = StackingClassifier(estimators=estimators, final_estimator=RandomForestClassifier())\n",
    "\n",
    "# Train the stacking model\n",
    "stacking_model.fit(x_train, y_train)\n",
    "\n",
    "# Make predictions on the test set\n",
    "y_pred = stacking_model.predict(x_val)\n",
    "\n",
    "# Evaluate the model's performance\n",
    "acc_stk = round(accuracy_score(y_pred, y_val) * 100, 2)\n",
    "\n",
    "print(f\"Accuracy of Stacking Classifier: {acc_stk}%\")\n"
   ]
  },
  {
   "cell_type": "markdown",
   "id": "42655766",
   "metadata": {
    "papermill": {
     "duration": 0.014081,
     "end_time": "2024-11-07T08:38:59.757953",
     "exception": false,
     "start_time": "2024-11-07T08:38:59.743872",
     "status": "completed"
    },
    "tags": []
   },
   "source": [
    "# **3.8 Voting Classifier**"
   ]
  },
  {
   "cell_type": "code",
   "execution_count": 35,
   "id": "076f494b",
   "metadata": {
    "execution": {
     "iopub.execute_input": "2024-11-07T08:38:59.788678Z",
     "iopub.status.busy": "2024-11-07T08:38:59.788212Z",
     "iopub.status.idle": "2024-11-07T08:39:00.171283Z",
     "shell.execute_reply": "2024-11-07T08:39:00.169798Z"
    },
    "papermill": {
     "duration": 0.40189,
     "end_time": "2024-11-07T08:39:00.173922",
     "exception": false,
     "start_time": "2024-11-07T08:38:59.772032",
     "status": "completed"
    },
    "tags": []
   },
   "outputs": [
    {
     "name": "stdout",
     "output_type": "stream",
     "text": [
      "Accuracy of Voting Classifier: 85.79%\n"
     ]
    }
   ],
   "source": [
    "from sklearn.ensemble import VotingClassifier\n",
    "from sklearn.model_selection import cross_val_score\n",
    "\n",
    "# Create a voting classifier with the four models\n",
    "voting_classifier = VotingClassifier(estimators=[\n",
    "    ('gbk', gbk),\n",
    "    ('randomforest', randomforest),\n",
    "    ('svc', svc),\n",
    "    ('knn', knn),\n",
    "   # ('rfc', model_rfc)\n",
    "], voting='hard')  # 'hard' for majority vote\n",
    "\n",
    "# Train the voting classifier\n",
    "voting_classifier.fit(x_train, y_train)\n",
    "\n",
    "# Make predictions with the voting classifier\n",
    "y_pred = voting_classifier.predict(x_val)\n",
    "\n",
    "# Evaluate the model's performance\n",
    "acc_vot = round(accuracy_score(y_pred, y_val) * 100, 2)\n",
    "\n",
    "print(f\"Accuracy of Voting Classifier: {acc_vot}%\")"
   ]
  },
  {
   "cell_type": "markdown",
   "id": "7c7bb7e0",
   "metadata": {
    "papermill": {
     "duration": 0.015502,
     "end_time": "2024-11-07T08:39:00.204355",
     "exception": false,
     "start_time": "2024-11-07T08:39:00.188853",
     "status": "completed"
    },
    "tags": []
   },
   "source": [
    "# **3.9 AdaBoost Classifier**"
   ]
  },
  {
   "cell_type": "code",
   "execution_count": 36,
   "id": "e90e05b2",
   "metadata": {
    "execution": {
     "iopub.execute_input": "2024-11-07T08:39:00.235898Z",
     "iopub.status.busy": "2024-11-07T08:39:00.235493Z",
     "iopub.status.idle": "2024-11-07T08:39:00.356590Z",
     "shell.execute_reply": "2024-11-07T08:39:00.355132Z"
    },
    "papermill": {
     "duration": 0.140215,
     "end_time": "2024-11-07T08:39:00.359372",
     "exception": false,
     "start_time": "2024-11-07T08:39:00.219157",
     "status": "completed"
    },
    "tags": []
   },
   "outputs": [
    {
     "name": "stdout",
     "output_type": "stream",
     "text": [
      "Accuracy of AdaBoost Classifier: 82.74%\n"
     ]
    }
   ],
   "source": [
    "from sklearn.ensemble import AdaBoostClassifier\n",
    "\n",
    "# Assuming you already have your X_train, y_train, X_val, and y_val data split\n",
    "\n",
    "# Create and fit the AdaBoost Classifier\n",
    "abc = AdaBoostClassifier()\n",
    "abc.fit(x_train, y_train)\n",
    "\n",
    "# Make predictions on the validation set\n",
    "y_pred = abc.predict(x_val)\n",
    "\n",
    "# Calculate accuracy score\n",
    "from sklearn.metrics import accuracy_score\n",
    "acc_abc = round(accuracy_score(y_pred, y_val) * 100, 2)\n",
    "\n",
    "print(f\"Accuracy of AdaBoost Classifier: {acc_abc}%\")"
   ]
  },
  {
   "cell_type": "code",
   "execution_count": 37,
   "id": "09b9f952",
   "metadata": {
    "execution": {
     "iopub.execute_input": "2024-11-07T08:39:00.390941Z",
     "iopub.status.busy": "2024-11-07T08:39:00.390512Z",
     "iopub.status.idle": "2024-11-07T08:39:00.404255Z",
     "shell.execute_reply": "2024-11-07T08:39:00.403102Z"
    },
    "papermill": {
     "duration": 0.031611,
     "end_time": "2024-11-07T08:39:00.406519",
     "exception": false,
     "start_time": "2024-11-07T08:39:00.374908",
     "status": "completed"
    },
    "tags": []
   },
   "outputs": [
    {
     "data": {
      "text/html": [
       "<div>\n",
       "<style scoped>\n",
       "    .dataframe tbody tr th:only-of-type {\n",
       "        vertical-align: middle;\n",
       "    }\n",
       "\n",
       "    .dataframe tbody tr th {\n",
       "        vertical-align: top;\n",
       "    }\n",
       "\n",
       "    .dataframe thead th {\n",
       "        text-align: right;\n",
       "    }\n",
       "</style>\n",
       "<table border=\"1\" class=\"dataframe\">\n",
       "  <thead>\n",
       "    <tr style=\"text-align: right;\">\n",
       "      <th></th>\n",
       "      <th>Model</th>\n",
       "      <th>Score</th>\n",
       "    </tr>\n",
       "  </thead>\n",
       "  <tbody>\n",
       "    <tr>\n",
       "      <th>7</th>\n",
       "      <td>Voting Classifier</td>\n",
       "      <td>85.79</td>\n",
       "    </tr>\n",
       "    <tr>\n",
       "      <th>3</th>\n",
       "      <td>Random Forest</td>\n",
       "      <td>84.26</td>\n",
       "    </tr>\n",
       "    <tr>\n",
       "      <th>0</th>\n",
       "      <td>Gradient Boosting Classifier</td>\n",
       "      <td>83.25</td>\n",
       "    </tr>\n",
       "    <tr>\n",
       "      <th>4</th>\n",
       "      <td>Support Vector Machine</td>\n",
       "      <td>83.25</td>\n",
       "    </tr>\n",
       "    <tr>\n",
       "      <th>8</th>\n",
       "      <td>AdaBoost Classifier</td>\n",
       "      <td>82.74</td>\n",
       "    </tr>\n",
       "    <tr>\n",
       "      <th>5</th>\n",
       "      <td>K-Nearest Neighbors</td>\n",
       "      <td>82.23</td>\n",
       "    </tr>\n",
       "    <tr>\n",
       "      <th>6</th>\n",
       "      <td>Stacking Classifier</td>\n",
       "      <td>82.23</td>\n",
       "    </tr>\n",
       "    <tr>\n",
       "      <th>2</th>\n",
       "      <td>Decision Tree</td>\n",
       "      <td>81.22</td>\n",
       "    </tr>\n",
       "    <tr>\n",
       "      <th>1</th>\n",
       "      <td>Logistic Regression</td>\n",
       "      <td>79.70</td>\n",
       "    </tr>\n",
       "  </tbody>\n",
       "</table>\n",
       "</div>"
      ],
      "text/plain": [
       "                          Model  Score\n",
       "7             Voting Classifier  85.79\n",
       "3                 Random Forest  84.26\n",
       "0  Gradient Boosting Classifier  83.25\n",
       "4        Support Vector Machine  83.25\n",
       "8           AdaBoost Classifier  82.74\n",
       "5           K-Nearest Neighbors  82.23\n",
       "6           Stacking Classifier  82.23\n",
       "2                 Decision Tree  81.22\n",
       "1           Logistic Regression  79.70"
      ]
     },
     "execution_count": 37,
     "metadata": {},
     "output_type": "execute_result"
    }
   ],
   "source": [
    "models = pd.DataFrame({\n",
    "    'Model': ['Gradient Boosting Classifier', 'Logistic Regression', 'Decision Tree',\n",
    "              'Random Forest', 'Support Vector Machine', 'K-Nearest Neighbors', 'Stacking Classifier', \n",
    "               'Voting Classifier', 'AdaBoost Classifier'],\n",
    "    'Score': [acc_gbk , acc_logreg, acc_decisiontree, acc_randomforest, acc_svc,\n",
    "              acc_knn, acc_stk, acc_vot, acc_abc]})\n",
    "models.sort_values(by='Score', ascending=False)"
   ]
  },
  {
   "cell_type": "markdown",
   "id": "ee04e62d",
   "metadata": {
    "papermill": {
     "duration": 0.014139,
     "end_time": "2024-11-07T08:39:00.435445",
     "exception": false,
     "start_time": "2024-11-07T08:39:00.421306",
     "status": "completed"
    },
    "tags": []
   },
   "source": [
    "# **4. Submission File**"
   ]
  },
  {
   "cell_type": "code",
   "execution_count": 38,
   "id": "8b971168",
   "metadata": {
    "execution": {
     "iopub.execute_input": "2024-11-07T08:39:00.467456Z",
     "iopub.status.busy": "2024-11-07T08:39:00.467012Z",
     "iopub.status.idle": "2024-11-07T08:39:00.482517Z",
     "shell.execute_reply": "2024-11-07T08:39:00.481427Z"
    },
    "papermill": {
     "duration": 0.034032,
     "end_time": "2024-11-07T08:39:00.485147",
     "exception": false,
     "start_time": "2024-11-07T08:39:00.451115",
     "status": "completed"
    },
    "tags": []
   },
   "outputs": [],
   "source": [
    "# Set ids as PassengerId and predict survival \n",
    "ids = test_data['PassengerId']\n",
    "predictions = gbk.predict(test_data.drop('PassengerId', axis=1))\n",
    "\n",
    "# Set the output as a dataframe and convert to csv file named submission.csv\n",
    "output = pd.DataFrame({ 'PassengerId' : ids, 'Survived': predictions })\n",
    "output.to_csv('submission.csv', index=False)"
   ]
  }
 ],
 "metadata": {
  "kaggle": {
   "accelerator": "none",
   "dataSources": [
    {
     "databundleVersionId": 26502,
     "sourceId": 3136,
     "sourceType": "competition"
    }
   ],
   "dockerImageVersionId": 30786,
   "isGpuEnabled": false,
   "isInternetEnabled": true,
   "language": "python",
   "sourceType": "notebook"
  },
  "kernelspec": {
   "display_name": "Python 3",
   "language": "python",
   "name": "python3"
  },
  "language_info": {
   "codemirror_mode": {
    "name": "ipython",
    "version": 3
   },
   "file_extension": ".py",
   "mimetype": "text/x-python",
   "name": "python",
   "nbconvert_exporter": "python",
   "pygments_lexer": "ipython3",
   "version": "3.10.14"
  },
  "papermill": {
   "default_parameters": {},
   "duration": 12.615,
   "end_time": "2024-11-07T08:39:01.220915",
   "environment_variables": {},
   "exception": null,
   "input_path": "__notebook__.ipynb",
   "output_path": "__notebook__.ipynb",
   "parameters": {},
   "start_time": "2024-11-07T08:38:48.605915",
   "version": "2.6.0"
  }
 },
 "nbformat": 4,
 "nbformat_minor": 5
}
